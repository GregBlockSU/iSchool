{
 "cells": [
  {
   "cell_type": "code",
   "execution_count": 4,
   "id": "b719a799-a9d8-4133-9bfa-964356169baa",
   "metadata": {},
   "outputs": [
    {
     "name": "stdout",
     "output_type": "stream",
     "text": [
      "hello\n"
     ]
    }
   ],
   "source": [
    "#2 # 2 in spark\n",
    "# Create a new Spark notebook called labd.ipynb. Write (or copy and edit) Spark code to \n",
    "# set up the Spark session. Make sure your Spark session supports Minio access and \n",
    "# include the hadoop-aws Spark Jar package. Provide a screenshot of your code and the output.\n",
    "\n",
    "import pyspark\n",
    "from pyspark.sql import SparkSession\n",
    "print(\"hello\")"
   ]
  },
  {
   "cell_type": "code",
   "execution_count": 5,
   "id": "ff3d8f2b-565b-4ddd-ad62-8e3a799301a6",
   "metadata": {},
   "outputs": [
    {
     "name": "stdout",
     "output_type": "stream",
     "text": [
      "http://minio:9000\n"
     ]
    }
   ],
   "source": [
    "# MINIO CONFIGURATION\n",
    "s3_host = \"minio\"\n",
    "s3_url = f\"http://{s3_host}:9000\"\n",
    "s3_key = \"minio\"\n",
    "s3_secret = \"SU2orange!\"\n",
    "s3_bucket = \"labd\"\n",
    "print(s3_url)"
   ]
  },
  {
   "cell_type": "code",
   "execution_count": 6,
   "id": "10bc3677-a77d-4ed9-b137-15708d0527dc",
   "metadata": {},
   "outputs": [
    {
     "name": "stderr",
     "output_type": "stream",
     "text": [
      "WARNING: An illegal reflective access operation has occurred\n",
      "WARNING: Illegal reflective access by org.apache.spark.unsafe.Platform (file:/usr/local/spark-3.1.2-bin-hadoop3.2/jars/spark-unsafe_2.12-3.1.2.jar) to constructor java.nio.DirectByteBuffer(long,int)\n",
      "WARNING: Please consider reporting this to the maintainers of org.apache.spark.unsafe.Platform\n",
      "WARNING: Use --illegal-access=warn to enable warnings of further illegal reflective access operations\n",
      "WARNING: All illegal access operations will be denied in a future release\n"
     ]
    },
    {
     "name": "stdout",
     "output_type": "stream",
     "text": [
      ":: loading settings :: url = jar:file:/usr/local/spark-3.1.2-bin-hadoop3.2/jars/ivy-2.4.0.jar!/org/apache/ivy/core/settings/ivysettings.xml\n"
     ]
    },
    {
     "name": "stderr",
     "output_type": "stream",
     "text": [
      "Ivy Default Cache set to: /home/jovyan/.ivy2/cache\n",
      "The jars for the packages stored in: /home/jovyan/.ivy2/jars\n",
      "org.apache.hadoop#hadoop-aws added as a dependency\n",
      ":: resolving dependencies :: org.apache.spark#spark-submit-parent-76d7fb8b-0c74-4ffe-aa6f-d60152a890b3;1.0\n",
      "\tconfs: [default]\n",
      "\tfound org.apache.hadoop#hadoop-aws;3.1.2 in central\n",
      "\tfound com.amazonaws#aws-java-sdk-bundle;1.11.271 in central\n",
      ":: resolution report :: resolve 302ms :: artifacts dl 7ms\n",
      "\t:: modules in use:\n",
      "\tcom.amazonaws#aws-java-sdk-bundle;1.11.271 from central in [default]\n",
      "\torg.apache.hadoop#hadoop-aws;3.1.2 from central in [default]\n",
      "\t---------------------------------------------------------------------\n",
      "\t|                  |            modules            ||   artifacts   |\n",
      "\t|       conf       | number| search|dwnlded|evicted|| number|dwnlded|\n",
      "\t---------------------------------------------------------------------\n",
      "\t|      default     |   2   |   0   |   0   |   0   ||   2   |   0   |\n",
      "\t---------------------------------------------------------------------\n",
      ":: retrieving :: org.apache.spark#spark-submit-parent-76d7fb8b-0c74-4ffe-aa6f-d60152a890b3\n",
      "\tconfs: [default]\n",
      "\t0 artifacts copied, 2 already retrieved (0kB/8ms)\n",
      "23/01/26 22:58:23 WARN NativeCodeLoader: Unable to load native-hadoop library for your platform... using builtin-java classes where applicable\n",
      "Using Spark's default log4j profile: org/apache/spark/log4j-defaults.properties\n",
      "Setting default log level to \"WARN\".\n",
      "To adjust logging level use sc.setLogLevel(newLevel). For SparkR, use setLogLevel(newLevel).\n"
     ]
    },
    {
     "name": "stdout",
     "output_type": "stream",
     "text": [
      "labd\n"
     ]
    }
   ],
   "source": [
    "# Spark init\n",
    "spark = SparkSession.builder \\\n",
    "    .master(\"local\") \\\n",
    "    .appName('jupyter-pyspark') \\\n",
    "    .config(\"spark.jars.packages\",\"org.apache.hadoop:hadoop-aws:3.1.2\")\\\n",
    "    .config(\"spark.hadoop.fs.s3a.endpoint\", s3_url) \\\n",
    "    .config(\"spark.hadoop.fs.s3a.access.key\", s3_key) \\\n",
    "    .config(\"spark.hadoop.fs.s3a.secret.key\", s3_secret) \\\n",
    "    .config(\"spark.hadoop.fs.s3a.fast.upload\", True) \\\n",
    "    .config(\"spark.hadoop.fs.s3a.path.style.access\", True) \\\n",
    "    .config(\"spark.hadoop.fs.s3a.impl\", \"org.apache.hadoop.fs.s3a.S3AFileSystem\") \\\n",
    "    .getOrCreate()\n",
    "sc = spark.sparkContext\n",
    "print(s3_bucket)\n",
    "#sc.setLogLevel(\"ERROR\")"
   ]
  },
  {
   "cell_type": "code",
   "execution_count": 7,
   "id": "b46ce13f-67d5-4f5c-91ff-45fea0d0fe0f",
   "metadata": {},
   "outputs": [
    {
     "name": "stdout",
     "output_type": "stream",
     "text": [
      "hello\n",
      "s3a://labd/logs/*.log\n"
     ]
    },
    {
     "name": "stderr",
     "output_type": "stream",
     "text": [
      "23/01/26 22:58:36 WARN MetricsConfig: Cannot locate configuration: tried hadoop-metrics2-s3a-file-system.properties,hadoop-metrics2.properties\n",
      "[Stage 0:>                                                          (0 + 1) / 1]\r"
     ]
    },
    {
     "name": "stdout",
     "output_type": "stream",
     "text": [
      "+--------------------+\n",
      "|               value|\n",
      "+--------------------+\n",
      "|#Software: Micros...|\n",
      "|       #Version: 1.0|\n",
      "|#Date: 2016-02-11...|\n",
      "|#Fields: date tim...|\n",
      "|2016-02-11 17:16:...|\n",
      "|2016-02-11 17:16:...|\n",
      "|2016-02-11 17:16:...|\n",
      "|2016-02-11 17:16:...|\n",
      "|2016-02-11 17:16:...|\n",
      "|2016-02-11 17:16:...|\n",
      "|2016-02-11 17:16:...|\n",
      "|2016-02-11 17:16:...|\n",
      "|2016-02-11 17:16:...|\n",
      "|2016-02-11 17:16:...|\n",
      "|2016-02-11 17:16:...|\n",
      "|2016-02-11 17:16:...|\n",
      "|2016-02-11 17:16:...|\n",
      "|2016-02-11 17:16:...|\n",
      "|2016-02-11 17:16:...|\n",
      "|2016-02-11 17:16:...|\n",
      "+--------------------+\n",
      "only showing top 20 rows\n",
      "\n"
     ]
    },
    {
     "name": "stderr",
     "output_type": "stream",
     "text": [
      "                                                                                \r"
     ]
    }
   ],
   "source": [
    "# 3\n",
    "# Write Spark code to load logs from Minio labd/logs into a dataframe logs1 using \n",
    "# spark.read.text. Print the schema and show 10 rows from the DataFrame. \n",
    "# Screenshot the code and output.\n",
    "s3_bucket =\"labd\"\n",
    "print(\"hello\")\n",
    "log_in = f\"s3a://{s3_bucket}/logs/*.log\"\n",
    "print(log_in)\n",
    "logs1 = spark.read.text(log_in)\n",
    "logs1.show()\n"
   ]
  },
  {
   "cell_type": "code",
   "execution_count": 8,
   "id": "8cadb700-9a7f-43d6-a425-315faa4bdbf5",
   "metadata": {},
   "outputs": [
    {
     "name": "stdout",
     "output_type": "stream",
     "text": [
      "+--------------------+\n",
      "|               value|\n",
      "+--------------------+\n",
      "|2016-02-11 17:16:...|\n",
      "|2016-02-11 17:16:...|\n",
      "|2016-02-11 17:16:...|\n",
      "|2016-02-11 17:16:...|\n",
      "|2016-02-11 17:16:...|\n",
      "|2016-02-11 17:16:...|\n",
      "|2016-02-11 17:16:...|\n",
      "|2016-02-11 17:16:...|\n",
      "|2016-02-11 17:16:...|\n",
      "|2016-02-11 17:16:...|\n",
      "|2016-02-11 17:16:...|\n",
      "|2016-02-11 17:16:...|\n",
      "|2016-02-11 17:16:...|\n",
      "|2016-02-11 17:16:...|\n",
      "|2016-02-11 17:16:...|\n",
      "|2016-02-11 17:16:...|\n",
      "|2016-02-11 17:16:...|\n",
      "|2016-02-11 17:16:...|\n",
      "|2016-02-11 17:16:...|\n",
      "|2016-02-11 17:16:...|\n",
      "+--------------------+\n",
      "only showing top 20 rows\n",
      "\n"
     ]
    }
   ],
   "source": [
    "#4 \n",
    "# We need to remove the rows with # in front of them, as these are comments in \n",
    "# the web server log files. Use the filter() function to do this, and save the \n",
    "# results into DataFrame logs2. Show the code and output in your screenshot.\n",
    "\n",
    "logs2 = logs1.filter(~logs1.value.startswith(\"#\"))\n",
    "logs2.show()\n"
   ]
  },
  {
   "cell_type": "code",
   "execution_count": 9,
   "id": "cbc73458-0b80-424d-b694-9d3aabbf67a0",
   "metadata": {},
   "outputs": [
    {
     "name": "stderr",
     "output_type": "stream",
     "text": [
      "23/01/26 23:00:08 WARN AbstractS3ACommitterFactory: Using standard FileOutputCommitter to commit work. This is slow and potentially unsafe.\n",
      "23/01/26 23:00:09 WARN AbstractS3ACommitterFactory: Using standard FileOutputCommitter to commit work. This is slow and potentially unsafe.\n",
      "                                                                                \r"
     ]
    },
    {
     "name": "stdout",
     "output_type": "stream",
     "text": [
      "s3a://labd/logs/logs_no_header\n"
     ]
    }
   ],
   "source": [
    "#5\n",
    "# Write back your logs2 to Minio. Use the text format and call the file \n",
    "# logs-no-header. Include a screenshot of the code and output.\n",
    "\n",
    "logs_out = f\"s3a://{s3_bucket}/logs/logs_no_header\"\n",
    "logs2.write.text(logs_out)\n",
    "print(logs_out)"
   ]
  },
  {
   "cell_type": "code",
   "execution_count": 12,
   "id": "9fb23298-d7c8-4dca-b229-c285ed9dcb02",
   "metadata": {},
   "outputs": [
    {
     "name": "stdout",
     "output_type": "stream",
     "text": [
      "root\n",
      " |-- _c0: string (nullable = true)\n",
      " |-- _c1: string (nullable = true)\n",
      " |-- _c2: string (nullable = true)\n",
      " |-- _c3: string (nullable = true)\n",
      " |-- _c4: string (nullable = true)\n",
      " |-- _c5: string (nullable = true)\n",
      " |-- _c6: integer (nullable = true)\n",
      " |-- _c7: string (nullable = true)\n",
      " |-- _c8: string (nullable = true)\n",
      " |-- _c9: string (nullable = true)\n",
      " |-- _c10: string (nullable = true)\n",
      " |-- _c11: integer (nullable = true)\n",
      " |-- _c12: integer (nullable = true)\n",
      " |-- _c13: integer (nullable = true)\n",
      " |-- _c14: integer (nullable = true)\n",
      "\n"
     ]
    }
   ],
   "source": [
    "#6\n",
    "# Read in the logs-no-header, this time using csv to delimit on a space into logs3. Add headers \n",
    "# (date,time, serverip, method, uri, querystring, port, username, clientip, useragent, \n",
    "# referrer, statuscode), and provide an output of the schema and the first couple of rows \n",
    "# from the dataframe itself in the screenshot.\n",
    "logs3 = spark.read.option(\"sep\", \" \").option(\"inferSchema\", True).csv(logs_out)\n",
    "logs3.printSchema()\n",
    "#.toDF(\"date\",\"time\", \"serverip\", \"method\", \"uri\", \"querystring\", \"port\", \"username\", \"clientip\", \"useragent\",\"referrer\", \"statuscode\", _, _, _)\\\n",
    "#.select(\"date\",\"time\", \"serverip\", \"method\", \"uri\", \"querystring\", \"port\", \"username\", \"clientip\", \"useragent\", \"referrer\", \"statuscode\")\n",
    "#logs3.show()\n",
    "#logs3.printSchema()"
   ]
  },
  {
   "cell_type": "code",
   "execution_count": 13,
   "id": "283e9625-6989-4422-9484-0a4f7c69dacd",
   "metadata": {},
   "outputs": [
    {
     "name": "stdout",
     "output_type": "stream",
     "text": [
      "+----------+--------+--------------+------+--------------------+-----------+----+--------+-----------+--------------------+--------------------+----------+\n",
      "|      date|    time|      serverip|method|                 uri|querystring|port|username|   clientip|           useragent|            referrer|statuscode|\n",
      "+----------+--------+--------------+------+--------------------+-----------+----+--------+-----------+--------------------+--------------------+----------+\n",
      "|2016-02-11|17:16:13|128.230.247.37|   GET|                   /|          -|  80|       -|215.82.23.2|Mozilla/5.0+(Wind...|                   -|       200|\n",
      "|2016-02-11|17:16:13|128.230.247.37|   GET|/Content/jquery-u...|          -|  80|       -|215.82.23.2|Mozilla/5.0+(Wind...|http://group0.ist...|       200|\n",
      "|2016-02-11|17:16:13|128.230.247.37|   GET|/Plugins/Widgets....|          -|  80|       -|215.82.23.2|Mozilla/5.0+(Wind...|http://group0.ist...|       200|\n",
      "|2016-02-11|17:16:13|128.230.247.37|   GET|/Plugins/Widgets....|          -|  80|       -|215.82.23.2|Mozilla/5.0+(Wind...|http://group0.ist...|       200|\n",
      "|2016-02-11|17:16:13|128.230.247.37|   GET|/Scripts/jquery.v...|          -|  80|       -|215.82.23.2|Mozilla/5.0+(Wind...|http://group0.ist...|       200|\n",
      "|2016-02-11|17:16:13|128.230.247.37|   GET|/Scripts/jquery.v...|          -|  80|       -|215.82.23.2|Mozilla/5.0+(Wind...|http://group0.ist...|       200|\n",
      "|2016-02-11|17:16:13|128.230.247.37|   GET|/Themes/DefaultCl...|          -|  80|       -|215.82.23.2|Mozilla/5.0+(Wind...|http://group0.ist...|       200|\n",
      "|2016-02-11|17:16:13|128.230.247.37|   GET|/Scripts/jquery-m...|          -|  80|       -|215.82.23.2|Mozilla/5.0+(Wind...|http://group0.ist...|       200|\n",
      "|2016-02-11|17:16:13|128.230.247.37|   GET|/Scripts/public.c...|          -|  80|       -|215.82.23.2|Mozilla/5.0+(Wind...|http://group0.ist...|       200|\n",
      "|2016-02-11|17:16:13|128.230.247.37|   GET|/Scripts/public.a...|          -|  80|       -|215.82.23.2|Mozilla/5.0+(Wind...|http://group0.ist...|       200|\n",
      "|2016-02-11|17:16:13|128.230.247.37|   GET|/Plugins/Widgets....|          -|  80|       -|215.82.23.2|Mozilla/5.0+(Wind...|http://group0.ist...|       200|\n",
      "|2016-02-11|17:16:13|128.230.247.37|   GET|/Scripts/jquery-u...|          -|  80|       -|215.82.23.2|Mozilla/5.0+(Wind...|http://group0.ist...|       200|\n",
      "|2016-02-11|17:16:13|128.230.247.37|   GET|/Scripts/jquery-1...|          -|  80|       -|215.82.23.2|Mozilla/5.0+(Wind...|http://group0.ist...|       200|\n",
      "|2016-02-11|17:16:13|128.230.247.37|   GET|/content/images/t...|          -|  80|       -|215.82.23.2|Mozilla/5.0+(Wind...|http://group0.ist...|       200|\n",
      "|2016-02-11|17:16:13|128.230.247.37|   GET|/Themes/DefaultCl...|          -|  80|       -|215.82.23.2|Mozilla/5.0+(Wind...|http://group0.ist...|       200|\n",
      "|2016-02-11|17:16:13|128.230.247.37|   GET|/content/images/t...|          -|  80|       -|215.82.23.2|Mozilla/5.0+(Wind...|http://group0.ist...|       200|\n",
      "|2016-02-11|17:16:13|128.230.247.37|   GET|/content/images/t...|          -|  80|       -|215.82.23.2|Mozilla/5.0+(Wind...|http://group0.ist...|       200|\n",
      "|2016-02-11|17:16:13|128.230.247.37|   GET|/content/images/t...|          -|  80|       -|215.82.23.2|Mozilla/5.0+(Wind...|http://group0.ist...|       200|\n",
      "|2016-02-11|17:16:13|128.230.247.37|   GET|/content/images/t...|          -|  80|       -|215.82.23.2|Mozilla/5.0+(Wind...|http://group0.ist...|       200|\n",
      "|2016-02-11|17:16:13|128.230.247.37|   GET|/content/images/t...|          -|  80|       -|215.82.23.2|Mozilla/5.0+(Wind...|http://group0.ist...|       200|\n",
      "+----------+--------+--------------+------+--------------------+-----------+----+--------+-----------+--------------------+--------------------+----------+\n",
      "only showing top 20 rows\n",
      "\n"
     ]
    }
   ],
   "source": [
    "logs4 = spark.read.option(\"sep\", \" \").option(\"inferSchema\", True).csv(logs_out)\\\n",
    ".toDF(\"date\",\"time\", \"serverip\", \"method\", \"uri\", \"querystring\", \"port\", \"username\", \"clientip\", \"useragent\",\"referrer\", \"statuscode\", _, _, _)\\\n",
    ".select(\"date\",\"time\", \"serverip\", \"method\", \"uri\", \"querystring\", \"port\", \"username\", \"clientip\", \"useragent\", \"referrer\", \"statuscode\")\n",
    "logs4.show()\n"
   ]
  },
  {
   "cell_type": "code",
   "execution_count": 14,
   "id": "b36adfa6-b9ac-4fd7-93a1-35fe049fd854",
   "metadata": {},
   "outputs": [
    {
     "name": "stdout",
     "output_type": "stream",
     "text": [
      "root\n",
      " |-- geography: struct (nullable = true)\n",
      " |    |-- city: string (nullable = true)\n",
      " |    |-- country: string (nullable = true)\n",
      " |    |-- state: string (nullable = true)\n",
      " |-- ip: string (nullable = true)\n",
      " |-- location: struct (nullable = true)\n",
      " |    |-- lat: double (nullable = true)\n",
      " |    |-- lng: double (nullable = true)\n",
      "\n",
      "+--------------------+---------------+--------------------+\n",
      "|           geography|             ip|            location|\n",
      "+--------------------+---------------+--------------------+\n",
      "|   {Dulles, USA, VA}|  172.189.252.8|{38.955855, -77.4...|\n",
      "| {Columbus, USA, OH}|    215.82.23.2|{39.961176, -82.9...|\n",
      "|{Cleveland, USA, OH}|    98.29.25.44|{41.49932, -81.69...|\n",
      "| {Freeport, USA, NY}|  68.199.40.156|{40.657602, -73.5...|\n",
      "|{Salt Lake City, ...|155.100.169.152|{40.760779, -111....|\n",
      "|   {Dallas, USA, TX}|   38.68.15.223|{32.776664, -96.7...|\n",
      "|    {Tampa, USA, FL}|   70.209.14.54|{27.950575, -82.4...|\n",
      "|{Arlington, USA, VA}|   74.111.6.173|{38.87997, -77.10...|\n",
      "| {Syracuse, USA, NY}|128.230.122.180|{43.048122, -76.1...|\n",
      "| {New York, USA, NY}|128.122.140.238|{40.712784, -74.0...|\n",
      "+--------------------+---------------+--------------------+\n",
      "only showing top 10 rows\n",
      "\n"
     ]
    }
   ],
   "source": [
    "#7 \n",
    "# Let's handle the IP address lookup data. Write Spark code to load the iplookup.json \n",
    "# file from Minio into the DataFrame ips1. Show the first 10 rows and print \n",
    "# the schema for a screenshot to include code and output.\n",
    "\n",
    "iplookup_in = f\"s3a://{s3_bucket}/iplookup/iplookup.json\"\n",
    "ips1 = spark.read.option(\"multiline\", True).json(iplookup_in)\n",
    "ips1.printSchema()\n",
    "ips1.show(10)"
   ]
  },
  {
   "cell_type": "code",
   "execution_count": 19,
   "id": "0595d17b-b930-4eb1-9d51-74be3ab66a8a",
   "metadata": {},
   "outputs": [
    {
     "name": "stdout",
     "output_type": "stream",
     "text": [
      "+---------------+--------------+-----+-------+------------+-----------+\n",
      "|             ip|          city|state|country|location.lng|        lng|\n",
      "+---------------+--------------+-----+-------+------------+-----------+\n",
      "|  172.189.252.8|        Dulles|   VA|    USA|  -77.447819| -77.447819|\n",
      "|    215.82.23.2|      Columbus|   OH|    USA|  -82.998794| -82.998794|\n",
      "|    98.29.25.44|     Cleveland|   OH|    USA|  -81.694361| -81.694361|\n",
      "|  68.199.40.156|      Freeport|   NY|    USA|  -73.583184| -73.583184|\n",
      "|155.100.169.152|Salt Lake City|   UT|    USA| -111.891047|-111.891047|\n",
      "|   38.68.15.223|        Dallas|   TX|    USA|  -96.796988| -96.796988|\n",
      "|   70.209.14.54|         Tampa|   FL|    USA|  -82.457178| -82.457178|\n",
      "|   74.111.6.173|     Arlington|   VA|    USA|   -77.10677|  -77.10677|\n",
      "|128.230.122.180|      Syracuse|   NY|    USA|  -76.147424| -76.147424|\n",
      "|128.122.140.238|      New York|   NY|    USA|  -74.005941| -74.005941|\n",
      "| 56.216.127.219|       Raleigh|   NC|    USA|  -78.638179| -78.638179|\n",
      "| 54.114.107.209|   Jersey City|   NJ|    USA|  -74.077642| -74.077642|\n",
      "|   74.111.18.59|      Syracuse|   NY|    USA|  -76.147424| -76.147424|\n",
      "|    8.37.70.170|   Los Angeles|   CA|    USA| -118.243685|-118.243685|\n",
      "|     8.37.70.77|   Los Angeles|   CA|    USA| -118.243685|-118.243685|\n",
      "|    8.37.70.112|   Los Angeles|   CA|    USA| -118.243685|-118.243685|\n",
      "|    8.37.70.226|   Los Angeles|   CA|    USA| -118.243685|-118.243685|\n",
      "|     8.37.70.99|   Los Angeles|   CA|    USA| -118.243685|-118.243685|\n",
      "|     8.37.71.43|   Los Angeles|   CA|    USA| -118.243685|-118.243685|\n",
      "|     8.37.71.25|   Los Angeles|   CA|    USA| -118.243685|-118.243685|\n",
      "+---------------+--------------+-----+-------+------------+-----------+\n",
      "only showing top 20 rows\n",
      "\n"
     ]
    }
   ],
   "source": [
    "#8 \n",
    "# We need to flatten the nested JSON data. Use the select() function with dot notation to \n",
    "# do this, saving the DataFrame as ips2. Provide a screenshot of the schema and \n",
    "# output of the first few rows.\n",
    "\n",
    "#ips2 = ips2.select(\"ip\", \"geography.city\",\"geography.state\",\"geography.country\", \"location.lat\", \"location.lng\")\n",
    "ips2 = ips1.select(\"ip\", \"geography.city\",\"geography.state\",\"geography.country\", ips1.location.lng, ips1.location.lng.alias(\"lng\"))\n",
    "ips2.show()"
   ]
  },
  {
   "cell_type": "code",
   "execution_count": 21,
   "id": "bce8e8db-4702-4797-979c-7f748241fd22",
   "metadata": {},
   "outputs": [
    {
     "name": "stdout",
     "output_type": "stream",
     "text": [
      "root\n",
      " |-- ip: string (nullable = true)\n",
      " |-- city: string (nullable = true)\n",
      " |-- state: string (nullable = true)\n",
      " |-- country: string (nullable = true)\n",
      " |-- location.lng: double (nullable = true)\n",
      " |-- lng: double (nullable = true)\n",
      " |-- date: string (nullable = true)\n",
      " |-- time: string (nullable = true)\n",
      " |-- serverip: string (nullable = true)\n",
      " |-- method: string (nullable = true)\n",
      " |-- uri: string (nullable = true)\n",
      " |-- querystring: string (nullable = true)\n",
      " |-- port: integer (nullable = true)\n",
      " |-- username: string (nullable = true)\n",
      " |-- clientip: string (nullable = true)\n",
      " |-- useragent: string (nullable = true)\n",
      " |-- referrer: string (nullable = true)\n",
      " |-- statuscode: integer (nullable = true)\n",
      "\n",
      "+---------------+--------+-----+-------+------------+----------+----------+--------+--------------+------+--------------------+-----------+----+--------+---------------+--------------------+--------------------+----------+\n",
      "|             ip|    city|state|country|location.lng|       lng|      date|    time|      serverip|method|                 uri|querystring|port|username|       clientip|           useragent|            referrer|statuscode|\n",
      "+---------------+--------+-----+-------+------------+----------+----------+--------+--------------+------+--------------------+-----------+----+--------+---------------+--------------------+--------------------+----------+\n",
      "|    215.82.23.2|Columbus|   OH|    USA|  -82.998794|-82.998794|2016-02-11|17:16:13|128.230.247.37|   GET|                   /|          -|  80|       -|    215.82.23.2|Mozilla/5.0+(Wind...|                   -|       200|\n",
      "|    215.82.23.2|Columbus|   OH|    USA|  -82.998794|-82.998794|2016-02-11|17:16:13|128.230.247.37|   GET|/Content/jquery-u...|          -|  80|       -|    215.82.23.2|Mozilla/5.0+(Wind...|http://group0.ist...|       200|\n",
      "|    215.82.23.2|Columbus|   OH|    USA|  -82.998794|-82.998794|2016-02-11|17:16:13|128.230.247.37|   GET|/Plugins/Widgets....|          -|  80|       -|    215.82.23.2|Mozilla/5.0+(Wind...|http://group0.ist...|       200|\n",
      "|    215.82.23.2|Columbus|   OH|    USA|  -82.998794|-82.998794|2016-02-11|17:16:13|128.230.247.37|   GET|/Plugins/Widgets....|          -|  80|       -|    215.82.23.2|Mozilla/5.0+(Wind...|http://group0.ist...|       200|\n",
      "|    215.82.23.2|Columbus|   OH|    USA|  -82.998794|-82.998794|2016-02-11|17:16:13|128.230.247.37|   GET|/Scripts/jquery.v...|          -|  80|       -|    215.82.23.2|Mozilla/5.0+(Wind...|http://group0.ist...|       200|\n",
      "|    215.82.23.2|Columbus|   OH|    USA|  -82.998794|-82.998794|2016-02-11|17:16:13|128.230.247.37|   GET|/Scripts/jquery.v...|          -|  80|       -|    215.82.23.2|Mozilla/5.0+(Wind...|http://group0.ist...|       200|\n",
      "|    215.82.23.2|Columbus|   OH|    USA|  -82.998794|-82.998794|2016-02-11|17:16:13|128.230.247.37|   GET|/Themes/DefaultCl...|          -|  80|       -|    215.82.23.2|Mozilla/5.0+(Wind...|http://group0.ist...|       200|\n",
      "|    215.82.23.2|Columbus|   OH|    USA|  -82.998794|-82.998794|2016-02-11|17:16:13|128.230.247.37|   GET|/Scripts/jquery-m...|          -|  80|       -|    215.82.23.2|Mozilla/5.0+(Wind...|http://group0.ist...|       200|\n",
      "|    215.82.23.2|Columbus|   OH|    USA|  -82.998794|-82.998794|2016-02-11|17:16:13|128.230.247.37|   GET|/Scripts/public.c...|          -|  80|       -|    215.82.23.2|Mozilla/5.0+(Wind...|http://group0.ist...|       200|\n",
      "|    215.82.23.2|Columbus|   OH|    USA|  -82.998794|-82.998794|2016-02-11|17:16:13|128.230.247.37|   GET|/Scripts/public.a...|          -|  80|       -|    215.82.23.2|Mozilla/5.0+(Wind...|http://group0.ist...|       200|\n",
      "|    215.82.23.2|Columbus|   OH|    USA|  -82.998794|-82.998794|2016-02-11|17:16:13|128.230.247.37|   GET|/Plugins/Widgets....|          -|  80|       -|    215.82.23.2|Mozilla/5.0+(Wind...|http://group0.ist...|       200|\n",
      "|    215.82.23.2|Columbus|   OH|    USA|  -82.998794|-82.998794|2016-02-11|17:16:13|128.230.247.37|   GET|/Scripts/jquery-u...|          -|  80|       -|    215.82.23.2|Mozilla/5.0+(Wind...|http://group0.ist...|       200|\n",
      "|    215.82.23.2|Columbus|   OH|    USA|  -82.998794|-82.998794|2016-02-11|17:16:13|128.230.247.37|   GET|/Scripts/jquery-1...|          -|  80|       -|    215.82.23.2|Mozilla/5.0+(Wind...|http://group0.ist...|       200|\n",
      "|    215.82.23.2|Columbus|   OH|    USA|  -82.998794|-82.998794|2016-02-11|17:16:13|128.230.247.37|   GET|/content/images/t...|          -|  80|       -|    215.82.23.2|Mozilla/5.0+(Wind...|http://group0.ist...|       200|\n",
      "|    215.82.23.2|Columbus|   OH|    USA|  -82.998794|-82.998794|2016-02-11|17:16:13|128.230.247.37|   GET|/Themes/DefaultCl...|          -|  80|       -|    215.82.23.2|Mozilla/5.0+(Wind...|http://group0.ist...|       200|\n",
      "|    215.82.23.2|Columbus|   OH|    USA|  -82.998794|-82.998794|2016-02-11|17:16:13|128.230.247.37|   GET|/content/images/t...|          -|  80|       -|    215.82.23.2|Mozilla/5.0+(Wind...|http://group0.ist...|       200|\n",
      "|    215.82.23.2|Columbus|   OH|    USA|  -82.998794|-82.998794|2016-02-11|17:16:13|128.230.247.37|   GET|/content/images/t...|          -|  80|       -|    215.82.23.2|Mozilla/5.0+(Wind...|http://group0.ist...|       200|\n",
      "|    215.82.23.2|Columbus|   OH|    USA|  -82.998794|-82.998794|2016-02-11|17:16:13|128.230.247.37|   GET|/content/images/t...|          -|  80|       -|    215.82.23.2|Mozilla/5.0+(Wind...|http://group0.ist...|       200|\n",
      "|    215.82.23.2|Columbus|   OH|    USA|  -82.998794|-82.998794|2016-02-11|17:16:13|128.230.247.37|   GET|/content/images/t...|          -|  80|       -|    215.82.23.2|Mozilla/5.0+(Wind...|http://group0.ist...|       200|\n",
      "|    215.82.23.2|Columbus|   OH|    USA|  -82.998794|-82.998794|2016-02-11|17:16:13|128.230.247.37|   GET|/content/images/t...|          -|  80|       -|    215.82.23.2|Mozilla/5.0+(Wind...|http://group0.ist...|       200|\n",
      "|    215.82.23.2|Columbus|   OH|    USA|  -82.998794|-82.998794|2016-02-11|17:16:13|128.230.247.37|   GET|/content/images/t...|          -|  80|       -|    215.82.23.2|Mozilla/5.0+(Wind...|http://group0.ist...|       200|\n",
      "|    215.82.23.2|Columbus|   OH|    USA|  -82.998794|-82.998794|2016-02-11|17:16:13|128.230.247.37|   GET|/content/images/t...|          -|  80|       -|    215.82.23.2|Mozilla/5.0+(Wind...|http://group0.ist...|       200|\n",
      "|    215.82.23.2|Columbus|   OH|    USA|  -82.998794|-82.998794|2016-02-11|17:16:13|128.230.247.37|   GET|/Plugins/Widgets....|          -|  80|       -|    215.82.23.2|Mozilla/5.0+(Wind...|http://group0.ist...|       200|\n",
      "|    215.82.23.2|Columbus|   OH|    USA|  -82.998794|-82.998794|2016-02-11|17:16:13|128.230.247.37|   GET|/Themes/DefaultCl...|          -|  80|       -|    215.82.23.2|Mozilla/5.0+(Wind...|http://group0.ist...|       200|\n",
      "|    215.82.23.2|Columbus|   OH|    USA|  -82.998794|-82.998794|2016-02-11|17:16:13|128.230.247.37|   GET|/Themes/DefaultCl...|          -|  80|       -|    215.82.23.2|Mozilla/5.0+(Wind...|http://group0.ist...|       200|\n",
      "|    215.82.23.2|Columbus|   OH|    USA|  -82.998794|-82.998794|2016-02-11|17:16:13|128.230.247.37|   GET|/Themes/DefaultCl...|          -|  80|       -|    215.82.23.2|Mozilla/5.0+(Wind...|http://group0.ist...|       200|\n",
      "|    215.82.23.2|Columbus|   OH|    USA|  -82.998794|-82.998794|2016-02-11|17:16:13|128.230.247.37|   GET|/Themes/DefaultCl...|          -|  80|       -|    215.82.23.2|Mozilla/5.0+(Wind...|http://group0.ist...|       200|\n",
      "|    215.82.23.2|Columbus|   OH|    USA|  -82.998794|-82.998794|2016-02-11|17:16:13|128.230.247.37|   GET|/Themes/DefaultCl...|          -|  80|       -|    215.82.23.2|Mozilla/5.0+(Wind...|http://group0.ist...|       200|\n",
      "|    215.82.23.2|Columbus|   OH|    USA|  -82.998794|-82.998794|2016-02-11|17:16:13|128.230.247.37|   GET|/Content/jquery-u...|          -|  80|       -|    215.82.23.2|Mozilla/5.0+(Wind...|http://group0.ist...|       200|\n",
      "|    215.82.23.2|Columbus|   OH|    USA|  -82.998794|-82.998794|2016-02-11|17:16:13|128.230.247.37|   GET|/Themes/DefaultCl...|          -|  80|       -|    215.82.23.2|Mozilla/5.0+(Wind...|http://group0.ist...|       200|\n",
      "|    215.82.23.2|Columbus|   OH|    USA|  -82.998794|-82.998794|2016-02-11|17:16:13|128.230.247.37|   GET|        /favicon.ico|          -|  80|       -|    215.82.23.2|Mozilla/5.0+(Wind...|                   -|       200|\n",
      "|    215.82.23.2|Columbus|   OH|    USA|  -82.998794|-82.998794|2016-02-11|17:16:13|128.230.247.37|   GET|/content/images/t...|          -|  80|       -|    215.82.23.2|Mozilla/5.0+(Wind...|http://group0.ist...|       200|\n",
      "|    215.82.23.2|Columbus|   OH|    USA|  -82.998794|-82.998794|2016-02-11|17:16:17|128.230.247.37|   GET|           /desktops|          -|  80|       -|    215.82.23.2|Mozilla/5.0+(Wind...|http://group0.ist...|       200|\n",
      "|    215.82.23.2|Columbus|   OH|    USA|  -82.998794|-82.998794|2016-02-11|17:16:17|128.230.247.37|   GET|/content/images/t...|          -|  80|       -|    215.82.23.2|Mozilla/5.0+(Wind...|http://group0.ist...|       200|\n",
      "|    215.82.23.2|Columbus|   OH|    USA|  -82.998794|-82.998794|2016-02-11|17:16:17|128.230.247.37|   GET|/content/images/t...|          -|  80|       -|    215.82.23.2|Mozilla/5.0+(Wind...|http://group0.ist...|       200|\n",
      "|    215.82.23.2|Columbus|   OH|    USA|  -82.998794|-82.998794|2016-02-11|17:16:17|128.230.247.37|   GET|/Themes/DefaultCl...|          -|  80|       -|    215.82.23.2|Mozilla/5.0+(Wind...|http://group0.ist...|       200|\n",
      "|    215.82.23.2|Columbus|   OH|    USA|  -82.998794|-82.998794|2016-02-11|17:16:17|128.230.247.37|   GET|/Themes/DefaultCl...|          -|  80|       -|    215.82.23.2|Mozilla/5.0+(Wind...|http://group0.ist...|       200|\n",
      "|    215.82.23.2|Columbus|   OH|    USA|  -82.998794|-82.998794|2016-02-11|17:16:19|128.230.247.37|   GET|/digital-storm-va...|          -|  80|       -|    215.82.23.2|Mozilla/5.0+(Wind...|http://group0.ist...|       200|\n",
      "|    215.82.23.2|Columbus|   OH|    USA|  -82.998794|-82.998794|2016-02-11|17:16:19|128.230.247.37|   GET|/Content/magnific...|          -|  80|       -|    215.82.23.2|Mozilla/5.0+(Wind...|http://group0.ist...|       200|\n",
      "|    215.82.23.2|Columbus|   OH|    USA|  -82.998794|-82.998794|2016-02-11|17:16:19|128.230.247.37|   GET|/Scripts/jquery.m...|          -|  80|       -|    215.82.23.2|Mozilla/5.0+(Wind...|http://group0.ist...|       200|\n",
      "|    215.82.23.2|Columbus|   OH|    USA|  -82.998794|-82.998794|2016-02-11|17:16:19|128.230.247.37|   GET|/content/images/t...|          -|  80|       -|    215.82.23.2|Mozilla/5.0+(Wind...|http://group0.ist...|       200|\n",
      "|    215.82.23.2|Columbus|   OH|    USA|  -82.998794|-82.998794|2016-02-11|17:16:19|128.230.247.37|   GET|/content/images/t...|          -|  80|       -|    215.82.23.2|Mozilla/5.0+(Wind...|http://group0.ist...|       200|\n",
      "|    215.82.23.2|Columbus|   OH|    USA|  -82.998794|-82.998794|2016-02-11|17:16:19|128.230.247.37|   GET|/Themes/DefaultCl...|          -|  80|       -|    215.82.23.2|Mozilla/5.0+(Wind...|http://group0.ist...|       200|\n",
      "|    215.82.23.2|Columbus|   OH|    USA|  -82.998794|-82.998794|2016-02-11|17:16:21|128.230.247.37|   GET|              /books|          -|  80|       -|    215.82.23.2|Mozilla/5.0+(Wind...|http://group0.ist...|       200|\n",
      "|    215.82.23.2|Columbus|   OH|    USA|  -82.998794|-82.998794|2016-02-11|17:16:21|128.230.247.37|   GET|/content/images/t...|          -|  80|       -|    215.82.23.2|Mozilla/5.0+(Wind...|http://group0.ist...|       200|\n",
      "|    215.82.23.2|Columbus|   OH|    USA|  -82.998794|-82.998794|2016-02-11|17:16:21|128.230.247.37|   GET|/content/images/t...|          -|  80|       -|    215.82.23.2|Mozilla/5.0+(Wind...|http://group0.ist...|       200|\n",
      "|    215.82.23.2|Columbus|   OH|    USA|  -82.998794|-82.998794|2016-02-11|17:16:21|128.230.247.37|   GET|/content/images/t...|          -|  80|       -|    215.82.23.2|Mozilla/5.0+(Wind...|http://group0.ist...|       200|\n",
      "|    215.82.23.2|Columbus|   OH|    USA|  -82.998794|-82.998794|2016-02-11|17:16:21|128.230.247.37|   GET|/content/images/t...|          -|  80|       -|    215.82.23.2|Mozilla/5.0+(Wind...|http://group0.ist...|       200|\n",
      "|    215.82.23.2|Columbus|   OH|    USA|  -82.998794|-82.998794|2016-02-11|17:16:23|128.230.247.37|   GET|/fahrenheit-451-b...|          -|  80|       -|    215.82.23.2|Mozilla/5.0+(Wind...|http://group0.ist...|       200|\n",
      "|    215.82.23.2|Columbus|   OH|    USA|  -82.998794|-82.998794|2016-02-11|17:16:23|128.230.247.37|   GET|/content/images/t...|          -|  80|       -|    215.82.23.2|Mozilla/5.0+(Wind...|http://group0.ist...|       200|\n",
      "|    215.82.23.2|Columbus|   OH|    USA|  -82.998794|-82.998794|2016-02-11|17:16:23|128.230.247.37|   GET|/Themes/DefaultCl...|          -|  80|       -|    215.82.23.2|Mozilla/5.0+(Wind...|http://group0.ist...|       200|\n",
      "|    215.82.23.2|Columbus|   OH|    USA|  -82.998794|-82.998794|2016-02-11|17:16:28|128.230.247.37|   GET|/pride-and-prejudice|          -|  80|       -|    215.82.23.2|Mozilla/5.0+(Wind...|http://group0.ist...|       200|\n",
      "|    215.82.23.2|Columbus|   OH|    USA|  -82.998794|-82.998794|2016-02-11|17:16:28|128.230.247.37|   GET|/content/images/t...|          -|  80|       -|    215.82.23.2|Mozilla/5.0+(Wind...|http://group0.ist...|       200|\n",
      "|128.122.140.238|New York|   NY|    USA|  -74.005941|-74.005941|2016-02-11|17:16:50|128.230.247.37|   GET|                   /|          -|  80|       -|128.122.140.238|Mozilla/5.0+(Wind...|                   -|       200|\n",
      "|128.122.140.238|New York|   NY|    USA|  -74.005941|-74.005941|2016-02-11|17:16:50|128.230.247.37|   GET|/Plugins/Widgets....|          -|  80|       -|128.122.140.238|Mozilla/5.0+(Wind...|http://group0.ist...|       200|\n",
      "|128.122.140.238|New York|   NY|    USA|  -74.005941|-74.005941|2016-02-11|17:16:50|128.230.247.37|   GET|/Content/jquery-u...|          -|  80|       -|128.122.140.238|Mozilla/5.0+(Wind...|http://group0.ist...|       200|\n",
      "|128.122.140.238|New York|   NY|    USA|  -74.005941|-74.005941|2016-02-11|17:16:50|128.230.247.37|   GET|/Scripts/jquery.v...|          -|  80|       -|128.122.140.238|Mozilla/5.0+(Wind...|http://group0.ist...|       200|\n",
      "|128.122.140.238|New York|   NY|    USA|  -74.005941|-74.005941|2016-02-11|17:16:50|128.230.247.37|   GET|/Scripts/jquery.v...|          -|  80|       -|128.122.140.238|Mozilla/5.0+(Wind...|http://group0.ist...|       200|\n",
      "|128.122.140.238|New York|   NY|    USA|  -74.005941|-74.005941|2016-02-11|17:16:50|128.230.247.37|   GET|/Plugins/Widgets....|          -|  80|       -|128.122.140.238|Mozilla/5.0+(Wind...|http://group0.ist...|       200|\n",
      "|128.122.140.238|New York|   NY|    USA|  -74.005941|-74.005941|2016-02-11|17:16:50|128.230.247.37|   GET|/Scripts/public.c...|          -|  80|       -|128.122.140.238|Mozilla/5.0+(Wind...|http://group0.ist...|       200|\n",
      "|128.122.140.238|New York|   NY|    USA|  -74.005941|-74.005941|2016-02-11|17:16:50|128.230.247.37|   GET|/Scripts/jquery-1...|          -|  80|       -|128.122.140.238|Mozilla/5.0+(Wind...|http://group0.ist...|       200|\n",
      "|128.122.140.238|New York|   NY|    USA|  -74.005941|-74.005941|2016-02-11|17:16:50|128.230.247.37|   GET|/Scripts/jquery-m...|          -|  80|       -|128.122.140.238|Mozilla/5.0+(Wind...|http://group0.ist...|       200|\n",
      "|128.122.140.238|New York|   NY|    USA|  -74.005941|-74.005941|2016-02-11|17:16:50|128.230.247.37|   GET|/Scripts/public.a...|          -|  80|       -|128.122.140.238|Mozilla/5.0+(Wind...|http://group0.ist...|       200|\n",
      "|128.122.140.238|New York|   NY|    USA|  -74.005941|-74.005941|2016-02-11|17:16:50|128.230.247.37|   GET|/Themes/DefaultCl...|          -|  80|       -|128.122.140.238|Mozilla/5.0+(Wind...|http://group0.ist...|       200|\n",
      "|128.122.140.238|New York|   NY|    USA|  -74.005941|-74.005941|2016-02-11|17:16:50|128.230.247.37|   GET|/Scripts/jquery-u...|          -|  80|       -|128.122.140.238|Mozilla/5.0+(Wind...|http://group0.ist...|       200|\n",
      "|128.122.140.238|New York|   NY|    USA|  -74.005941|-74.005941|2016-02-11|17:16:50|128.230.247.37|   GET|/Themes/DefaultCl...|          -|  80|       -|128.122.140.238|Mozilla/5.0+(Wind...|http://group0.ist...|       200|\n",
      "|128.122.140.238|New York|   NY|    USA|  -74.005941|-74.005941|2016-02-11|17:16:50|128.230.247.37|   GET|/Plugins/Widgets....|          -|  80|       -|128.122.140.238|Mozilla/5.0+(Wind...|http://group0.ist...|       200|\n",
      "|128.122.140.238|New York|   NY|    USA|  -74.005941|-74.005941|2016-02-11|17:16:50|128.230.247.37|   GET|/content/images/t...|          -|  80|       -|128.122.140.238|Mozilla/5.0+(Wind...|http://group0.ist...|       200|\n",
      "|128.122.140.238|New York|   NY|    USA|  -74.005941|-74.005941|2016-02-11|17:16:50|128.230.247.37|   GET|/content/images/t...|          -|  80|       -|128.122.140.238|Mozilla/5.0+(Wind...|http://group0.ist...|       200|\n",
      "|128.122.140.238|New York|   NY|    USA|  -74.005941|-74.005941|2016-02-11|17:16:50|128.230.247.37|   GET|/content/images/t...|          -|  80|       -|128.122.140.238|Mozilla/5.0+(Wind...|http://group0.ist...|       200|\n",
      "|128.122.140.238|New York|   NY|    USA|  -74.005941|-74.005941|2016-02-11|17:16:50|128.230.247.37|   GET|/content/images/t...|          -|  80|       -|128.122.140.238|Mozilla/5.0+(Wind...|http://group0.ist...|       200|\n",
      "|128.122.140.238|New York|   NY|    USA|  -74.005941|-74.005941|2016-02-11|17:16:50|128.230.247.37|   GET|/content/images/t...|          -|  80|       -|128.122.140.238|Mozilla/5.0+(Wind...|http://group0.ist...|       200|\n",
      "|128.122.140.238|New York|   NY|    USA|  -74.005941|-74.005941|2016-02-11|17:16:50|128.230.247.37|   GET|/content/images/t...|          -|  80|       -|128.122.140.238|Mozilla/5.0+(Wind...|http://group0.ist...|       200|\n",
      "|128.122.140.238|New York|   NY|    USA|  -74.005941|-74.005941|2016-02-11|17:16:50|128.230.247.37|   GET|/content/images/t...|          -|  80|       -|128.122.140.238|Mozilla/5.0+(Wind...|http://group0.ist...|       200|\n",
      "|128.122.140.238|New York|   NY|    USA|  -74.005941|-74.005941|2016-02-11|17:16:50|128.230.247.37|   GET|/content/images/t...|          -|  80|       -|128.122.140.238|Mozilla/5.0+(Wind...|http://group0.ist...|       200|\n",
      "+---------------+--------+-----+-------+------------+----------+----------+--------+--------------+------+--------------------+-----------+----+--------+---------------+--------------------+--------------------+----------+\n",
      "only showing top 75 rows\n",
      "\n"
     ]
    }
   ],
   "source": [
    "#9 \n",
    "# Now join the two DataFrames together on their business key, making the new DataFrame comb1. \n",
    "# Provide a schema and sample of the first few rows in your screenshot.\n",
    "comb1 = ips2.join(logs4, on = ips2.ip == logs4.clientip, how=\"inner\")\n",
    "comb1.printSchema()\n",
    "comb1.show(75)"
   ]
  },
  {
   "cell_type": "code",
   "execution_count": 22,
   "id": "b1fdfa20-a281-4156-93ea-fd06cdca491b",
   "metadata": {},
   "outputs": [
    {
     "name": "stderr",
     "output_type": "stream",
     "text": [
      "                                                                                \r"
     ]
    }
   ],
   "source": [
    "#10 \n",
    "# Write the comb1 DataFrame in parquet format back to Minio in the \n",
    "# folder cleaned-logs. Again, show evidence the code ran and the file was created.\n",
    "cleaned_logs_out = f\"s3a://{s3_bucket}/iplookup/cleaned-logs\"\n",
    "comb1.write.mode(\"Overwrite\").parquet(cleaned_logs_out)"
   ]
  },
  {
   "cell_type": "code",
   "execution_count": null,
   "id": "3cbc60aa-93c0-486b-8380-9c6647713872",
   "metadata": {},
   "outputs": [],
   "source": []
  }
 ],
 "metadata": {
  "kernelspec": {
   "display_name": "Python 3 (ipykernel)",
   "language": "python",
   "name": "python3"
  },
  "language_info": {
   "codemirror_mode": {
    "name": "ipython",
    "version": 3
   },
   "file_extension": ".py",
   "mimetype": "text/x-python",
   "name": "python",
   "nbconvert_exporter": "python",
   "pygments_lexer": "ipython3",
   "version": "3.9.6"
  }
 },
 "nbformat": 4,
 "nbformat_minor": 5
}
