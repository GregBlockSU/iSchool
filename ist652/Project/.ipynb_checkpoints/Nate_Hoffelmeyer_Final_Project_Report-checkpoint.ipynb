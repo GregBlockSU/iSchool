{
 "cells": [
  {
   "cell_type": "markdown",
   "metadata": {},
   "source": [
    "# Prediction of NHL Game Outcomes\n",
    "\n",
    "## Purpose of Investigation\n",
    "Inspiration for this came from a Kaggle poster named Martin Ellis (https://www.kaggle.com/martinellis/nhl-game-data/home![image.png](attachment:image.png). He indicates that, compared to other sports, advanced statistics in hockey are rather lacking. In fact, analytics and predictive modeling in hockey is so young sources say the best models can only predict the winner 62% of the time (https://www.nhlnumbers.com/2013/08/01/machine-learning-and-hockey-is-there-a-theoretical-limit-on-predictions![image.png](attachment:image.png)).\n",
    "\n",
    "Martin believes that advancements in computing coupled with suitably trained models can account for some of this variance and beat this seemingly low target. This project sets out to do just that, by analyzing NHL game data to attempt to predict NHL game winners from Martin’s shared data."
   ]
  },
  {
   "cell_type": "markdown",
   "metadata": {},
   "source": [
    "## Scope\n",
    "This analysis is being conducted on data obtained from www.hockey-reference.com, part of the www.sports-reference.com family of sites, to determine the feasibility of predicting NHL game outcomes based off of game data. The data sets being used are:\n",
    "\n",
    "+ Game Data: https://www.hockey-reference.com/leagues/NHL_2017_games.html\n",
    "+ Standings Data: https://www.hockey-reference.com/leagues/NHL_2016_standings.html\n",
    "\n",
    "## Analysis Question\n",
    "Is it possible to increase predictive accuracy of the outcome of NHL games beyond 60% through the training of modern machine learning classification models, specifically Random Forest Classification models? This will be beneficial for many sports fanatics, gamblers, and broadly the fans and people entertained by sports. However, the ability to better predict game outcomes will aid coaches and general managers in their planning and strategies both around in game management, and around building entire franchises. The consequences of such are likely to the tune of billions of dollars for these franchises."
   ]
  },
  {
   "cell_type": "markdown",
   "metadata": {},
   "source": [
    "## Methods and Analysis\n",
    "First, data from the linked hockey-reference source (above) will be loaded and viewed to ensure cleanliness and ability to process with modern machine learning models."
   ]
  },
  {
   "cell_type": "code",
   "execution_count": 14,
   "metadata": {},
   "outputs": [],
   "source": [
    "import numpy as np\n",
    "import pandas as pd\n",
    "\n",
    "season = ('NHL_2017_season_games.csv')\n",
    "playoffs = ('NHL_2017_playoff_games.csv')"
   ]
  },
  {
   "cell_type": "markdown",
   "metadata": {},
   "source": [
    "Next, analysis of the datafile containing all the NHL match-ups commences to ensure that the data was loaded properly, and that it is viable for analysis and modeling.\n",
    "\n",
    "Knowledge of the data file indicates that there is a date which could potentially be manipulated by pandas. To handle this, the pandas parse_dates function is invoked to read the dates properly as date objects.\n",
    "\n",
    "Finally, the files are loaded and parsed into one dataframe which can be used for model construction and analysis."
   ]
  },
  {
   "cell_type": "code",
   "execution_count": 15,
   "metadata": {},
   "outputs": [
    {
     "data": {
      "text/html": [
       "<div>\n",
       "<style scoped>\n",
       "    .dataframe tbody tr th:only-of-type {\n",
       "        vertical-align: middle;\n",
       "    }\n",
       "\n",
       "    .dataframe tbody tr th {\n",
       "        vertical-align: top;\n",
       "    }\n",
       "\n",
       "    .dataframe thead th {\n",
       "        text-align: right;\n",
       "    }\n",
       "</style>\n",
       "<table border=\"1\" class=\"dataframe\">\n",
       "  <thead>\n",
       "    <tr style=\"text-align: right;\">\n",
       "      <th></th>\n",
       "      <th>Date</th>\n",
       "      <th>Visitor</th>\n",
       "      <th>G</th>\n",
       "      <th>Home</th>\n",
       "      <th>G.1</th>\n",
       "      <th>Unnamed: 5</th>\n",
       "      <th>Att.</th>\n",
       "      <th>LOG</th>\n",
       "      <th>Notes</th>\n",
       "    </tr>\n",
       "  </thead>\n",
       "  <tbody>\n",
       "    <tr>\n",
       "      <th>0</th>\n",
       "      <td>2016-10-12</td>\n",
       "      <td>St. Louis Blues</td>\n",
       "      <td>5</td>\n",
       "      <td>Chicago Blackhawks</td>\n",
       "      <td>2</td>\n",
       "      <td>NaN</td>\n",
       "      <td>21729</td>\n",
       "      <td>2:29</td>\n",
       "      <td>NaN</td>\n",
       "    </tr>\n",
       "    <tr>\n",
       "      <th>1</th>\n",
       "      <td>2016-10-12</td>\n",
       "      <td>Calgary Flames</td>\n",
       "      <td>4</td>\n",
       "      <td>Edmonton Oilers</td>\n",
       "      <td>7</td>\n",
       "      <td>NaN</td>\n",
       "      <td>18347</td>\n",
       "      <td>2:35</td>\n",
       "      <td>NaN</td>\n",
       "    </tr>\n",
       "    <tr>\n",
       "      <th>2</th>\n",
       "      <td>2016-10-12</td>\n",
       "      <td>Toronto Maple Leafs</td>\n",
       "      <td>4</td>\n",
       "      <td>Ottawa Senators</td>\n",
       "      <td>5</td>\n",
       "      <td>OT</td>\n",
       "      <td>17618</td>\n",
       "      <td>2:36</td>\n",
       "      <td>NaN</td>\n",
       "    </tr>\n",
       "    <tr>\n",
       "      <th>3</th>\n",
       "      <td>2016-10-12</td>\n",
       "      <td>Los Angeles Kings</td>\n",
       "      <td>1</td>\n",
       "      <td>San Jose Sharks</td>\n",
       "      <td>2</td>\n",
       "      <td>NaN</td>\n",
       "      <td>17562</td>\n",
       "      <td>2:29</td>\n",
       "      <td>NaN</td>\n",
       "    </tr>\n",
       "    <tr>\n",
       "      <th>4</th>\n",
       "      <td>2016-10-13</td>\n",
       "      <td>Montreal Canadiens</td>\n",
       "      <td>4</td>\n",
       "      <td>Buffalo Sabres</td>\n",
       "      <td>1</td>\n",
       "      <td>NaN</td>\n",
       "      <td>19070</td>\n",
       "      <td>2:44</td>\n",
       "      <td>NaN</td>\n",
       "    </tr>\n",
       "  </tbody>\n",
       "</table>\n",
       "</div>"
      ],
      "text/plain": [
       "        Date              Visitor  G                Home  G.1 Unnamed: 5  \\\n",
       "0 2016-10-12      St. Louis Blues  5  Chicago Blackhawks    2        NaN   \n",
       "1 2016-10-12       Calgary Flames  4     Edmonton Oilers    7        NaN   \n",
       "2 2016-10-12  Toronto Maple Leafs  4     Ottawa Senators    5         OT   \n",
       "3 2016-10-12    Los Angeles Kings  1     San Jose Sharks    2        NaN   \n",
       "4 2016-10-13   Montreal Canadiens  4      Buffalo Sabres    1        NaN   \n",
       "\n",
       "    Att.   LOG  Notes  \n",
       "0  21729  2:29    NaN  \n",
       "1  18347  2:35    NaN  \n",
       "2  17618  2:36    NaN  \n",
       "3  17562  2:29    NaN  \n",
       "4  19070  2:44    NaN  "
      ]
     },
     "execution_count": 15,
     "metadata": {},
     "output_type": "execute_result"
    }
   ],
   "source": [
    "df1 = pd.read_csv(season, parse_dates=[\"Date\"])\n",
    "df2 = pd.read_csv(playoffs, parse_dates=[\"Date\"])\n",
    "df = df1.append(df2, ignore_index=True)\n",
    "df.head()"
   ]
  },
  {
   "cell_type": "code",
   "execution_count": 16,
   "metadata": {},
   "outputs": [],
   "source": [
    "# Rename columns\n",
    "df.columns = [\"Date\", \"Visitor Team\", \"Visitor Goals\", \"Home Team\", \"Home Goals\", \\\n",
    "                   \"Blank\", \"Att\", \"LOG\", \"Notes1\"]"
   ]
  },
  {
   "cell_type": "code",
   "execution_count": 17,
   "metadata": {},
   "outputs": [
    {
     "name": "stderr",
     "output_type": "stream",
     "text": [
      "/Users/nathanielhoffelmeyer/anaconda3/lib/python3.6/site-packages/ipykernel_launcher.py:4: DeprecationWarning: \n",
      ".ix is deprecated. Please use\n",
      ".loc for label based indexing or\n",
      ".iloc for positional indexing\n",
      "\n",
      "See the documentation here:\n",
      "http://pandas.pydata.org/pandas-docs/stable/indexing.html#ix-indexer-is-deprecated\n",
      "  after removing the cwd from sys.path.\n"
     ]
    },
    {
     "data": {
      "text/html": [
       "<div>\n",
       "<style scoped>\n",
       "    .dataframe tbody tr th:only-of-type {\n",
       "        vertical-align: middle;\n",
       "    }\n",
       "\n",
       "    .dataframe tbody tr th {\n",
       "        vertical-align: top;\n",
       "    }\n",
       "\n",
       "    .dataframe thead th {\n",
       "        text-align: right;\n",
       "    }\n",
       "</style>\n",
       "<table border=\"1\" class=\"dataframe\">\n",
       "  <thead>\n",
       "    <tr style=\"text-align: right;\">\n",
       "      <th></th>\n",
       "      <th>Date</th>\n",
       "      <th>Visitor Team</th>\n",
       "      <th>Visitor Goals</th>\n",
       "      <th>Home Team</th>\n",
       "      <th>Home Goals</th>\n",
       "    </tr>\n",
       "  </thead>\n",
       "  <tbody>\n",
       "    <tr>\n",
       "      <th>0</th>\n",
       "      <td>2016-10-12</td>\n",
       "      <td>St. Louis Blues</td>\n",
       "      <td>5</td>\n",
       "      <td>Chicago Blackhawks</td>\n",
       "      <td>2</td>\n",
       "    </tr>\n",
       "    <tr>\n",
       "      <th>1</th>\n",
       "      <td>2016-10-12</td>\n",
       "      <td>Calgary Flames</td>\n",
       "      <td>4</td>\n",
       "      <td>Edmonton Oilers</td>\n",
       "      <td>7</td>\n",
       "    </tr>\n",
       "    <tr>\n",
       "      <th>2</th>\n",
       "      <td>2016-10-12</td>\n",
       "      <td>Toronto Maple Leafs</td>\n",
       "      <td>4</td>\n",
       "      <td>Ottawa Senators</td>\n",
       "      <td>5</td>\n",
       "    </tr>\n",
       "    <tr>\n",
       "      <th>3</th>\n",
       "      <td>2016-10-12</td>\n",
       "      <td>Los Angeles Kings</td>\n",
       "      <td>1</td>\n",
       "      <td>San Jose Sharks</td>\n",
       "      <td>2</td>\n",
       "    </tr>\n",
       "    <tr>\n",
       "      <th>4</th>\n",
       "      <td>2016-10-13</td>\n",
       "      <td>Montreal Canadiens</td>\n",
       "      <td>4</td>\n",
       "      <td>Buffalo Sabres</td>\n",
       "      <td>1</td>\n",
       "    </tr>\n",
       "    <tr>\n",
       "      <th>5</th>\n",
       "      <td>2016-10-13</td>\n",
       "      <td>Boston Bruins</td>\n",
       "      <td>6</td>\n",
       "      <td>Columbus Blue Jackets</td>\n",
       "      <td>3</td>\n",
       "    </tr>\n",
       "  </tbody>\n",
       "</table>\n",
       "</div>"
      ],
      "text/plain": [
       "        Date         Visitor Team  Visitor Goals              Home Team  \\\n",
       "0 2016-10-12      St. Louis Blues              5     Chicago Blackhawks   \n",
       "1 2016-10-12       Calgary Flames              4        Edmonton Oilers   \n",
       "2 2016-10-12  Toronto Maple Leafs              4        Ottawa Senators   \n",
       "3 2016-10-12    Los Angeles Kings              1        San Jose Sharks   \n",
       "4 2016-10-13   Montreal Canadiens              4         Buffalo Sabres   \n",
       "5 2016-10-13        Boston Bruins              6  Columbus Blue Jackets   \n",
       "\n",
       "   Home Goals  \n",
       "0           2  \n",
       "1           7  \n",
       "2           5  \n",
       "3           2  \n",
       "4           1  \n",
       "5           3  "
      ]
     },
     "execution_count": 17,
     "metadata": {},
     "output_type": "execute_result"
    }
   ],
   "source": [
    "# Delete unused columns\n",
    "df = df.drop(df.columns[[5,6,7,8]], axis=1)\n",
    "# View cleaned dataframe\n",
    "df.iloc[:5]"
   ]
  },
  {
   "cell_type": "markdown",
   "metadata": {},
   "source": [
    "Now that data is loaded, classification classes must be made. This analysis attempts to will predict whether the home team will win the game. To properly classify using Random Forest Classification, the proper attribute must be built:"
   ]
  },
  {
   "cell_type": "code",
   "execution_count": 19,
   "metadata": {},
   "outputs": [
    {
     "data": {
      "text/html": [
       "<div>\n",
       "<style scoped>\n",
       "    .dataframe tbody tr th:only-of-type {\n",
       "        vertical-align: middle;\n",
       "    }\n",
       "\n",
       "    .dataframe tbody tr th {\n",
       "        vertical-align: top;\n",
       "    }\n",
       "\n",
       "    .dataframe thead th {\n",
       "        text-align: right;\n",
       "    }\n",
       "</style>\n",
       "<table border=\"1\" class=\"dataframe\">\n",
       "  <thead>\n",
       "    <tr style=\"text-align: right;\">\n",
       "      <th></th>\n",
       "      <th>Date</th>\n",
       "      <th>Visitor Team</th>\n",
       "      <th>Visitor Goals</th>\n",
       "      <th>Home Team</th>\n",
       "      <th>Home Goals</th>\n",
       "      <th>HomeWin</th>\n",
       "    </tr>\n",
       "  </thead>\n",
       "  <tbody>\n",
       "    <tr>\n",
       "      <th>0</th>\n",
       "      <td>2016-10-12</td>\n",
       "      <td>St. Louis Blues</td>\n",
       "      <td>5</td>\n",
       "      <td>Chicago Blackhawks</td>\n",
       "      <td>2</td>\n",
       "      <td>False</td>\n",
       "    </tr>\n",
       "    <tr>\n",
       "      <th>1</th>\n",
       "      <td>2016-10-12</td>\n",
       "      <td>Calgary Flames</td>\n",
       "      <td>4</td>\n",
       "      <td>Edmonton Oilers</td>\n",
       "      <td>7</td>\n",
       "      <td>True</td>\n",
       "    </tr>\n",
       "    <tr>\n",
       "      <th>2</th>\n",
       "      <td>2016-10-12</td>\n",
       "      <td>Toronto Maple Leafs</td>\n",
       "      <td>4</td>\n",
       "      <td>Ottawa Senators</td>\n",
       "      <td>5</td>\n",
       "      <td>True</td>\n",
       "    </tr>\n",
       "    <tr>\n",
       "      <th>3</th>\n",
       "      <td>2016-10-12</td>\n",
       "      <td>Los Angeles Kings</td>\n",
       "      <td>1</td>\n",
       "      <td>San Jose Sharks</td>\n",
       "      <td>2</td>\n",
       "      <td>True</td>\n",
       "    </tr>\n",
       "    <tr>\n",
       "      <th>4</th>\n",
       "      <td>2016-10-13</td>\n",
       "      <td>Montreal Canadiens</td>\n",
       "      <td>4</td>\n",
       "      <td>Buffalo Sabres</td>\n",
       "      <td>1</td>\n",
       "      <td>False</td>\n",
       "    </tr>\n",
       "  </tbody>\n",
       "</table>\n",
       "</div>"
      ],
      "text/plain": [
       "        Date         Visitor Team  Visitor Goals           Home Team  \\\n",
       "0 2016-10-12      St. Louis Blues              5  Chicago Blackhawks   \n",
       "1 2016-10-12       Calgary Flames              4     Edmonton Oilers   \n",
       "2 2016-10-12  Toronto Maple Leafs              4     Ottawa Senators   \n",
       "3 2016-10-12    Los Angeles Kings              1     San Jose Sharks   \n",
       "4 2016-10-13   Montreal Canadiens              4      Buffalo Sabres   \n",
       "\n",
       "   Home Goals  HomeWin  \n",
       "0           2    False  \n",
       "1           7     True  \n",
       "2           5     True  \n",
       "3           2     True  \n",
       "4           1    False  "
      ]
     },
     "execution_count": 19,
     "metadata": {},
     "output_type": "execute_result"
    }
   ],
   "source": [
    "# Create new \"HomeWin\" attribute\n",
    "df[\"HomeWin\"] = df[\"Visitor Goals\"] < df[\"Home Goals\"]\n",
    "\n",
    "# Predictor class for model: whether or not home team wins\n",
    "y_true = df[\"HomeWin\"].values\n",
    "\n",
    "# Lets view the results\n",
    "df.iloc[:5]"
   ]
  },
  {
   "attachments": {
    "image.png": {
     "image/png": "[encoded data removed]"
    }
   },
   "cell_type": "markdown",
   "metadata": {},
   "source": [
    "Models need a method for people building and reviewing them to tell how accurate they are. For the purposes of this analysis, the F1 score will be used as the main indicator of overall model performance. The F1 score is a general measure of a test's accuracy, which considers precision and recall mathematically as shown:\n",
    "\n",
    "![image.png](attachment:image.png)\n",
    "\n",
    "For further review of this model, the method contained in Python's scikit-learn package called \"classification_report\" will be coupled with the F1 score to show overall model performance."
   ]
  },
  {
   "cell_type": "code",
   "execution_count": 20,
   "metadata": {},
   "outputs": [],
   "source": [
    "# Import classification report and F1 score methods\n",
    "from sklearn.metrics import f1_score, make_scorer, classification_report\n",
    "\n",
    "# Designate scorer object with F1 score\n",
    "scorer = make_scorer(f1_score, pos_label=None, average='weighted')"
   ]
  },
  {
   "cell_type": "markdown",
   "metadata": {},
   "source": [
    "Now there is a data set to analyze, and a method with which to know how the model being built performs against that data from a predictive accuracy standpoint, but what is the way to tell if the model is an improvement over cheaper methods of analysis, or even over random guessing? One method that may be leveraged for this is to set a baseline. As mentioned from research by nhlnumbers.com (see above), the best performing models are able to correctly predict game outcomes in the NHL a mere 62% of the time. If a selective guess of picking the home team to win every time would this compare to the predictive power of these models? To know, the baseline of this test must first be analyzed by creating such a baseline so as to see how often the home team simply does win a game."
   ]
  },
  {
   "cell_type": "code",
   "execution_count": 63,
   "metadata": {},
   "outputs": [
    {
     "name": "stdout",
     "output_type": "stream",
     "text": [
      "Overall Home Win Percentage in Dataset: 55.8%\n"
     ]
    }
   ],
   "source": [
    "# Frequency of home team wins among current dataset\n",
    "games_count = df[\"HomeWin\"].count()\n",
    "wins_count = df[\"HomeWin\"].sum()\n",
    "win_pct = wins_count / games_count\n",
    "\n",
    "print(\"Overall Home Win Percentage in Dataset: {0:.1f}%\".format(100 * win_pct))"
   ]
  },
  {
   "cell_type": "markdown",
   "metadata": {},
   "source": [
    "**Note:** 55.8% of the time, the home team wins. This is why predictive models, to date, that are only able to correctly predict winners 62% of the time aren't much to speak of, for almost 60% of the time picking the home team with no other knowledge will lead to accurate prediction."
   ]
  },
  {
   "cell_type": "markdown",
   "metadata": {},
   "source": [
    "As a final measure of baseline analysis, the current F1 score should also be looked at through the lens of simply picking the home team to win:"
   ]
  },
  {
   "cell_type": "code",
   "execution_count": 24,
   "metadata": {},
   "outputs": [
    {
     "name": "stdout",
     "output_type": "stream",
     "text": [
      "F1 Score: 0.3998\n"
     ]
    },
    {
     "name": "stderr",
     "output_type": "stream",
     "text": [
      "/Users/nathanielhoffelmeyer/anaconda3/lib/python3.6/site-packages/sklearn/metrics/classification.py:1143: UndefinedMetricWarning: F-score is ill-defined and being set to 0.0 in labels with no predicted samples.\n",
      "  'precision', 'predicted', average, warn_for)\n"
     ]
    }
   ],
   "source": [
    "y_pred = [1] * len(y_true)\n",
    "print(\"F1 Score: {:.4f}\".format(f1_score(y_true, y_pred, pos_label=None, average=\"weighted\")))"
   ]
  },
  {
   "cell_type": "markdown",
   "metadata": {},
   "source": [
    "And thus it is shown that a model must be built which produces a higher F1 Score than 0.3782."
   ]
  },
  {
   "cell_type": "markdown",
   "metadata": {},
   "source": [
    "In modeling for prediction, it is typically necessary to determine new attributes that may be created from the data which will impact predictive performance. For instance, in the world of baseball for many years (and prior to Moneyball in 2011 for sure), many scouts and professionals would look simply at standard statistics: batting average, number of hits, number of runs scored, number of home runs. But along came SABR, the society for advanced baseball research, and said - hang on! What about how often someone gets on base? What about how often players not only get a hit, but that hit goes for extra bases? And born were statistics of the advanced nature like slugging percent, on-base percent, etc., which scouts and GMs could use to find talent, often cheaper, to build better franchises. Enter the Theo Epstein Red Sox, Correa's Astros, and of course the beloved Billy Beane Oakland A's.\n",
    "\n",
    "Accordingly, the NHL analysis herein must have attributes added to it. For starters, historical context could be very relevant, and so an attribute looking at which team in the current game that is being predicted won the previous matchup between them may be a good added attribute:"
   ]
  },
  {
   "cell_type": "code",
   "execution_count": 26,
   "metadata": {},
   "outputs": [
    {
     "data": {
      "text/html": [
       "<div>\n",
       "<style scoped>\n",
       "    .dataframe tbody tr th:only-of-type {\n",
       "        vertical-align: middle;\n",
       "    }\n",
       "\n",
       "    .dataframe tbody tr th {\n",
       "        vertical-align: top;\n",
       "    }\n",
       "\n",
       "    .dataframe thead th {\n",
       "        text-align: right;\n",
       "    }\n",
       "</style>\n",
       "<table border=\"1\" class=\"dataframe\">\n",
       "  <thead>\n",
       "    <tr style=\"text-align: right;\">\n",
       "      <th></th>\n",
       "      <th>Date</th>\n",
       "      <th>Visitor Team</th>\n",
       "      <th>Visitor Goals</th>\n",
       "      <th>Home Team</th>\n",
       "      <th>Home Goals</th>\n",
       "      <th>HomeWin</th>\n",
       "      <th>HomeLastWin</th>\n",
       "      <th>VisitorLastWin</th>\n",
       "    </tr>\n",
       "  </thead>\n",
       "  <tbody>\n",
       "    <tr>\n",
       "      <th>1</th>\n",
       "      <td>2016-10-12</td>\n",
       "      <td>Calgary Flames</td>\n",
       "      <td>4</td>\n",
       "      <td>Edmonton Oilers</td>\n",
       "      <td>7</td>\n",
       "      <td>True</td>\n",
       "      <td>0</td>\n",
       "      <td>0</td>\n",
       "    </tr>\n",
       "    <tr>\n",
       "      <th>2</th>\n",
       "      <td>2016-10-12</td>\n",
       "      <td>Toronto Maple Leafs</td>\n",
       "      <td>4</td>\n",
       "      <td>Ottawa Senators</td>\n",
       "      <td>5</td>\n",
       "      <td>True</td>\n",
       "      <td>0</td>\n",
       "      <td>0</td>\n",
       "    </tr>\n",
       "    <tr>\n",
       "      <th>3</th>\n",
       "      <td>2016-10-12</td>\n",
       "      <td>Los Angeles Kings</td>\n",
       "      <td>1</td>\n",
       "      <td>San Jose Sharks</td>\n",
       "      <td>2</td>\n",
       "      <td>True</td>\n",
       "      <td>0</td>\n",
       "      <td>0</td>\n",
       "    </tr>\n",
       "    <tr>\n",
       "      <th>4</th>\n",
       "      <td>2016-10-13</td>\n",
       "      <td>Montreal Canadiens</td>\n",
       "      <td>4</td>\n",
       "      <td>Buffalo Sabres</td>\n",
       "      <td>1</td>\n",
       "      <td>False</td>\n",
       "      <td>0</td>\n",
       "      <td>0</td>\n",
       "    </tr>\n",
       "  </tbody>\n",
       "</table>\n",
       "</div>"
      ],
      "text/plain": [
       "        Date         Visitor Team  Visitor Goals        Home Team  Home Goals  \\\n",
       "1 2016-10-12       Calgary Flames              4  Edmonton Oilers           7   \n",
       "2 2016-10-12  Toronto Maple Leafs              4  Ottawa Senators           5   \n",
       "3 2016-10-12    Los Angeles Kings              1  San Jose Sharks           2   \n",
       "4 2016-10-13   Montreal Canadiens              4   Buffalo Sabres           1   \n",
       "\n",
       "   HomeWin HomeLastWin VisitorLastWin  \n",
       "1     True           0              0  \n",
       "2     True           0              0  \n",
       "3     True           0              0  \n",
       "4    False           0              0  "
      ]
     },
     "execution_count": 26,
     "metadata": {},
     "output_type": "execute_result"
    }
   ],
   "source": [
    "# Create new features setting default to False\n",
    "df[\"HomeLastWin\"] = False\n",
    "df[\"VisitorLastWin\"] = False\n",
    "\n",
    "from collections import defaultdict # for creating default keys to avoid KeyError\n",
    "won_last = defaultdict(int)\n",
    "\n",
    "for index, row in df.iterrows(): # for each row\n",
    "    home = row[\"Home Team\"]\n",
    "    visitor = row[\"Visitor Team\"]\n",
    "    row[\"HomeLastWin\"] = won_last[home]\n",
    "    row[\"VisitorLastWin\"] = won_last[visitor]\n",
    "    df.iloc[index] = row\n",
    "    # Set which team won\n",
    "    won_last[home] = row[\"HomeWin\"] # set HomeLastWin as True if \"HomeWin\" is True\n",
    "    won_last[visitor] = not row[\"HomeWin\"] # otherwise set \"VisitorLastWin\" as True\n",
    "    \n",
    "df.iloc[100:105]"
   ]
  },
  {
   "cell_type": "markdown",
   "metadata": {},
   "source": [
    "Given the creation of the \"contextual\" attribute of whether or not a team won previously, modeling is ready to commence:"
   ]
  },
  {
   "cell_type": "code",
   "execution_count": 33,
   "metadata": {},
   "outputs": [
    {
     "name": "stdout",
     "output_type": "stream",
     "text": [
      "Using only the attributes of whether each team won its last match, model achieves F1 Score of:\n",
      "F1 Score: 0.3998\n"
     ]
    },
    {
     "name": "stderr",
     "output_type": "stream",
     "text": [
      "/Users/nathanielhoffelmeyer/anaconda3/lib/python3.6/site-packages/sklearn/model_selection/_split.py:2053: FutureWarning: You should specify a value for 'cv' instead of relying on the default value. The default value will change from 3 to 5 in version 0.22.\n",
      "  warnings.warn(CV_WARNING, FutureWarning)\n",
      "/Users/nathanielhoffelmeyer/anaconda3/lib/python3.6/site-packages/sklearn/metrics/classification.py:1143: UndefinedMetricWarning: F-score is ill-defined and being set to 0.0 in labels with no predicted samples.\n",
      "  'precision', 'predicted', average, warn_for)\n",
      "/Users/nathanielhoffelmeyer/anaconda3/lib/python3.6/site-packages/sklearn/metrics/classification.py:1143: UndefinedMetricWarning: F-score is ill-defined and being set to 0.0 in labels with no predicted samples.\n",
      "  'precision', 'predicted', average, warn_for)\n",
      "/Users/nathanielhoffelmeyer/anaconda3/lib/python3.6/site-packages/sklearn/metrics/classification.py:1143: UndefinedMetricWarning: F-score is ill-defined and being set to 0.0 in labels with no predicted samples.\n",
      "  'precision', 'predicted', average, warn_for)\n"
     ]
    }
   ],
   "source": [
    "# Import cross_validation score for modeling\n",
    "from sklearn.model_selection import cross_val_score\n",
    "\n",
    "# Create new dataframe with just last win feature\n",
    "x_previousWins = df[[\"HomeLastWin\", \"VisitorLastWin\"]].values\n",
    "\n",
    "from sklearn.tree import DecisionTreeClassifier\n",
    "# random_state is for reproducibility\n",
    "dtc = DecisionTreeClassifier(random_state = 10)\n",
    "\n",
    "# Compute F1 Score\n",
    "scores = cross_val_score(dtc, x_previousWins, y_true, scoring=scorer)\n",
    "print(\"Using only the attributes of whether each team won its last match, model achieves F1 Score of:\")\n",
    "print(\"F1 Score: {0:.4f}\".format(np.mean(scores)))"
   ]
  },
  {
   "cell_type": "markdown",
   "metadata": {},
   "source": [
    "This attribute does not tend to indicate an increase in model performance as it relates to our method of analysis, the F1 score. Show below is the baseline and last win comparison:"
   ]
  },
  {
   "cell_type": "code",
   "execution_count": 35,
   "metadata": {},
   "outputs": [
    {
     "data": {
      "text/html": [
       "<div>\n",
       "<style scoped>\n",
       "    .dataframe tbody tr th:only-of-type {\n",
       "        vertical-align: middle;\n",
       "    }\n",
       "\n",
       "    .dataframe tbody tr th {\n",
       "        vertical-align: top;\n",
       "    }\n",
       "\n",
       "    .dataframe thead th {\n",
       "        text-align: right;\n",
       "    }\n",
       "</style>\n",
       "<table border=\"1\" class=\"dataframe\">\n",
       "  <thead>\n",
       "    <tr style=\"text-align: right;\">\n",
       "      <th></th>\n",
       "      <th>F1 Score</th>\n",
       "      <th>Overall Performance Boost</th>\n",
       "    </tr>\n",
       "  </thead>\n",
       "  <tbody>\n",
       "    <tr>\n",
       "      <th>Baseline</th>\n",
       "      <td>0.3998</td>\n",
       "      <td>0.0</td>\n",
       "    </tr>\n",
       "    <tr>\n",
       "      <th>Last Win</th>\n",
       "      <td>0.3998</td>\n",
       "      <td>0.0</td>\n",
       "    </tr>\n",
       "  </tbody>\n",
       "</table>\n",
       "</div>"
      ],
      "text/plain": [
       "          F1 Score  Overall Performance Boost\n",
       "Baseline    0.3998                        0.0\n",
       "Last Win    0.3998                        0.0"
      ]
     },
     "execution_count": 35,
     "metadata": {},
     "output_type": "execute_result"
    }
   ],
   "source": [
    "f1 = pd.DataFrame(index=['Baseline', 'Last Win'],data=[(0.3998, 0),(0.3998, 0.3998-0.3998)], \\\n",
    "                  columns=['F1 Score', 'Overall Performance Boost'])\n",
    "f1"
   ]
  },
  {
   "cell_type": "markdown",
   "metadata": {},
   "source": [
    "Keeping with the historical / contextual them, perhaps it is relevant for win streaks to be taken in account when predicting game outcomes?\n",
    "\n",
    "Similar to the \"last win\" analysis, having a win streak can easily create momentum and have an impact on the outcome of a given game. Can we improve our model by incorporating win streaks? To test this, a new attribute indicating of indicating the win streak is built:"
   ]
  },
  {
   "cell_type": "code",
   "execution_count": 36,
   "metadata": {},
   "outputs": [
    {
     "data": {
      "text/html": [
       "<div>\n",
       "<style scoped>\n",
       "    .dataframe tbody tr th:only-of-type {\n",
       "        vertical-align: middle;\n",
       "    }\n",
       "\n",
       "    .dataframe tbody tr th {\n",
       "        vertical-align: top;\n",
       "    }\n",
       "\n",
       "    .dataframe thead th {\n",
       "        text-align: right;\n",
       "    }\n",
       "</style>\n",
       "<table border=\"1\" class=\"dataframe\">\n",
       "  <thead>\n",
       "    <tr style=\"text-align: right;\">\n",
       "      <th></th>\n",
       "      <th>Date</th>\n",
       "      <th>Visitor Team</th>\n",
       "      <th>Visitor Goals</th>\n",
       "      <th>Home Team</th>\n",
       "      <th>Home Goals</th>\n",
       "      <th>HomeWin</th>\n",
       "      <th>HomeLastWin</th>\n",
       "      <th>VisitorLastWin</th>\n",
       "      <th>HomeWinStreak</th>\n",
       "      <th>VisitorWinStreak</th>\n",
       "    </tr>\n",
       "  </thead>\n",
       "  <tbody>\n",
       "    <tr>\n",
       "      <th>100</th>\n",
       "      <td>2016-10-27</td>\n",
       "      <td>Arizona Coyotes</td>\n",
       "      <td>5</td>\n",
       "      <td>Philadelphia Flyers</td>\n",
       "      <td>4</td>\n",
       "      <td>False</td>\n",
       "      <td>True</td>\n",
       "      <td>False</td>\n",
       "      <td>1</td>\n",
       "      <td>0</td>\n",
       "    </tr>\n",
       "    <tr>\n",
       "      <th>101</th>\n",
       "      <td>2016-10-27</td>\n",
       "      <td>New York Islanders</td>\n",
       "      <td>2</td>\n",
       "      <td>Pittsburgh Penguins</td>\n",
       "      <td>4</td>\n",
       "      <td>True</td>\n",
       "      <td>True</td>\n",
       "      <td>False</td>\n",
       "      <td>1</td>\n",
       "      <td>0</td>\n",
       "    </tr>\n",
       "    <tr>\n",
       "      <th>102</th>\n",
       "      <td>2016-10-27</td>\n",
       "      <td>Columbus Blue Jackets</td>\n",
       "      <td>1</td>\n",
       "      <td>San Jose Sharks</td>\n",
       "      <td>3</td>\n",
       "      <td>True</td>\n",
       "      <td>True</td>\n",
       "      <td>False</td>\n",
       "      <td>1</td>\n",
       "      <td>0</td>\n",
       "    </tr>\n",
       "    <tr>\n",
       "      <th>103</th>\n",
       "      <td>2016-10-27</td>\n",
       "      <td>Detroit Red Wings</td>\n",
       "      <td>2</td>\n",
       "      <td>St. Louis Blues</td>\n",
       "      <td>1</td>\n",
       "      <td>False</td>\n",
       "      <td>False</td>\n",
       "      <td>True</td>\n",
       "      <td>0</td>\n",
       "      <td>5</td>\n",
       "    </tr>\n",
       "    <tr>\n",
       "      <th>104</th>\n",
       "      <td>2016-10-27</td>\n",
       "      <td>Florida Panthers</td>\n",
       "      <td>2</td>\n",
       "      <td>Toronto Maple Leafs</td>\n",
       "      <td>3</td>\n",
       "      <td>True</td>\n",
       "      <td>False</td>\n",
       "      <td>False</td>\n",
       "      <td>0</td>\n",
       "      <td>0</td>\n",
       "    </tr>\n",
       "  </tbody>\n",
       "</table>\n",
       "</div>"
      ],
      "text/plain": [
       "          Date           Visitor Team  Visitor Goals            Home Team  \\\n",
       "100 2016-10-27        Arizona Coyotes              5  Philadelphia Flyers   \n",
       "101 2016-10-27     New York Islanders              2  Pittsburgh Penguins   \n",
       "102 2016-10-27  Columbus Blue Jackets              1      San Jose Sharks   \n",
       "103 2016-10-27      Detroit Red Wings              2      St. Louis Blues   \n",
       "104 2016-10-27       Florida Panthers              2  Toronto Maple Leafs   \n",
       "\n",
       "     Home Goals  HomeWin HomeLastWin VisitorLastWin  HomeWinStreak  \\\n",
       "100           4    False        True          False              1   \n",
       "101           4     True        True          False              1   \n",
       "102           3     True        True          False              1   \n",
       "103           1    False       False           True              0   \n",
       "104           3     True       False          False              0   \n",
       "\n",
       "     VisitorWinStreak  \n",
       "100                 0  \n",
       "101                 0  \n",
       "102                 0  \n",
       "103                 5  \n",
       "104                 0  "
      ]
     },
     "execution_count": 36,
     "metadata": {},
     "output_type": "execute_result"
    }
   ],
   "source": [
    "# Default value for new feature\n",
    "df[\"HomeWinStreak\"] = 0\n",
    "df[\"VisitorWinStreak\"] = 0\n",
    "\n",
    "win_streak = defaultdict(int)\n",
    "\n",
    "for index, row in df.iterrows(): # Similar to before\n",
    "    home = row[\"Home Team\"]\n",
    "    visitor = row[\"Visitor Team\"]\n",
    "    row[\"HomeWinStreak\"] = win_streak[home]\n",
    "    row[\"VisitorWinStreak\"] = win_streak[visitor]\n",
    "    df.iloc[index] = row\n",
    "    \n",
    "    if row[\"HomeWin\"]:\n",
    "        win_streak[home] += 1 # if \"HomeWin\" is True, increase home by 1\n",
    "        win_streak[visitor] = 0\n",
    "    else:\n",
    "        win_streak[home] = 0\n",
    "        win_streak[visitor] += 1 # if \"HomeWin\" is False, increase visitor by 1\n",
    "\n",
    "df.iloc[100:105]"
   ]
  },
  {
   "cell_type": "markdown",
   "metadata": {},
   "source": [
    "Now, modeling can be done again to see if the new win streak attribute improves predictive performance:"
   ]
  },
  {
   "cell_type": "code",
   "execution_count": 37,
   "metadata": {},
   "outputs": [
    {
     "name": "stdout",
     "output_type": "stream",
     "text": [
      "By adding win streaks, the F1 score is:\n",
      "F1 Score: 0.4951\n"
     ]
    },
    {
     "name": "stderr",
     "output_type": "stream",
     "text": [
      "/Users/nathanielhoffelmeyer/anaconda3/lib/python3.6/site-packages/sklearn/model_selection/_split.py:2053: FutureWarning: You should specify a value for 'cv' instead of relying on the default value. The default value will change from 3 to 5 in version 0.22.\n",
      "  warnings.warn(CV_WARNING, FutureWarning)\n"
     ]
    }
   ],
   "source": [
    "dtc = DecisionTreeClassifier(random_state = 10)\n",
    "x_winstreak = df[[\"HomeLastWin\", \"VisitorLastWin\", \"HomeWinStreak\", \"VisitorWinStreak\"]].values\n",
    "scores = cross_val_score(dtc, x_winstreak, y_true, scoring=scorer)\n",
    "print(\"By adding win streaks, the F1 score is:\")\n",
    "print(\"F1 Score: {0:.4f}\".format(np.mean(scores)))"
   ]
  },
  {
   "cell_type": "markdown",
   "metadata": {},
   "source": [
    "F1 is improved by adding the win streaks, by nearly 10%:"
   ]
  },
  {
   "cell_type": "code",
   "execution_count": 39,
   "metadata": {},
   "outputs": [
    {
     "data": {
      "text/html": [
       "<div>\n",
       "<style scoped>\n",
       "    .dataframe tbody tr th:only-of-type {\n",
       "        vertical-align: middle;\n",
       "    }\n",
       "\n",
       "    .dataframe tbody tr th {\n",
       "        vertical-align: top;\n",
       "    }\n",
       "\n",
       "    .dataframe thead th {\n",
       "        text-align: right;\n",
       "    }\n",
       "</style>\n",
       "<table border=\"1\" class=\"dataframe\">\n",
       "  <thead>\n",
       "    <tr style=\"text-align: right;\">\n",
       "      <th></th>\n",
       "      <th>F1 Score</th>\n",
       "      <th>Overall Performance Boost</th>\n",
       "    </tr>\n",
       "  </thead>\n",
       "  <tbody>\n",
       "    <tr>\n",
       "      <th>Baseline</th>\n",
       "      <td>0.3998</td>\n",
       "      <td>0.0000</td>\n",
       "    </tr>\n",
       "    <tr>\n",
       "      <th>Last Win</th>\n",
       "      <td>0.3998</td>\n",
       "      <td>0.0000</td>\n",
       "    </tr>\n",
       "    <tr>\n",
       "      <th>Win Streaks &amp; Last Win</th>\n",
       "      <td>0.4951</td>\n",
       "      <td>0.0953</td>\n",
       "    </tr>\n",
       "    <tr>\n",
       "      <th>Win Streaks &amp; Last Win</th>\n",
       "      <td>0.4951</td>\n",
       "      <td>0.0953</td>\n",
       "    </tr>\n",
       "  </tbody>\n",
       "</table>\n",
       "</div>"
      ],
      "text/plain": [
       "                        F1 Score  Overall Performance Boost\n",
       "Baseline                  0.3998                     0.0000\n",
       "Last Win                  0.3998                     0.0000\n",
       "Win Streaks & Last Win    0.4951                     0.0953\n",
       "Win Streaks & Last Win    0.4951                     0.0953"
      ]
     },
     "execution_count": 39,
     "metadata": {},
     "output_type": "execute_result"
    }
   ],
   "source": [
    "f1b = pd.DataFrame(index=['Win Streaks & Last Win'], data=[(0.4951, 0.4951-0.3998)], \\\n",
    "                   columns=['F1 Score', 'Overall Performance Boost'])\n",
    "f1 = f1.append(f1b)\n",
    "f1"
   ]
  },
  {
   "cell_type": "markdown",
   "metadata": {},
   "source": [
    "Up to this point, features have been built based off of existing data. One thing to note is that any time multiple features become integrated into a model from the same set of data, overfitting becomes a real risk. To supplement this, analysis will turn to looking at outside data: the team standings of the previous season (2015-2016, since we're looking at game data from 2016-2017)."
   ]
  },
  {
   "cell_type": "code",
   "execution_count": 44,
   "metadata": {},
   "outputs": [
    {
     "data": {
      "text/html": [
       "<div>\n",
       "<style scoped>\n",
       "    .dataframe tbody tr th:only-of-type {\n",
       "        vertical-align: middle;\n",
       "    }\n",
       "\n",
       "    .dataframe tbody tr th {\n",
       "        vertical-align: top;\n",
       "    }\n",
       "\n",
       "    .dataframe thead th {\n",
       "        text-align: right;\n",
       "    }\n",
       "</style>\n",
       "<table border=\"1\" class=\"dataframe\">\n",
       "  <thead>\n",
       "    <tr style=\"text-align: right;\">\n",
       "      <th></th>\n",
       "      <th>Rk</th>\n",
       "      <th>Overall</th>\n",
       "      <th>Shootout</th>\n",
       "      <th>Overtime</th>\n",
       "      <th>Home</th>\n",
       "      <th>Road</th>\n",
       "      <th>EAS</th>\n",
       "      <th>WES</th>\n",
       "      <th>ATL</th>\n",
       "      <th>MET</th>\n",
       "      <th>...</th>\n",
       "      <th>PAC</th>\n",
       "      <th>≤1</th>\n",
       "      <th>≥3</th>\n",
       "      <th>Oct</th>\n",
       "      <th>Nov</th>\n",
       "      <th>Dec</th>\n",
       "      <th>Jan</th>\n",
       "      <th>Feb</th>\n",
       "      <th>Mar</th>\n",
       "      <th>Apr</th>\n",
       "    </tr>\n",
       "  </thead>\n",
       "  <tbody>\n",
       "    <tr>\n",
       "      <th>Washington Capitals</th>\n",
       "      <td>1</td>\n",
       "      <td>56-18-8</td>\n",
       "      <td>4-2</td>\n",
       "      <td>7-6</td>\n",
       "      <td>29-8-4</td>\n",
       "      <td>27-10-4</td>\n",
       "      <td>39-10-5</td>\n",
       "      <td>17-8-3</td>\n",
       "      <td>19-5-0</td>\n",
       "      <td>20-5-5</td>\n",
       "      <td>...</td>\n",
       "      <td>8-4-2</td>\n",
       "      <td>27-6-8</td>\n",
       "      <td>18-9-0</td>\n",
       "      <td>8-2-0</td>\n",
       "      <td>9-3-1</td>\n",
       "      <td>11-2-1</td>\n",
       "      <td>7-1-2</td>\n",
       "      <td>10-4-0</td>\n",
       "      <td>9-4-2</td>\n",
       "      <td>2-2-2</td>\n",
       "    </tr>\n",
       "    <tr>\n",
       "      <th>Dallas Stars</th>\n",
       "      <td>2</td>\n",
       "      <td>50-23-9</td>\n",
       "      <td>2-2</td>\n",
       "      <td>6-7</td>\n",
       "      <td>28-11-2</td>\n",
       "      <td>22-12-7</td>\n",
       "      <td>20-9-3</td>\n",
       "      <td>30-14-6</td>\n",
       "      <td>9-5-2</td>\n",
       "      <td>11-4-1</td>\n",
       "      <td>...</td>\n",
       "      <td>11-7-3</td>\n",
       "      <td>19-5-9</td>\n",
       "      <td>17-12-0</td>\n",
       "      <td>9-2-0</td>\n",
       "      <td>10-3-0</td>\n",
       "      <td>9-3-3</td>\n",
       "      <td>3-6-2</td>\n",
       "      <td>7-5-2</td>\n",
       "      <td>9-3-2</td>\n",
       "      <td>3-1-0</td>\n",
       "    </tr>\n",
       "    <tr>\n",
       "      <th>St. Louis Blues</th>\n",
       "      <td>3</td>\n",
       "      <td>49-24-9</td>\n",
       "      <td>5-4</td>\n",
       "      <td>8-5</td>\n",
       "      <td>24-13-4</td>\n",
       "      <td>25-11-5</td>\n",
       "      <td>15-12-5</td>\n",
       "      <td>34-12-4</td>\n",
       "      <td>9-5-2</td>\n",
       "      <td>6-7-3</td>\n",
       "      <td>...</td>\n",
       "      <td>15-5-1</td>\n",
       "      <td>25-4-9</td>\n",
       "      <td>13-11-0</td>\n",
       "      <td>8-2-1</td>\n",
       "      <td>7-4-2</td>\n",
       "      <td>8-7-1</td>\n",
       "      <td>5-3-4</td>\n",
       "      <td>8-4-1</td>\n",
       "      <td>10-2-0</td>\n",
       "      <td>3-2-0</td>\n",
       "    </tr>\n",
       "    <tr>\n",
       "      <th>Pittsburgh Penguins</th>\n",
       "      <td>4</td>\n",
       "      <td>48-26-8</td>\n",
       "      <td>4-4</td>\n",
       "      <td>6-4</td>\n",
       "      <td>26-11-4</td>\n",
       "      <td>22-15-4</td>\n",
       "      <td>34-15-5</td>\n",
       "      <td>14-11-3</td>\n",
       "      <td>15-6-3</td>\n",
       "      <td>19-9-2</td>\n",
       "      <td>...</td>\n",
       "      <td>6-6-2</td>\n",
       "      <td>21-8-8</td>\n",
       "      <td>18-12-0</td>\n",
       "      <td>7-4-0</td>\n",
       "      <td>6-4-2</td>\n",
       "      <td>5-7-2</td>\n",
       "      <td>6-2-3</td>\n",
       "      <td>8-4-1</td>\n",
       "      <td>12-4-0</td>\n",
       "      <td>4-1-0</td>\n",
       "    </tr>\n",
       "    <tr>\n",
       "      <th>Chicago Blackhawks</th>\n",
       "      <td>5</td>\n",
       "      <td>47-26-9</td>\n",
       "      <td>1-2</td>\n",
       "      <td>10-7</td>\n",
       "      <td>26-11-4</td>\n",
       "      <td>21-15-5</td>\n",
       "      <td>19-11-2</td>\n",
       "      <td>28-15-7</td>\n",
       "      <td>12-3-1</td>\n",
       "      <td>7-8-1</td>\n",
       "      <td>...</td>\n",
       "      <td>15-3-3</td>\n",
       "      <td>17-7-9</td>\n",
       "      <td>19-13-0</td>\n",
       "      <td>6-5-0</td>\n",
       "      <td>7-3-3</td>\n",
       "      <td>9-5-1</td>\n",
       "      <td>11-3-0</td>\n",
       "      <td>6-4-1</td>\n",
       "      <td>5-6-2</td>\n",
       "      <td>3-0-2</td>\n",
       "    </tr>\n",
       "  </tbody>\n",
       "</table>\n",
       "<p>5 rows × 21 columns</p>\n",
       "</div>"
      ],
      "text/plain": [
       "                     Rk  Overall Shootout Overtime     Home     Road      EAS  \\\n",
       "Washington Capitals   1  56-18-8      4-2      7-6   29-8-4  27-10-4  39-10-5   \n",
       "Dallas Stars          2  50-23-9      2-2      6-7  28-11-2  22-12-7   20-9-3   \n",
       "St. Louis Blues       3  49-24-9      5-4      8-5  24-13-4  25-11-5  15-12-5   \n",
       "Pittsburgh Penguins   4  48-26-8      4-4      6-4  26-11-4  22-15-4  34-15-5   \n",
       "Chicago Blackhawks    5  47-26-9      1-2     10-7  26-11-4  21-15-5  19-11-2   \n",
       "\n",
       "                         WES     ATL     MET  ...       PAC      ≤1       ≥3  \\\n",
       "Washington Capitals   17-8-3  19-5-0  20-5-5  ...     8-4-2  27-6-8   18-9-0   \n",
       "Dallas Stars         30-14-6   9-5-2  11-4-1  ...    11-7-3  19-5-9  17-12-0   \n",
       "St. Louis Blues      34-12-4   9-5-2   6-7-3  ...    15-5-1  25-4-9  13-11-0   \n",
       "Pittsburgh Penguins  14-11-3  15-6-3  19-9-2  ...     6-6-2  21-8-8  18-12-0   \n",
       "Chicago Blackhawks   28-15-7  12-3-1   7-8-1  ...    15-3-3  17-7-9  19-13-0   \n",
       "\n",
       "                       Oct     Nov     Dec     Jan     Feb     Mar    Apr  \n",
       "Washington Capitals  8-2-0   9-3-1  11-2-1   7-1-2  10-4-0   9-4-2  2-2-2  \n",
       "Dallas Stars         9-2-0  10-3-0   9-3-3   3-6-2   7-5-2   9-3-2  3-1-0  \n",
       "St. Louis Blues      8-2-1   7-4-2   8-7-1   5-3-4   8-4-1  10-2-0  3-2-0  \n",
       "Pittsburgh Penguins  7-4-0   6-4-2   5-7-2   6-2-3   8-4-1  12-4-0  4-1-0  \n",
       "Chicago Blackhawks   6-5-0   7-3-3   9-5-1  11-3-0   6-4-1   5-6-2  3-0-2  \n",
       "\n",
       "[5 rows x 21 columns]"
      ]
     },
     "execution_count": 44,
     "metadata": {},
     "output_type": "execute_result"
    }
   ],
   "source": [
    "# Import data\n",
    "file = ('NHL_2016_standings.csv')\n",
    "standings = pd.read_csv(file, index_col='Unnamed: 1')\n",
    "standings[:5]"
   ]
  },
  {
   "cell_type": "code",
   "execution_count": 46,
   "metadata": {},
   "outputs": [
    {
     "data": {
      "text/html": [
       "<div>\n",
       "<style scoped>\n",
       "    .dataframe tbody tr th:only-of-type {\n",
       "        vertical-align: middle;\n",
       "    }\n",
       "\n",
       "    .dataframe tbody tr th {\n",
       "        vertical-align: top;\n",
       "    }\n",
       "\n",
       "    .dataframe thead th {\n",
       "        text-align: right;\n",
       "    }\n",
       "</style>\n",
       "<table border=\"1\" class=\"dataframe\">\n",
       "  <thead>\n",
       "    <tr style=\"text-align: right;\">\n",
       "      <th></th>\n",
       "      <th>Date</th>\n",
       "      <th>Visitor Team</th>\n",
       "      <th>Visitor Goals</th>\n",
       "      <th>Home Team</th>\n",
       "      <th>Home Goals</th>\n",
       "      <th>HomeWin</th>\n",
       "      <th>HomeTeamUnderdog</th>\n",
       "    </tr>\n",
       "  </thead>\n",
       "  <tbody>\n",
       "    <tr>\n",
       "      <th>0</th>\n",
       "      <td>2016-10-12</td>\n",
       "      <td>St. Louis Blues</td>\n",
       "      <td>5</td>\n",
       "      <td>Chicago Blackhawks</td>\n",
       "      <td>2</td>\n",
       "      <td>False</td>\n",
       "      <td>True</td>\n",
       "    </tr>\n",
       "    <tr>\n",
       "      <th>1</th>\n",
       "      <td>2016-10-12</td>\n",
       "      <td>Calgary Flames</td>\n",
       "      <td>4</td>\n",
       "      <td>Edmonton Oilers</td>\n",
       "      <td>7</td>\n",
       "      <td>True</td>\n",
       "      <td>True</td>\n",
       "    </tr>\n",
       "    <tr>\n",
       "      <th>2</th>\n",
       "      <td>2016-10-12</td>\n",
       "      <td>Toronto Maple Leafs</td>\n",
       "      <td>4</td>\n",
       "      <td>Ottawa Senators</td>\n",
       "      <td>5</td>\n",
       "      <td>True</td>\n",
       "      <td>False</td>\n",
       "    </tr>\n",
       "    <tr>\n",
       "      <th>3</th>\n",
       "      <td>2016-10-12</td>\n",
       "      <td>Los Angeles Kings</td>\n",
       "      <td>1</td>\n",
       "      <td>San Jose Sharks</td>\n",
       "      <td>2</td>\n",
       "      <td>True</td>\n",
       "      <td>True</td>\n",
       "    </tr>\n",
       "    <tr>\n",
       "      <th>4</th>\n",
       "      <td>2016-10-13</td>\n",
       "      <td>Montreal Canadiens</td>\n",
       "      <td>4</td>\n",
       "      <td>Buffalo Sabres</td>\n",
       "      <td>1</td>\n",
       "      <td>False</td>\n",
       "      <td>True</td>\n",
       "    </tr>\n",
       "  </tbody>\n",
       "</table>\n",
       "</div>"
      ],
      "text/plain": [
       "        Date         Visitor Team  Visitor Goals           Home Team  \\\n",
       "0 2016-10-12      St. Louis Blues              5  Chicago Blackhawks   \n",
       "1 2016-10-12       Calgary Flames              4     Edmonton Oilers   \n",
       "2 2016-10-12  Toronto Maple Leafs              4     Ottawa Senators   \n",
       "3 2016-10-12    Los Angeles Kings              1     San Jose Sharks   \n",
       "4 2016-10-13   Montreal Canadiens              4      Buffalo Sabres   \n",
       "\n",
       "   Home Goals  HomeWin  HomeTeamUnderdog  \n",
       "0           2    False              True  \n",
       "1           7     True              True  \n",
       "2           5     True             False  \n",
       "3           2     True              True  \n",
       "4           1    False              True  "
      ]
     },
     "execution_count": 46,
     "metadata": {},
     "output_type": "execute_result"
    }
   ],
   "source": [
    "# Create a new feature - HomeTeamUnderdog (ranks lower)\n",
    "\n",
    "def home_team_underdog(row):\n",
    "    home_team = row[\"Home Team\"]\n",
    "    visitor_team = row[\"Visitor Team\"]\n",
    "    \n",
    "    home_rank = standings.loc[home_team][\"Rk\"]\n",
    "    visitor_rank = standings.loc[visitor_team][\"Rk\"]\n",
    "    return visitor_rank < home_rank\n",
    "\n",
    "# This will return a boolean result, either True or False and the line below will take whatever this boolean result is\n",
    "# and place it into \"HomeTeamUnderdog\"\n",
    "df[\"HomeTeamUnderdog\"] = df.apply(home_team_underdog, axis=1)\n",
    "df[:5][['Date', 'Visitor Team', 'Visitor Goals', 'Home Team', 'Home Goals', 'HomeWin', 'HomeTeamUnderdog']]"
   ]
  },
  {
   "cell_type": "code",
   "execution_count": 53,
   "metadata": {},
   "outputs": [
    {
     "name": "stdout",
     "output_type": "stream",
     "text": [
      "By considering last seasons' rankings, the new F1 score is:\n",
      "F1: 0.5086\n"
     ]
    },
    {
     "name": "stderr",
     "output_type": "stream",
     "text": [
      "/Users/nathanielhoffelmeyer/anaconda3/lib/python3.6/site-packages/sklearn/model_selection/_split.py:2053: FutureWarning: You should specify a value for 'cv' instead of relying on the default value. The default value will change from 3 to 5 in version 0.22.\n",
      "  warnings.warn(CV_WARNING, FutureWarning)\n"
     ]
    }
   ],
   "source": [
    "# Decision Tree Classifier with new feature of whether home team is the underdog\n",
    "x_homeunderdog = df[[\"HomeLastWin\", \"VisitorLastWin\", \"HomeWinStreak\", \"VisitorWinStreak\", \"HomeTeamUnderdog\"]].values\n",
    "\n",
    "dtc = DecisionTreeClassifier(random_state=10)\n",
    "scores = cross_val_score(dtc, x_homeunderdog, y_true, scoring=scorer)\n",
    "print(\"By considering last seasons' rankings, the new F1 score is:\")\n",
    "print(\"F1: {0:.4f}\".format(np.mean(scores)))"
   ]
  },
  {
   "cell_type": "markdown",
   "metadata": {},
   "source": [
    "Adding previous season's rankings does slightly improve model performance to an F1 of 0.5086, which year to year can be expected as teams are typically not fluctuating from top to bottom in just one season."
   ]
  },
  {
   "cell_type": "markdown",
   "metadata": {},
   "source": [
    "Now that features have been incorporated, it is time for model tuning. Given that so far the best performing model took into account whether the home team was an underdog or not, that is the model that will be tuned. GridSearchCV is a function in Scikit-Learn that allows quick searching of various model parameters, which can be leveraged in this analysis as such:"
   ]
  },
  {
   "cell_type": "code",
   "execution_count": 54,
   "metadata": {},
   "outputs": [
    {
     "name": "stderr",
     "output_type": "stream",
     "text": [
      "/Users/nathanielhoffelmeyer/anaconda3/lib/python3.6/site-packages/sklearn/model_selection/_split.py:2053: FutureWarning: You should specify a value for 'cv' instead of relying on the default value. The default value will change from 3 to 5 in version 0.22.\n",
      "  warnings.warn(CV_WARNING, FutureWarning)\n",
      "/Users/nathanielhoffelmeyer/anaconda3/lib/python3.6/site-packages/sklearn/metrics/classification.py:1143: UndefinedMetricWarning: F-score is ill-defined and being set to 0.0 in labels with no predicted samples.\n",
      "  'precision', 'predicted', average, warn_for)\n",
      "/Users/nathanielhoffelmeyer/anaconda3/lib/python3.6/site-packages/sklearn/metrics/classification.py:1143: UndefinedMetricWarning: F-score is ill-defined and being set to 0.0 in labels with no predicted samples.\n",
      "  'precision', 'predicted', average, warn_for)\n"
     ]
    },
    {
     "name": "stdout",
     "output_type": "stream",
     "text": [
      "F1 Score: 0.5086\n"
     ]
    }
   ],
   "source": [
    "from sklearn.model_selection import GridSearchCV\n",
    "i = list(range(1,21))\n",
    "\n",
    "parameter_space = {\"max_depth\": i}\n",
    "\n",
    "dtc = DecisionTreeClassifier(random_state=10)\n",
    "grid = GridSearchCV(dtc, parameter_space, scoring=scorer)\n",
    "grid.fit(x_homeunderdog, y_true)\n",
    "print(\"F1 Score: {0:.4f}\".format(grid.best_score_))"
   ]
  },
  {
   "cell_type": "markdown",
   "metadata": {},
   "source": [
    "GridSearch doesn't improve the model beyond the default used in the HomeUnderdog method. However, it will still be used once a feature set is agreed upon so as to automatically search for the best performing model. This is a good best practice to follow for any budding data scientists out there, but can also be somewhat compute intesive - so it is best to monitor."
   ]
  },
  {
   "cell_type": "markdown",
   "metadata": {},
   "source": [
    "## Visualization\n",
    "Graphs are a great way to see data. Below is shown the features made above and their performance (by F1):"
   ]
  },
  {
   "cell_type": "code",
   "execution_count": 56,
   "metadata": {},
   "outputs": [
    {
     "data": {
      "text/plain": [
       "<matplotlib.axes._subplots.AxesSubplot at 0x1a1878a320>"
      ]
     },
     "execution_count": 56,
     "metadata": {},
     "output_type": "execute_result"
    },
    {
     "data": {
      "image/png": "[encoded data removed]",
      "text/plain": [
       "<Figure size 432x288 with 1 Axes>"
      ]
     },
     "metadata": {},
     "output_type": "display_data"
    }
   ],
   "source": [
    "# Visual summarization of features\n",
    "%matplotlib inline\n",
    "import seaborn as sns\n",
    "import matplotlib.pyplot as plt\n",
    "from mpl_toolkits.axes_grid1.axes_divider import make_axes_area_auto_adjustable\n",
    "\n",
    "labels = [\"Baseline\", \"LastWin\", \"WinStreak\", \"Rank\"]\n",
    "scores = [0.3998, 0.3998, 0.4951, 0.5086]\n",
    "\n",
    "sns.set(style=\"darkgrid\", context=\"talk\")\n",
    "sns.barplot(labels, scores)"
   ]
  },
  {
   "cell_type": "markdown",
   "metadata": {},
   "source": [
    "## Encoding\n",
    "One of the most important pieces of information in the dataset that has been ignored thus far: the actual teams. Currently, the team names are stored as strings (e.g. \"San Jose Sharks\") and classification methods do not work well on string values. \n",
    "\n",
    "By utilizing the 'one hot encoder' method built into Scikit-Learn, the team names can be labeled in a numeric, categorical, fashion so that a classifier can better understand them and potentially provide much more information to our model in determining proper predictions. Essentially what this will allow from a modeling perspective is to ask the program a question:\n",
    "\n",
    "Was this team \"insert team name here\"? The program then returns 1 (for yes) and 0 (for no). This is also known as creating a dummy variable for the purposes of classification."
   ]
  },
  {
   "cell_type": "code",
   "execution_count": 58,
   "metadata": {},
   "outputs": [
    {
     "data": {
      "text/plain": [
       "LabelEncoder()"
      ]
     },
     "execution_count": 58,
     "metadata": {},
     "output_type": "execute_result"
    }
   ],
   "source": [
    "from sklearn.preprocessing import LabelEncoder, OneHotEncoder\n",
    "encoding = LabelEncoder()\n",
    "encoding.fit(df[\"Home Team\"].values)"
   ]
  },
  {
   "cell_type": "code",
   "execution_count": 59,
   "metadata": {},
   "outputs": [
    {
     "data": {
      "text/plain": [
       "(array([[ 6, 24],\n",
       "        [11,  4],\n",
       "        [20, 26],\n",
       "        [23, 13],\n",
       "        [ 3, 15]]), (1317, 2))"
      ]
     },
     "execution_count": 59,
     "metadata": {},
     "output_type": "execute_result"
    }
   ],
   "source": [
    "home = encoding.transform(df[\"Home Team\"].values)\n",
    "visitor = encoding.transform(df[\"Visitor Team\"].values)\n",
    "\n",
    "# vstack allows stacking a sequence of arrays vertically to make easy comparisons\n",
    "x_teams = np.vstack([home, visitor]).T # transpose\n",
    "\n",
    "x_teams[:5], x_teams.shape"
   ]
  },
  {
   "cell_type": "code",
   "execution_count": 60,
   "metadata": {},
   "outputs": [
    {
     "name": "stderr",
     "output_type": "stream",
     "text": [
      "/Users/nathanielhoffelmeyer/anaconda3/lib/python3.6/site-packages/sklearn/preprocessing/_encoders.py:368: FutureWarning: The handling of integer data will change in version 0.22. Currently, the categories are determined based on the range [0, max(values)], while in the future they will be determined based on the unique values.\n",
      "If you want the future behaviour and silence this warning, you can specify \"categories='auto'\".\n",
      "In case you used a LabelEncoder before this OneHotEncoder to convert the categories to integers, then you can now use the OneHotEncoder directly.\n",
      "  warnings.warn(msg, FutureWarning)\n"
     ]
    }
   ],
   "source": [
    "# Prepare the One Hot Encoder\n",
    "onehot = OneHotEncoder()\n",
    "x_teams = onehot.fit_transform(x_teams).todense() # todense returns a matrix"
   ]
  },
  {
   "cell_type": "code",
   "execution_count": 61,
   "metadata": {},
   "outputs": [
    {
     "data": {
      "text/plain": [
       "(1317, 60)"
      ]
     },
     "execution_count": 61,
     "metadata": {},
     "output_type": "execute_result"
    }
   ],
   "source": [
    "x_teams.shape # check matrix"
   ]
  },
  {
   "cell_type": "markdown",
   "metadata": {},
   "source": [
    "Now that encoding is complete, the decision tree classifier can again be tested:"
   ]
  },
  {
   "cell_type": "code",
   "execution_count": 62,
   "metadata": {},
   "outputs": [
    {
     "name": "stdout",
     "output_type": "stream",
     "text": [
      "The F1 score using encoded teams is the following: 0.5410\n"
     ]
    },
    {
     "name": "stderr",
     "output_type": "stream",
     "text": [
      "/Users/nathanielhoffelmeyer/anaconda3/lib/python3.6/site-packages/sklearn/model_selection/_split.py:2053: FutureWarning: You should specify a value for 'cv' instead of relying on the default value. The default value will change from 3 to 5 in version 0.22.\n",
      "  warnings.warn(CV_WARNING, FutureWarning)\n"
     ]
    }
   ],
   "source": [
    "dtc = DecisionTreeClassifier(random_state=10)\n",
    "scores = cross_val_score(dtc, x_teams, y_true, scoring=scorer)\n",
    "\n",
    "# Note: The only feature is the encoder we just made\n",
    "print(\"The F1 score using encoded teams is the following: {0:.4f}\".format(np.mean(scores)))"
   ]
  },
  {
   "cell_type": "markdown",
   "metadata": {},
   "source": [
    "Encoding has allowed a performance improvement of ~ 4%"
   ]
  },
  {
   "cell_type": "markdown",
   "metadata": {},
   "source": [
    "# Random Forest Classification\n",
    "Upon completion of encoding, Random Forest modeling is ready to commence. Outlined below are a series of steps for building a Random Forest Classifier, followed by analysis of the results as it relates to the current data set.\n",
    "\n",
    "First, features are combined with the encoding done immediately prior to this step, and as mentioned earlier, the analysis incorporates GridSearch to determine the optimal model build."
   ]
  },
  {
   "cell_type": "code",
   "execution_count": 65,
   "metadata": {},
   "outputs": [
    {
     "name": "stdout",
     "output_type": "stream",
     "text": [
      "(1317, 65)\n"
     ]
    }
   ],
   "source": [
    "x_all = np.hstack([x_homeunderdog, x_teams])\n",
    "print(x_all.shape)"
   ]
  },
  {
   "cell_type": "code",
   "execution_count": 66,
   "metadata": {},
   "outputs": [
    {
     "name": "stderr",
     "output_type": "stream",
     "text": [
      "/Users/nathanielhoffelmeyer/anaconda3/lib/python3.6/site-packages/sklearn/model_selection/_split.py:2053: FutureWarning: You should specify a value for 'cv' instead of relying on the default value. The default value will change from 3 to 5 in version 0.22.\n",
      "  warnings.warn(CV_WARNING, FutureWarning)\n"
     ]
    },
    {
     "name": "stdout",
     "output_type": "stream",
     "text": [
      "F1 score: 0.5483\n",
      "RandomForestClassifier(bootstrap=True, class_weight=None, criterion='entropy',\n",
      "            max_depth=None, max_features=10, max_leaf_nodes=None,\n",
      "            min_impurity_decrease=0.0, min_impurity_split=None,\n",
      "            min_samples_leaf=4, min_samples_split=2,\n",
      "            min_weight_fraction_leaf=0.0, n_estimators=100, n_jobs=None,\n",
      "            oob_score=False, random_state=10, verbose=0, warm_start=False)\n"
     ]
    }
   ],
   "source": [
    "# Random Forest Classifier with GridSearch\n",
    "parameter_space = {\n",
    "    \"max_features\": [2, 10, 50, 'auto'],\n",
    "    \"n_estimators\": [50, 100, 200],\n",
    "    \"criterion\": [\"gini\", \"entropy\"],\n",
    "    \"min_samples_leaf\": [1,2,4,6],\n",
    "}\n",
    "\n",
    "rfc = RandomForestClassifier(random_state=10)\n",
    "grid = GridSearchCV(rfc, parameter_space, scoring=scorer)\n",
    "grid.fit(x_all, y_true)\n",
    "print(\"F1 score: {0:.4f}\".format(grid.best_score_))\n",
    "print(grid.best_estimator_)"
   ]
  },
  {
   "cell_type": "markdown",
   "metadata": {},
   "source": [
    "Model complete! Because graphs are visually stunning, and an easy way to interpret data. Let's see how our features improved as we added, and finally encoded, to run with a Random Forest Classifier:"
   ]
  },
  {
   "cell_type": "code",
   "execution_count": 69,
   "metadata": {},
   "outputs": [
    {
     "data": {
      "image/png": "[encoded data removed]",
      "text/plain": [
       "<Figure size 432x288 with 1 Axes>"
      ]
     },
     "metadata": {},
     "output_type": "display_data"
    }
   ],
   "source": [
    "labels = [\"Base\", \"Last-W\", \"Streak\", \"Rank\", \"DTC\", \"RFC\"]\n",
    "scores = [0.3998, 0.3998, 0.4951, 0.5086, 0.5410, 0.5483]\n",
    "sns.set(style=\"darkgrid\", context=\"talk\")\n",
    "sns.barplot(labels, scores);"
   ]
  },
  {
   "cell_type": "markdown",
   "metadata": {},
   "source": [
    "And so, thanks to the building of features within data sets and across data sets, coupled with encoding from built in scikit-learn methods, python programming has allowed the predictive capacity of available models to improve from a baseline F1 score of 0.3998 to 0.5483.\n",
    "\n",
    "Future iterations of a project of this nature will look to test data against following season data. In this case, that would be 2017-2018 data for any who are looking to take this model and test performance. That will be beyond the scope of this analysis.\n",
    "\n",
    "What is learned is that feature building is crucial to model performance, and that after a point we risk both degraded marginal improvements by only looking at in-sample features. This can be remedied by incorporating features from outside data sets that have some relation to the data being analysed, of course. Finally, it is learned that encoding has a large marginal impact - which is a known phenomenon for classification methods."
   ]
  },
  {
   "cell_type": "code",
   "execution_count": null,
   "metadata": {},
   "outputs": [],
   "source": []
  }
 ],
 "metadata": {
  "kernelspec": {
   "display_name": "Python 3",
   "language": "python",
   "name": "python3"
  },
  "language_info": {
   "codemirror_mode": {
    "name": "ipython",
    "version": 3
   },
   "file_extension": ".py",
   "mimetype": "text/x-python",
   "name": "python",
   "nbconvert_exporter": "python",
   "pygments_lexer": "ipython3",
   "version": "3.7.0"
  }
 },
 "nbformat": 4,
 "nbformat_minor": 2
}
