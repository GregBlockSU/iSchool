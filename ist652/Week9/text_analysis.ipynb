{
 "cells": [
  {
   "cell_type": "code",
   "execution_count": 8,
   "metadata": {},
   "outputs": [
    {
     "name": "stdout",
     "output_type": "stream",
     "text": [
      "0.13144283286806654\n",
      "In Congress, July 4, 0.0\n",
      "The unanimous Declar 0.03333333333333333\n",
      "We hold these truths 0.14876033057851237\n",
      "Prudence, indeed, wi 0.2839285714285714\n",
      "But when a long trai 0.06356421356421356\n",
      "The history of the p 0.275\n",
      "To prove this, let F 0.6\n",
      "He has refused his A 0.3\n",
      "He has forbidden his 0.0\n",
      "He has refused to pa 0.13214285714285715\n",
      "He has called togeth -0.08\n",
      "He has dissolved Rep 0.0\n",
      "He has refused for a -0.037053571428571436\n",
      "He has endeavoured t 0.13636363636363635\n",
      "He has obstructed th 0.0\n",
      "He has made Judges d 0.0\n",
      "He has erected a mul 0.13636363636363635\n",
      "He has kept among us 0.0\n",
      "He has affected to r 0.19999999999999998\n",
      "He has combined with 0.1402014652014652\n",
      "He has abdicated Gov 0.0\n",
      "He has plundered our 0.0\n",
      "He is at this time t 0.16488095238095238\n",
      "He has constrained o 0.18\n",
      "He has excited domes -0.10833333333333332\n",
      "In every stage of th 0.09999999999999999\n",
      "A Prince whose chara 0.25\n",
      "Nor have We been wan 0.0\n",
      "We have warned them  0.0\n",
      "We have reminded the 0.0\n",
      "We have appealed to  -0.15\n",
      "They too have been d 0.0\n",
      "We must, therefore,  0.0\n",
      "We, therefore, the R 0.2279017857142857\n",
      "And for the support  -0.1625\n"
     ]
    }
   ],
   "source": [
    "import nltk\n",
    "from textblob import TextBlob\n",
    "\n"
   ]
  },
  {
   "cell_type": "code",
   "execution_count": 17,
   "metadata": {},
   "outputs": [],
   "source": [
    "def get_doi():\n",
    "    sentence_list = [] \n",
    "    with open('doi.txt') as InputFile: \n",
    "        for line in InputFile: \n",
    "            sentence_list.append(line) \n",
    "    return sentence_list\n",
    "\n",
    "def get_frequencies():\n",
    "    sentences = get_doi()\n",
    "    all_tokens = [tok.lower() for item in sentences for tok in nltk.word_tokenize(item)] \n",
    "    \n",
    "    print(f'Tokens: {len(all_tokens)}') \n",
    "    token_freq = nltk.FreqDist(all_tokens) \n",
    "    print(token_freq.most_common(20) )\n",
    "    \n",
    "def get_polarity():\n",
    "    with open('doi.txt') as InputFile: \n",
    "        blob = TextBlob(InputFile.read()) \n",
    " \n",
    "    print(blob.polarity) \n",
    " \n",
    "    for sentence in blob.sentences: \n",
    "        print(f'{sentence[0:20]}, polarity: {sentence.polarity}') \n"
   ]
  },
  {
   "cell_type": "code",
   "execution_count": 18,
   "metadata": {},
   "outputs": [
    {
     "name": "stdout",
     "output_type": "stream",
     "text": [
      "Tokens: 1502\n",
      "[(',', 107), ('the', 78), ('of', 78), ('to', 65), ('and', 56), ('.', 35), ('for', 29), ('our', 26), ('in', 20), ('their', 20), ('has', 20), ('he', 19), ('a', 16), ('them', 15), ('that', 13), ('these', 13), ('by', 13), ('have', 11), ('we', 11), ('us', 11)]\n",
      "0.13144283286806654\n",
      "In Congress, July 4,, polarity: 0.0\n",
      "The unanimous Declar, polarity: 0.03333333333333333\n",
      "We hold these truths, polarity: 0.14876033057851237\n",
      "Prudence, indeed, wi, polarity: 0.2839285714285714\n",
      "But when a long trai, polarity: 0.06356421356421356\n",
      "The history of the p, polarity: 0.275\n",
      "To prove this, let F, polarity: 0.6\n",
      "He has refused his A, polarity: 0.3\n",
      "He has forbidden his, polarity: 0.0\n",
      "He has refused to pa, polarity: 0.13214285714285715\n",
      "He has called togeth, polarity: -0.08\n",
      "He has dissolved Rep, polarity: 0.0\n",
      "He has refused for a, polarity: -0.037053571428571436\n",
      "He has endeavoured t, polarity: 0.13636363636363635\n",
      "He has obstructed th, polarity: 0.0\n",
      "He has made Judges d, polarity: 0.0\n",
      "He has erected a mul, polarity: 0.13636363636363635\n",
      "He has kept among us, polarity: 0.0\n",
      "He has affected to r, polarity: 0.19999999999999998\n",
      "He has combined with, polarity: 0.1402014652014652\n",
      "He has abdicated Gov, polarity: 0.0\n",
      "He has plundered our, polarity: 0.0\n",
      "He is at this time t, polarity: 0.16488095238095238\n",
      "He has constrained o, polarity: 0.18\n",
      "He has excited domes, polarity: -0.10833333333333332\n",
      "In every stage of th, polarity: 0.09999999999999999\n",
      "A Prince whose chara, polarity: 0.25\n",
      "Nor have We been wan, polarity: 0.0\n",
      "We have warned them , polarity: 0.0\n",
      "We have reminded the, polarity: 0.0\n",
      "We have appealed to , polarity: -0.15\n",
      "They too have been d, polarity: 0.0\n",
      "We must, therefore, , polarity: 0.0\n",
      "We, therefore, the R, polarity: 0.2279017857142857\n",
      "And for the support , polarity: -0.1625\n"
     ]
    }
   ],
   "source": [
    "get_frequencies()\n",
    "get_polarity()"
   ]
  },
  {
   "cell_type": "code",
   "execution_count": null,
   "metadata": {},
   "outputs": [],
   "source": []
  }
 ],
 "metadata": {
  "kernelspec": {
   "display_name": "Python 3",
   "language": "python",
   "name": "python3"
  },
  "language_info": {
   "codemirror_mode": {
    "name": "ipython",
    "version": 3
   },
   "file_extension": ".py",
   "mimetype": "text/x-python",
   "name": "python",
   "nbconvert_exporter": "python",
   "pygments_lexer": "ipython3",
   "version": "3.7.3"
  }
 },
 "nbformat": 4,
 "nbformat_minor": 2
}
