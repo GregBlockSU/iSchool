{
 "cells": [
  {
   "cell_type": "code",
   "execution_count": 1,
   "metadata": {},
   "outputs": [],
   "source": [
    "import nltk\n",
    "from textblob import TextBlob"
   ]
  },
  {
   "cell_type": "code",
   "execution_count": 11,
   "metadata": {},
   "outputs": [],
   "source": [
    "def get_doi():\n",
    "    sentence_list = [] \n",
    "    with open('doi.txt') as InputFile: \n",
    "        for line in InputFile: \n",
    "            sentence_list.append(line) \n",
    "    return sentence_list\n",
    "\n",
    "# displays the \n",
    "def get_frequencies():\n",
    "    sentences = get_doi()\n",
    "    all_tokens = [tok.lower() for item in sentences for tok in nltk.word_tokenize(item)] \n",
    "    \n",
    "    print(f'Tokens: {len(all_tokens)}') \n",
    "    token_freq = nltk.FreqDist(all_tokens) \n",
    "    return token_freq\n",
    "\n",
    "    # prints the polarity of each sentence\n",
    "def get_polarity():\n",
    "    with open('doi.txt') as InputFile: \n",
    "        blob = TextBlob(InputFile.read()) \n",
    " \n",
    "    print(f'The document polarity is {blob.polarity}') \n",
    " \n",
    "    for sentence in blob.sentences: \n",
    "        print(f'{sentence[0:40]}, polarity: {sentence.polarity}') \n"
   ]
  },
  {
   "cell_type": "code",
   "execution_count": 9,
   "metadata": {},
   "outputs": [
    {
     "name": "stdout",
     "output_type": "stream",
     "text": [
      "Tokens: 1502\n",
      "[(',', 107), ('the', 78), ('of', 78), ('to', 65), ('and', 56), ('.', 35), ('for', 29), ('our', 26), ('in', 20), ('their', 20), ('has', 20), ('he', 19), ('a', 16), ('them', 15), ('that', 13), ('these', 13), ('by', 13), ('have', 11), ('we', 11), ('us', 11)]\n",
      "Word: ,, frequency: 107\n",
      "Word: the, frequency: 78\n",
      "Word: of, frequency: 78\n",
      "Word: to, frequency: 65\n",
      "Word: and, frequency: 56\n",
      "Word: ., frequency: 35\n",
      "Word: for, frequency: 29\n",
      "Word: our, frequency: 26\n",
      "Word: in, frequency: 20\n",
      "Word: their, frequency: 20\n",
      "Word: has, frequency: 20\n",
      "Word: he, frequency: 19\n",
      "Word: a, frequency: 16\n",
      "Word: them, frequency: 15\n",
      "Word: that, frequency: 13\n",
      "Word: these, frequency: 13\n",
      "Word: by, frequency: 13\n",
      "Word: have, frequency: 11\n",
      "Word: we, frequency: 11\n",
      "Word: us, frequency: 11\n"
     ]
    }
   ],
   "source": [
    "word_freqs = get_frequencies()\n",
    "for word,freq in word_freqs.most_common(20):\n",
    "    print(f'Word: {word}, frequency: {freq}')"
   ]
  },
  {
   "cell_type": "code",
   "execution_count": 12,
   "metadata": {},
   "outputs": [
    {
     "name": "stdout",
     "output_type": "stream",
     "text": [
      "The document polarity is 0.13144283286806654\n",
      "In Congress, July 4, 1776., polarity: 0.0\n",
      "The unanimous Declaration of the thirtee, polarity: 0.03333333333333333\n",
      "We hold these truths to be self-evident,, polarity: 0.14876033057851237\n",
      "Prudence, indeed, will dictate that Gove, polarity: 0.2839285714285714\n",
      "But when a long train of abuses and usur, polarity: 0.06356421356421356\n",
      "The history of the present King of Great, polarity: 0.275\n",
      "To prove this, let Facts be submitted to, polarity: 0.6\n",
      "He has refused his Assent to Laws, the m, polarity: 0.3\n",
      "He has forbidden his Governors to pass L, polarity: 0.0\n",
      "He has refused to pass other Laws for th, polarity: 0.13214285714285715\n",
      "He has called together legislative bodie, polarity: -0.08\n",
      "He has dissolved Representative Houses r, polarity: 0.0\n",
      "He has refused for a long time, after su, polarity: -0.037053571428571436\n",
      "He has endeavoured to prevent the popula, polarity: 0.13636363636363635\n",
      "He has obstructed the Administration of , polarity: 0.0\n",
      "He has made Judges dependent on his Will, polarity: 0.0\n",
      "He has erected a multitude of New Office, polarity: 0.13636363636363635\n",
      "He has kept among us, in times of peace,, polarity: 0.0\n",
      "He has affected to render the Military i, polarity: 0.19999999999999998\n",
      "He has combined with others to subject u, polarity: 0.1402014652014652\n",
      "He has abdicated Government here, by dec, polarity: 0.0\n",
      "He has plundered our seas, ravaged our C, polarity: 0.0\n",
      "He is at this time transporting large Ar, polarity: 0.16488095238095238\n",
      "He has constrained our fellow Citizens t, polarity: 0.18\n",
      "He has excited domestic insurrections am, polarity: -0.10833333333333332\n",
      "In every stage of these Oppressions We h, polarity: 0.09999999999999999\n",
      "A Prince whose character is thus marked , polarity: 0.25\n",
      "Nor have We been wanting in attentions t, polarity: 0.0\n",
      "We have warned them from time to time of, polarity: 0.0\n",
      "We have reminded them of the circumstanc, polarity: 0.0\n",
      "We have appealed to their native justice, polarity: -0.15\n",
      "They too have been deaf to the voice of , polarity: 0.0\n",
      "We must, therefore, acquiesce in the nec, polarity: 0.0\n",
      "We, therefore, the Representatives of th, polarity: 0.2279017857142857\n",
      "And for the support of this Declaration,, polarity: -0.1625\n"
     ]
    }
   ],
   "source": [
    "get_polarity()"
   ]
  },
  {
   "cell_type": "code",
   "execution_count": null,
   "metadata": {},
   "outputs": [],
   "source": []
  }
 ],
 "metadata": {
  "kernelspec": {
   "display_name": "Python 3",
   "language": "python",
   "name": "python3"
  },
  "language_info": {
   "codemirror_mode": {
    "name": "ipython",
    "version": 3
   },
   "file_extension": ".py",
   "mimetype": "text/x-python",
   "name": "python",
   "nbconvert_exporter": "python",
   "pygments_lexer": "ipython3",
   "version": "3.7.3"
  }
 },
 "nbformat": 4,
 "nbformat_minor": 2
}
