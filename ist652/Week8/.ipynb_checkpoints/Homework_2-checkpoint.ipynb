{
 "cells": [
  {
   "cell_type": "markdown",
   "metadata": {},
   "source": [
    "# Twitter Sentiment Analysis using Python\n",
    "This project aims to conduct sentiment analysis of a particular topic by parsing the tweets fetched from Twitter using Python.\n",
    "\n",
    "## What is sentiment analysis?\n",
    "Sentiment Analysis is the process of ‘computationally’ determining whether a piece of writing is positive, negative or neutral. It’s also known as opinion mining: deriving the opinion or attitude of a speaker or set of speakers.\n",
    "\n",
    "## Benefits of Sentiment Analysis\n",
    "### Business \n",
    "In marketing, companies use sentiment analysis to develop strategies, understand customers’ attitudes towards products or brands, learn how people respond to strategies, campaigns, or product launches, and gain deeper insight into why consumers may or may some products, support some teams or companies, etc.\n",
    "\n",
    "### Politics\n",
    "In politics, SA is used to keep track of political points of view, to detect consistency and inconsistency between statements and actions at the government level when election monitoring, and also as a proxy for election predictions / who will win.\n",
    "\n",
    "### Public Actions\n",
    "Sentiment Analysis is also used to monitor and analyze social phenomena. For instance, the intelligence community uses SA to track potentially dangerous situations and determine the general mood of the blogosphere in high threat areas, or in cases where they have a criminal suspect that they are monitoring, or network of such, etc.\n",
    "\n",
    "## Project Programs / Packages Needed:\n",
    "For this project, Tweepy and Textblob will be utilized. Tweepy is the python client for the official Twitter API, and Textblob is a python library used for processing textual data (which are what Tweets are!). Finally we'll also use the Natural Language Tool Kit library (NLTK) in Python.\n",
    "\n",
    "## Setup\n",
    "### Authentication\n",
    "In order to fetch tweets through Twitter's API, one needs to register an App through a twitter account. This was accomplished through the following actions:\n",
    "\n",
    "1) Navigated to https://apps.twitter.com/ and clicked: ‘Create New App’\n",
    "2) Completed the application details and made the mock application.\n",
    "3) Copied the necessary ‘Consumer Key’, ‘Consumer Secret’, ‘Access token’ and ‘Access Token Secret’ for app development.\n",
    "\n",
    "'Consumer Key': oUkORoc3PPmAChcnxwfSKbRFL\n",
    "'Consumer Secret': PmASGyF92keg7uTx8j4sNvRtWxzvw8Xm88rpxN7AqECj7YBLDe\n",
    "'Access Token': 65187050-L0WLjPJCAGuvcfQCYhqtJ95MtCPezJGWzhN9niDBa\n",
    "'Access Token Secret': C8OsEpteeL0s9xXoUU5wiip4plExftfIT72qfV7tc3xMf\n",
    "\n",
    "### Finally, on to implementing our program in Python!"
   ]
  },
  {
   "cell_type": "code",
   "execution_count": 1,
   "metadata": {},
   "outputs": [
    {
     "ename": "ModuleNotFoundError",
     "evalue": "No module named 'tweepy'",
     "output_type": "error",
     "traceback": [
      "\u001b[1;31m---------------------------------------------------------------------------\u001b[0m",
      "\u001b[1;31mModuleNotFoundError\u001b[0m                       Traceback (most recent call last)",
      "\u001b[1;32m<ipython-input-1-9ce0631235cb>\u001b[0m in \u001b[0;36m<module>\u001b[1;34m\u001b[0m\n\u001b[0;32m      2\u001b[0m \u001b[1;33m\u001b[0m\u001b[0m\n\u001b[0;32m      3\u001b[0m \u001b[1;32mimport\u001b[0m \u001b[0mre\u001b[0m\u001b[1;33m\u001b[0m\u001b[1;33m\u001b[0m\u001b[0m\n\u001b[1;32m----> 4\u001b[1;33m \u001b[1;32mimport\u001b[0m \u001b[0mtweepy\u001b[0m\u001b[1;33m\u001b[0m\u001b[1;33m\u001b[0m\u001b[0m\n\u001b[0m\u001b[0;32m      5\u001b[0m \u001b[1;32mfrom\u001b[0m \u001b[0mtweepy\u001b[0m \u001b[1;32mimport\u001b[0m \u001b[0mOAuthHandler\u001b[0m\u001b[1;33m\u001b[0m\u001b[1;33m\u001b[0m\u001b[0m\n\u001b[0;32m      6\u001b[0m \u001b[1;32mfrom\u001b[0m \u001b[0mtextblob\u001b[0m \u001b[1;32mimport\u001b[0m \u001b[0mTextBlob\u001b[0m\u001b[1;33m\u001b[0m\u001b[1;33m\u001b[0m\u001b[0m\n",
      "\u001b[1;31mModuleNotFoundError\u001b[0m: No module named 'tweepy'"
     ]
    }
   ],
   "source": [
    "# First, we import the packages necessary for our analysis:\n",
    "\n",
    "import re \n",
    "import tweepy \n",
    "from tweepy import OAuthHandler \n",
    "from textblob import TextBlob"
   ]
  },
  {
   "cell_type": "code",
   "execution_count": 34,
   "metadata": {},
   "outputs": [
    {
     "name": "stdout",
     "output_type": "stream",
     "text": [
      "Positive tweets percentage: 20.512820512820515 %\n",
      "Negative tweets percentage: 70.51282051282051 %\n",
      "\n",
      "\n",
      "Positive tweets:\n",
      "RT @WeAreQ4451: What a shame!! How can anyone in the Liberla party, MSM or any sane person justify this? I can honestly say I'm embarrassed…\n",
      "RT @itsyaboyyheng: gets home from a great day with friends\n",
      "\n",
      "don’t do it \n",
      "don’t do it\n",
      "don’t do it\n",
      "don’t do it\n",
      "don’t do it \n",
      "don’t do it\n",
      "don’t…\n",
      "RT @Ziyaatulhaqq: I’m not even pro marriage. But I’ve noticed how women have nothing good to say about marriage ths days. Please MARRIAGE I…\n",
      "Watching #ChildrenInNeed. In bits. So many sad stories. So many amazing brave kids...x\n",
      "why is it when i am rwally sad that nobody is online lmao\n",
      "\n",
      "\n",
      "Negative tweets:\n",
      "RT @namtiddies: i still can't get over the fact that fucking tata hides in his dimple im so fucking sad  https://t.co/SsdLnJ1Ndr\n",
      "RT @JULIIIEETTTEEE: ...i just know this is gonna be sad as fuck😔 https://t.co/a6F9DQbC3N\n",
      "RT @Runiktv: i got a happy ass personality w a sad soul, sorry if i b acting weird\n",
      "RT @drugrixh_peso: It’s sad but it’s life\n",
      "RT @lexxxx_sanchez: Me listening to sad songs even tho I’m already sad but not sad enough https://t.co/ORUQOLHOGn\n"
     ]
    }
   ],
   "source": [
    "# Next we create a generic Twitter class for our analysis:\n",
    "\n",
    "# First we create a TwitterClient class. \n",
    "# This class contains all the methods to interact with Twitter API and allows us to parse tweets.\n",
    "# We then use an initialization (__init__) function to handle the authentication of Twitter's API client.\n",
    "\n",
    "class TwitterClient(object): \n",
    "    ''' \n",
    "    Generic Twitter Class for sentiment analysis. \n",
    "    '''\n",
    "    def __init__(self): \n",
    "        ''' \n",
    "        initialization our method (which DB file didn't do in asynch ;))\n",
    "        '''\n",
    "        # keys and tokens from the Twitter Dev Console \n",
    "        consumer_key = 'oUkORoc3PPmAChcnxwfSKbRFL'\n",
    "        consumer_secret = 'PmASGyF92keg7uTx8j4sNvRtWxzvw8Xm88rpxN7AqECj7YBLDe'\n",
    "        access_token = '65187050-L0WLjPJCAGuvcfQCYhqtJ95MtCPezJGWzhN9niDBa'\n",
    "        access_token_secret = 'C8OsEpteeL0s9xXoUU5wiip4plExftfIT72qfV7tc3xMf'\n",
    "  \n",
    "        # attempt authentication \n",
    "        try: \n",
    "            # create OAuthHandler object \n",
    "            self.auth = OAuthHandler(consumer_key, consumer_secret) \n",
    "            # set access token and secret \n",
    "            self.auth.set_access_token(access_token, access_token_secret) \n",
    "            # create tweepy API object to fetch tweets \n",
    "            self.api = tweepy.API(self.auth) \n",
    "        except: \n",
    "            print(\"Error: Authentication Failed\")\n",
    "  \n",
    "    def clean_tweet(self, tweet): \n",
    "        # This function cleans tweet text by removing hyperlinks and special characters\n",
    "        return ' '.join(re.sub(\"(@[A-Za-z0-9]+)|([^0-9A-Za-z \\t])|(\\w+:\\/\\/\\S+)\", \" \", tweet).split())\n",
    "  \n",
    "    def get_tweet_sentiment(self, tweet): \n",
    "        ''' \n",
    "        This function classifies sentiment of passed tweet \n",
    "        using textblob's predefined and built sentiment method\n",
    "        '''\n",
    "        # create TextBlob object of passed tweet text \n",
    "        analysis = TextBlob(self.clean_tweet(tweet)) \n",
    "        # set sentiment \n",
    "        if analysis.sentiment.polarity > 0: \n",
    "            return 'positive'\n",
    "        elif analysis.sentiment.polarity < 0:\n",
    "            return 'negative'\n",
    "  \n",
    "    def get_tweets(self, query, count = 10):\n",
    "        ''' \n",
    "        This function then fetches tweets and parses them, using lists and dictionaries to store them \n",
    "        '''\n",
    "        # empty list to store parsed tweets \n",
    "        tweets = []\n",
    "  \n",
    "        try: \n",
    "            # call twitter api to fetch tweets \n",
    "            fetched_tweets = self.api.search(q = query, count = count)\n",
    "  \n",
    "            # parsing tweets one by one \n",
    "            for tweet in fetched_tweets: \n",
    "                # empty dictionary to store required params of a tweet \n",
    "                parsed_tweet = {}\n",
    "  \n",
    "                # saving text of tweet \n",
    "                parsed_tweet['text'] = tweet.text \n",
    "                # saving sentiment of tweet \n",
    "                parsed_tweet['sentiment'] = self.get_tweet_sentiment(tweet.text) \n",
    "  \n",
    "                # appending parsed tweet to tweets list \n",
    "                if tweet.retweet_count > 0: \n",
    "                    # if tweet has retweets, ensure that it is appended only once \n",
    "                    if parsed_tweet not in tweets: \n",
    "                        tweets.append(parsed_tweet) \n",
    "                else: \n",
    "                    tweets.append(parsed_tweet) \n",
    "  \n",
    "            # return parsed tweets \n",
    "            return tweets \n",
    "  \n",
    "        except tweepy.TweepError as e: \n",
    "            # print error (if any) \n",
    "            print(\"Error : \" + str(e))\n",
    "\n",
    "# Then we define and call our main function to get back all our tweets:\n",
    "def main(q): \n",
    "    # creating object of TwitterClient Class \n",
    "    api = TwitterClient() \n",
    "    # calling function to get tweets mentioning a specific phrase\n",
    "    tweets = api.get_tweets(query = q, count = 5000)\n",
    "  \n",
    "    # picking positive tweets from tweets \n",
    "    ptweets = [tweet for tweet in tweets if tweet['sentiment'] == 'positive'] \n",
    "    # percentage of positive tweets\n",
    "    print(\"Positive tweets percentage: {} %\".format(100*len(ptweets)/len(tweets))) \n",
    "    # picking negative tweets from tweets \n",
    "    ntweets = [tweet for tweet in tweets if tweet['sentiment'] == 'negative'] \n",
    "    # percentage of negative tweets \n",
    "    print(\"Negative tweets percentage: {} %\".format(100*len(ntweets)/len(tweets))) \n",
    "  \n",
    "    # printing first 5 positive tweets \n",
    "    print(\"\\n\\nPositive tweets:\") \n",
    "    for tweet in ptweets[:5]: \n",
    "        print(tweet['text']) \n",
    "  \n",
    "    # printing first 5 negative tweets \n",
    "    print(\"\\n\\nNegative tweets:\") \n",
    "    for tweet in ntweets[:5]: \n",
    "        print(tweet['text']) \n",
    "if __name__ == \"__main__\": \n",
    "    # calling main function \n",
    "    main('sad') # we parse our query into our main function. Here a simple test to display our program works correctly"
   ]
  },
  {
   "cell_type": "markdown",
   "metadata": {},
   "source": [
    "As we would expect, we see much more negative sentiment tweets when we query 1,000 tweets from twitter under the search term \"sad\". We can verify this again by looking for \"happy\" tweets:"
   ]
  },
  {
   "cell_type": "code",
   "execution_count": 31,
   "metadata": {},
   "outputs": [
    {
     "name": "stdout",
     "output_type": "stream",
     "text": [
      "Positive tweets percentage: 84.44444444444444 %\n",
      "Negative tweets percentage: 8.88888888888889 %\n",
      "\n",
      "\n",
      "Positive tweets:\n",
      "RT @Peruzzi_VIBES: I celebrate everything! I catch every cruise!! I enjoy every minute of my life and these moments!!! Won’t even act like…\n",
      "So like y’all are happy that school is closed due to the air condition ?\n",
      "People are making jokes cause others are w… https://t.co/U1iGsPDNlm\n",
      "RT @ohteenquotes: Being happy is a very personal thing and it has nothing to do with someone else.\n",
      "Happy Friday everyone. We hope that everyone has a great wonderful weekend!!!!!!! #theoutcastclub2 #Happy #Friday… https://t.co/3wvuRWNQdK\n",
      "@grounder761 Hope your day was a good one Chris! Wishing you a happy weekend ☺️\n",
      "RT @MichaelaOkla: If you’re happy and you know it yeet your hands\n",
      "[yeet yeet]\n",
      "RT @OURUFNEKS: We know we belong to the land, and the land we belong to is GRAND! \n",
      "\n",
      "Happy Birthday, Oklahoma! https://t.co/NOva37ME30\n",
      "RT @sahluwal: Happy Friday! Laura Ingram’s radio show was dropped by Fox.\n",
      "RT @salik_omar: Wala na namang happy ending 😢😢  #Glorious 😭😭\n",
      "RT @AmielRNQBitch: “Youth is happy because it has the capacity to see beauty. Anyone who keeps the ability to see beauty never grows old.”…\n",
      "\n",
      "\n",
      "Negative tweets:\n",
      "RT @porkironandwine: Anyone: I like wholesome thing\n",
      "\n",
      "Some edgy asshole: ok but it sucks and lacks depth and is pointless and \n",
      "\n",
      "Me, grabbing…\n",
      "RT @The_Gospels: Happy moments: Praise God\n",
      "\n",
      "Difficult moments: Seek God\n",
      "\n",
      "Quiet moments: Worship God\n",
      "\n",
      "Difficult moments: Trust God\n",
      "\n",
      "Every mo…\n",
      "RT @mayainthemoment: Why is my skin always trying to play me????? Do u not see me buying expensive things 4 u????? Taking the time to figur…\n",
      "RT @Runiktv: i got a happy ass personality w a sad soul, sorry if i b acting weird\n",
      "@ashleytisdale I relate to \"voices in my head\" so so much. This song hits me hard. Thank you for creating this 😭❤ I… https://t.co/oVDCRZwfe1\n",
      "RT @MercyForAnimals: After carrying their babies for 9 months—just like humans—mother cows give birth. Newborn calves are typically taken a…\n",
      "@jdefraine Hi Jon - We are sorry to see this! Please send us a DM with the name of the hotel, dates of your stay, c… https://t.co/UWzSWqObM3\n",
      "RT @yungblud: truth is the purest thing in the fuckin world ... so be yourself, don’t pretened to make some other idiot happy if it affects…\n"
     ]
    }
   ],
   "source": [
    "main('happy')"
   ]
  },
  {
   "cell_type": "markdown",
   "metadata": {},
   "source": [
    "Happy is overwhelmingly positive! But now, let's take a look at 5,000 tweets (so we'll go back, adjust our function, and run it again, based on the search term of \"Iran Nuclear Deal\". Why? We want to see how the twitterverse feels about this right now, as it will be a proxy for whether people are thinking or speaking about Iran positively or negatively:"
   ]
  },
  {
   "cell_type": "code",
   "execution_count": 35,
   "metadata": {},
   "outputs": [
    {
     "name": "stdout",
     "output_type": "stream",
     "text": [
      "Positive tweets percentage: 22.972972972972972 %\n",
      "Negative tweets percentage: 18.91891891891892 %\n",
      "\n",
      "\n",
      "Positive tweets:\n",
      "✌ @Reading \"Iran deal: More sanctions from Trump mean misery for Iran's fliers\" https://t.co/9dIIOP89GZ\n",
      "@JoyVBehar How is Democracy at risk? Passing huge legislation after lying about keeping your doctor and coverage, “… https://t.co/GbL6tEKAXH\n",
      "Aside from all the accusations, who in their right mind would make a deal w/ Trump, when he just tore up the Iran N… https://t.co/7A8zDWs1Nw\n",
      "RT @HeshmatAlavi: 9)\n",
      "…\n",
      "Here @michaelkugelman cites a “scholar” to promote the main purpose of his article:\n",
      "\n",
      "Trump adopting Obama’s approach…\n",
      "RT @TheIranPulse: The reimposition of #sanctions is directly hitting civil aviation in #Iran, dashing the nuclear deal’s promises of safer…\n",
      "\n",
      "\n",
      "Negative tweets:\n",
      "RT @AtlanticCouncil: [ANALYSIS] Macron has yet to achieve any major foreign policy breakthroughs and his attempts to persuade Trump to stay…\n",
      "RT @dotcomdon1: @BreitbartNews If you think that’s bad, wait until you hear this. The American Government once made a deal with Iran to sto…\n",
      "RT @LobeLog: What's behind self-proclaimed \"liberal democrat\" Alan #Dershowitz's loud defense of President Trump and his policies, includin…\n",
      "@BreitbartNews How many people could die because of that vile treasonous Iran Nuclear Deal you and that horrible pr… https://t.co/jCz4B8yxUy\n",
      "@BreitbartNews If you think that’s bad, wait until you hear this. The American Government once made a deal with Ira… https://t.co/UoJd9uKxhg\n"
     ]
    }
   ],
   "source": [
    "main('iran nuclear deal')"
   ]
  },
  {
   "cell_type": "markdown",
   "metadata": {},
   "source": [
    "Interestingly, we can see that Iran is typically referred to positively. This can be deceiving however, as people could be positively speaking about withdrawl from the iran nuclear deal, and may have negative sentiment toward Iran, or toward the deal as a whole. This is one limitation of sentiment analysis, which we can see in action.\n",
    "\n",
    "Let's try this again. Lately, LaMelo Ball - the younger brother of Lonzo Ball, a professional NBA player and a top amateur basketball player himself - has seen his school's opponents canceling games against him and his team because he declared professional previously. That is, many schools don't believe he is a \"valid\" amateur athlete. Thus, let's see how the twitterverse feels about LaMelo Ball here:"
   ]
  },
  {
   "cell_type": "code",
   "execution_count": 36,
   "metadata": {},
   "outputs": [
    {
     "name": "stdout",
     "output_type": "stream",
     "text": [
      "Positive tweets percentage: 71.7948717948718 %\n",
      "Negative tweets percentage: 7.6923076923076925 %\n",
      "\n",
      "\n",
      "Positive tweets:\n",
      "RT @JordanStrack: Ok. So here’s the word:\n",
      "\n",
      "Tomorrow (Saturday) at 9 am will be Rogers vs. Spire followed by St. Francis vs. Spire at 10 am.…\n",
      "I liked a @YouTube video https://t.co/hqpggt8tmC LAMELO BALL PLAYS BASKETBALL LIKE...\n",
      "RT @TMZ: Why Opponents Of LaMelo Ball’s New High School Team Cancel Games (via @NESN) https://t.co/3BjLsBuA5L\n",
      "Lol Lamelo Ball is being treated like a cancer. If he makes it to the league, I'd be thoroughly surprised.\n",
      "Why Opponents Of LaMelo Ball’s New High School Team Cancel Games (via @NESN) https://t.co/3BjLsBuA5L\n",
      "\n",
      "\n",
      "Negative tweets:\n",
      "RT @VSUMPC: 🏀 Life Christian Academy will play SPIRE Institute and LaMelo Ball in a high school basketball non-conference game on Wednesday…\n",
      "Little kids be thinking you’re talking about LaMelo Ball when you’re talking about Carmelo Anthony\n",
      "🏀 Life Christian Academy will play SPIRE Institute and LaMelo Ball in a high school basketball non-conference game… https://t.co/PyKzvMIU65\n"
     ]
    }
   ],
   "source": [
    "main('LaMelo Ball')"
   ]
  },
  {
   "cell_type": "markdown",
   "metadata": {},
   "source": [
    "Again, we see some limitations of our textblob package. At least one tweet in the positive sentiment analysis looks negative, but both our tweets in negative tweets appear neutral to positive? One thing we can do is tweak our sentiment score filters. The scores are on a scale of -1 to +1, so let's adjust them in our function above to 0.5 (were previously 0) and -0.5, to get really positive and really negative scores only:"
   ]
  },
  {
   "cell_type": "code",
   "execution_count": 37,
   "metadata": {},
   "outputs": [
    {
     "name": "stdout",
     "output_type": "stream",
     "text": [
      "Positive tweets percentage: 10.526315789473685 %\n",
      "Negative tweets percentage: 0.0 %\n",
      "\n",
      "\n",
      "Positive tweets:\n",
      "I liked a @YouTube video https://t.co/hqpggt8tmC LAMELO BALL PLAYS BASKETBALL LIKE...\n",
      "I liked a @YouTube video https://t.co/GF6f6ZcCO4 This 7’7\" HS Junior Is Now LAMELO BALL'S Teammate. Can Robert Bobroczky Go From\n",
      "I liked a @YouTube video https://t.co/mnIRGVAw3N The Professor Reacts to Lamelo Ball's 92pts\n",
      "@Djcammon They told you what it was? When I got mine restricted for dogging lamelo ball for slapping a man they never told me! Lol\n",
      "\n",
      "\n",
      "Negative tweets:\n"
     ]
    }
   ],
   "source": [
    "class TwitterClient(object): \n",
    "    def __init__(self): \n",
    "        consumer_key = 'oUkORoc3PPmAChcnxwfSKbRFL'\n",
    "        consumer_secret = 'PmASGyF92keg7uTx8j4sNvRtWxzvw8Xm88rpxN7AqECj7YBLDe'\n",
    "        access_token = '65187050-L0WLjPJCAGuvcfQCYhqtJ95MtCPezJGWzhN9niDBa'\n",
    "        access_token_secret = 'C8OsEpteeL0s9xXoUU5wiip4plExftfIT72qfV7tc3xMf'\n",
    "        \n",
    "        try: \n",
    "            self.auth = OAuthHandler(consumer_key, consumer_secret) \n",
    "            self.auth.set_access_token(access_token, access_token_secret)\n",
    "            self.api = tweepy.API(self.auth) \n",
    "        except: \n",
    "            print(\"Error: Authentication Failed\")\n",
    "  \n",
    "    def clean_tweet(self, tweet): \n",
    "        return ' '.join(re.sub(\"(@[A-Za-z0-9]+)|([^0-9A-Za-z \\t])|(\\w+:\\/\\/\\S+)\", \" \", tweet).split())\n",
    "  \n",
    "    def get_tweet_sentiment(self, tweet): \n",
    "        analysis = TextBlob(self.clean_tweet(tweet)) \n",
    "        if analysis.sentiment.polarity > 0.5: # here we changed our positive score threshold\n",
    "            return 'positive'\n",
    "        elif analysis.sentiment.polarity < -0.5: # here we changed our negative score threshold\n",
    "            return 'negative'\n",
    "  \n",
    "    def get_tweets(self, query, count = 10):\n",
    "        tweets = []\n",
    "  \n",
    "        try: \n",
    "            fetched_tweets = self.api.search(q = query, count = count)\n",
    "  \n",
    "            for tweet in fetched_tweets: \n",
    "                parsed_tweet = {}\n",
    "  \n",
    "                parsed_tweet['text'] = tweet.text \n",
    "                parsed_tweet['sentiment'] = self.get_tweet_sentiment(tweet.text) \n",
    "  \n",
    "                if tweet.retweet_count > 0: \n",
    "                    if parsed_tweet not in tweets: \n",
    "                        tweets.append(parsed_tweet) \n",
    "                else: \n",
    "                    tweets.append(parsed_tweet) \n",
    "  \n",
    "            return tweets \n",
    "  \n",
    "        except tweepy.TweepError as e: \n",
    "            print(\"Error : \" + str(e))\n",
    "\n",
    "def main(q): \n",
    "    api = TwitterClient() \n",
    "    tweets = api.get_tweets(query = q, count = 5000)\n",
    "  \n",
    "    ptweets = [tweet for tweet in tweets if tweet['sentiment'] == 'positive'] \n",
    "    print(\"Positive tweets percentage: {} %\".format(100*len(ptweets)/len(tweets))) \n",
    "    ntweets = [tweet for tweet in tweets if tweet['sentiment'] == 'negative'] \n",
    "    print(\"Negative tweets percentage: {} %\".format(100*len(ntweets)/len(tweets))) \n",
    "  \n",
    "    print(\"\\n\\nPositive tweets:\") \n",
    "    for tweet in ptweets[:5]: \n",
    "        print(tweet['text']) \n",
    "  \n",
    "    print(\"\\n\\nNegative tweets:\") \n",
    "    for tweet in ntweets[:5]: \n",
    "        print(tweet['text']) \n",
    "        \n",
    "if __name__ == \"__main__\": \n",
    "    main('LaMelo Ball')"
   ]
  },
  {
   "cell_type": "markdown",
   "metadata": {},
   "source": [
    "No negative tweets about LaMelo? Maybe people really like the kid :).\n",
    "    \n",
    "Let's try with a more polarizing, and prominent figure: Donald Trump. How does the twitterverse feel about The Donald today?"
   ]
  },
  {
   "cell_type": "code",
   "execution_count": 38,
   "metadata": {},
   "outputs": [
    {
     "name": "stdout",
     "output_type": "stream",
     "text": [
      "Positive tweets percentage: 3.389830508474576 %\n",
      "Negative tweets percentage: 5.084745762711864 %\n",
      "\n",
      "\n",
      "Positive tweets:\n",
      "RT @kimguilfoyle: Heading all across the country today with the incredible @DonaldJTrumpJr - we are hitting five states doing six stops put…\n",
      "https://t.co/HtDk2F6s5S\n",
      "\n",
      "Trump wrote his own answers. God, I hope so!!!!\n",
      "\n",
      "\n",
      "Negative tweets:\n",
      "Donald Trump’s defense mechanisms have truly failed him (Insanely projects chaos and evil in himself on others!)… https://t.co/d7NdAfYQGK\n",
      "RT @CNN: Democratic Sen. Tammy Duckworth said President Donald Trump has \"failed miserably\" in his attempts to support US troops. Duckworth…\n",
      "'the worst communicator' https://t.co/3A2nuJiari via @DailyMailCeleb\n"
     ]
    }
   ],
   "source": [
    "main('Donald Trump')"
   ]
  },
  {
   "cell_type": "markdown",
   "metadata": {},
   "source": [
    "Here we see something interesting. With our main threshold set to 0.5 and -0.5 for the scores of sentiment, we see that Donal Trump is being tweeted about in a marginally negative context, when analysing the latest 5,000 tweets about him. If, however, we were to return our score thresholds to zero - what do people tend to think about Trump?"
   ]
  },
  {
   "cell_type": "code",
   "execution_count": 40,
   "metadata": {},
   "outputs": [
    {
     "name": "stdout",
     "output_type": "stream",
     "text": [
      "Positive tweets percentage: 31.34328358208955 %\n",
      "Negative tweets percentage: 20.895522388059703 %\n",
      "\n",
      "\n",
      "Positive tweets:\n",
      "RT @PalmerReport: Donald Trump’s day so far:\n",
      "\n",
      "- Judge reinstates Jim Acosta’s press pass\n",
      "- Mueller arresting big fish within ten days\n",
      "- Jul…\n",
      "California, you know how to welcome Trump tomorrow as he goes there to see firefighters only\n",
      "\n",
      "TRUMP SUGGESTS NOT RA… https://t.co/vtdPNYyE3T\n",
      "RT @itsJeffTiedrich: Melania Trump calls for the ouster of a top national security aide and then returns to her day job: sitting in her roo…\n",
      "RT @HuffPost: President Donald Trump says he was too busy \"on calls\" to honor soldiers on Veterans Day. https://t.co/XNthkSt2C2\n",
      "1/2 Love it!: \"Whitakers all the way down\"--nice turn of phrase by the ever-estimable David Brooks for the inept, c… https://t.co/MqCowWDhxW\n",
      "\n",
      "\n",
      "Negative tweets:\n",
      "#DonaldTrump has \"failed miserably\" in supporting troops and their families, says #Democratsenator and...… https://t.co/zUc7fnyeQM\n",
      "RT @CNNTonight: .@DonLemon: Pres Trump, in his tweets this morning, confirmed the reporting: He is angry, he's unhinged and \"he's pissed --…\n",
      "Commander in crap: Donald Trump toilet brush making bathrooms great again https://t.co/TtYOURj45d\n",
      "RT @krassenstein: Dear Donald, \n",
      "\n",
      "Jim Acosta and CNN are coming back into your Press Conferences and you can't do a single thing about it, j…\n",
      "RT @PalmerReport: Here's just how badly Donald Trump has blown it https://t.co/esgv4VlJuX\n"
     ]
    }
   ],
   "source": [
    "class TwitterClient(object): \n",
    "    def __init__(self): \n",
    "        consumer_key = 'oUkORoc3PPmAChcnxwfSKbRFL'\n",
    "        consumer_secret = 'PmASGyF92keg7uTx8j4sNvRtWxzvw8Xm88rpxN7AqECj7YBLDe'\n",
    "        access_token = '65187050-L0WLjPJCAGuvcfQCYhqtJ95MtCPezJGWzhN9niDBa'\n",
    "        access_token_secret = 'C8OsEpteeL0s9xXoUU5wiip4plExftfIT72qfV7tc3xMf'\n",
    "        \n",
    "        try: \n",
    "            self.auth = OAuthHandler(consumer_key, consumer_secret) \n",
    "            self.auth.set_access_token(access_token, access_token_secret)\n",
    "            self.api = tweepy.API(self.auth) \n",
    "        except: \n",
    "            print(\"Error: Authentication Failed\")\n",
    "  \n",
    "    def clean_tweet(self, tweet): \n",
    "        return ' '.join(re.sub(\"(@[A-Za-z0-9]+)|([^0-9A-Za-z \\t])|(\\w+:\\/\\/\\S+)\", \" \", tweet).split())\n",
    "  \n",
    "    def get_tweet_sentiment(self, tweet): \n",
    "        analysis = TextBlob(self.clean_tweet(tweet)) \n",
    "        if analysis.sentiment.polarity > 0: # here we changed our positive score threshold\n",
    "            return 'positive'\n",
    "        elif analysis.sentiment.polarity < 0: # here we changed our negative score threshold\n",
    "            return 'negative'\n",
    "  \n",
    "    def get_tweets(self, query, count = 10):\n",
    "        tweets = []\n",
    "  \n",
    "        try: \n",
    "            fetched_tweets = self.api.search(q = query, count = count)\n",
    "  \n",
    "            for tweet in fetched_tweets: \n",
    "                parsed_tweet = {}\n",
    "  \n",
    "                parsed_tweet['text'] = tweet.text \n",
    "                parsed_tweet['sentiment'] = self.get_tweet_sentiment(tweet.text) \n",
    "  \n",
    "                if tweet.retweet_count > 0: \n",
    "                    if parsed_tweet not in tweets: \n",
    "                        tweets.append(parsed_tweet) \n",
    "                else: \n",
    "                    tweets.append(parsed_tweet) \n",
    "  \n",
    "            return tweets \n",
    "  \n",
    "        except tweepy.TweepError as e: \n",
    "            print(\"Error : \" + str(e))\n",
    "\n",
    "def main(q): \n",
    "    api = TwitterClient() \n",
    "    tweets = api.get_tweets(query = q, count = 5000)\n",
    "  \n",
    "    ptweets = [tweet for tweet in tweets if tweet['sentiment'] == 'positive'] \n",
    "    print(\"Positive tweets percentage: {} %\".format(100*len(ptweets)/len(tweets))) \n",
    "    ntweets = [tweet for tweet in tweets if tweet['sentiment'] == 'negative'] \n",
    "    print(\"Negative tweets percentage: {} %\".format(100*len(ntweets)/len(tweets))) \n",
    "  \n",
    "    print(\"\\n\\nPositive tweets:\") \n",
    "    for tweet in ptweets[:5]: \n",
    "        print(tweet['text']) \n",
    "  \n",
    "    print(\"\\n\\nNegative tweets:\") \n",
    "    for tweet in ntweets[:5]: \n",
    "        print(tweet['text']) \n",
    "        \n",
    "if __name__ == \"__main__\": \n",
    "    main('Donald Trump')"
   ]
  },
  {
   "cell_type": "markdown",
   "metadata": {},
   "source": [
    "It appears that the latest tweets about the POTUS are mostly positive. Finally, we look at one last objective measure: the stock market."
   ]
  },
  {
   "cell_type": "code",
   "execution_count": 41,
   "metadata": {},
   "outputs": [
    {
     "name": "stdout",
     "output_type": "stream",
     "text": [
      "Positive tweets percentage: 31.46067415730337 %\n",
      "Negative tweets percentage: 17.97752808988764 %\n",
      "\n",
      "\n",
      "Positive tweets:\n",
      "RT @FinancialTimes: As China’s economic growth slows and a trade war with the US damages consumer sentiment and the stock market, Beijing i…\n",
      "RT @psis226k: Thanks to our long standing JPMorgan Chase PENCIL partnership, our 6th graders just picked their stocks playing the Stock Mar…\n",
      "🇺🇸 Health care, energy companies power US stock market higher 📈 https://t.co/3soF95znFY YAHOO!\n",
      "Adage 格言 According to an old adage on Wall Street, the stock market can deal with good news and bad, but it cannot tackle uncertainty.\n",
      "RT @bopinion: It seems like a good time to revisit the stock market's performance since Election Day 2016 https://t.co/x5OiOFjYOr\n",
      "\n",
      "\n",
      "Negative tweets:\n",
      "@vogul1960 Have you seen him celebrating when something wrong happen a to Pakistan. When stock market went down he was like Yahoooooo.\n",
      "CNBC’s Jim Cramer says stock market is in ‘a very serious correction’ — and there’s nowhere to hide… https://t.co/A1e6xZSxkj\n",
      "RT @briwalsh234: I see @MailOnline actually lied in today’s paper and stated the stock market went down yesterday due to the resignations a…\n",
      "RT @BostonAnnemarie: @4chloebear @DrLozz @Karyan1Ryan @DanaPerino He has done nothing but destroy the norms of democracy, increase hate cri…\n",
      "Your worst fear doesn't have to be so bad\n",
      "\n",
      "https://t.co/SOb959cefz\n"
     ]
    }
   ],
   "source": [
    "main('stock market')"
   ]
  },
  {
   "cell_type": "markdown",
   "metadata": {},
   "source": [
    "Good news today, traders, the sentiment on The Street is upbeat!"
   ]
  },
  {
   "cell_type": "markdown",
   "metadata": {},
   "source": [
    "# Conclusion\n",
    "What can we learn from all of this? First and foremost, we can learn that SA (sentiment analysis) is tough. We as humans read things and interpret them based on our points of view. A computational method of analysis for that is inherently going to contain some biases, and so the question becomes - how can we overcome those biases to be more objective? Things like language, context, past history, sarcasm, etc. are all phenomena we consider as humans when we assess the \"sentiment\" of a statement. When a computer does that, it can lead to some interesting results like with LaMelo Ball, the Iran Deal, or even Donald Trump.\n",
    "\n",
    "We also see, though, that in the case of Donald Trump for instance - the textblob SA package does a decent job. Of the latest 5,000 tweets, only about 30% of them are positive when referencing Trump, to 20% negative. That means about half are \"neutral\". We could potentially dive deeper and look at the netural tweets to see if they are coming from news organizations or supposedly \"unbiased\" journalists, to disprove \"fake news\" and bias claims for instance. However, we can see here that this is a narrow margin, which holds with our view of Trump in the publich sphere. He can sometimes be positive, but narrowly, thanks to his base. That holds true here (sic).\n",
    "\n",
    "So in closing, we took in live tweets, bucketed them by their sentiment score, and then played around with different queries to test our program. Business, politicians, and even public service officers can do the same to aid them in the completion of their daily jobs!"
   ]
  },
  {
   "cell_type": "code",
   "execution_count": null,
   "metadata": {},
   "outputs": [],
   "source": []
  }
 ],
 "metadata": {
  "kernelspec": {
   "display_name": "Python 3",
   "language": "python",
   "name": "python3"
  },
  "language_info": {
   "codemirror_mode": {
    "name": "ipython",
    "version": 3
   },
   "file_extension": ".py",
   "mimetype": "text/x-python",
   "name": "python",
   "nbconvert_exporter": "python",
   "pygments_lexer": "ipython3",
   "version": "3.7.3"
  }
 },
 "nbformat": 4,
 "nbformat_minor": 2
}
