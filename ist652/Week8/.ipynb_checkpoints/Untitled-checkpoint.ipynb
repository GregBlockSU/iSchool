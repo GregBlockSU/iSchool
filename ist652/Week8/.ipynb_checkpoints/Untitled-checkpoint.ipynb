{
 "cells": [
  {
   "cell_type": "code",
   "execution_count": 71,
   "metadata": {},
   "outputs": [],
   "source": [
    "import sys\n",
    "from operator import itemgetter\n",
    "import pandas as pd\n",
    "import pymongo\n",
    "import json\n",
    "from bson.json_util import dumps\n",
    "\n",
    "# this function contains a function to return lists of some twitter entities\n",
    "# for each tweet, this function returns lists of the entities:  mentions, hashtags, URLs\n",
    "# Parameter:  a tweet (as a Twitter json object)\n",
    "# Result:  3 lists of the above entities\n",
    "def get_entities(tweet):\n",
    "    # make sure this is a tweet by checking that it has the 'entities' key\n",
    "    if 'entities' in tweet.keys():\n",
    "        # list of mentions comes from the 'screen_name' field of each user_mention\n",
    "        mentions = [user_mention['screen_name'] for user_mention in tweet['entities']['user_mentions']]   \n",
    "        # list of hashtags comes from the 'text' field of each hashtag\n",
    "        hashtags = [hashtag['text'] for hashtag in tweet['entities']['hashtags']] \n",
    "        # list of urls can come either from the 'url' field  or 'expanded_url' field of each url\n",
    "        urls = [urlitem['url'] for urlitem in tweet['entities']['urls']]    \n",
    "        urls = urls + [urlitem['expanded_url'] for urlitem in tweet['entities']['urls']] \n",
    "        # we ignore the symbols and optional media entity fields\n",
    "        return mentions, hashtags, urls\n",
    "    else:\n",
    "        # if no entities key, return empty lists\n",
    "        return [], [], []\n",
    "    \n",
    "# This function gets data from an existing DB and collection\n",
    "# Parameters:  \n",
    "#   DBname and DBcollection- the name of the database and collection, either new or existing\n",
    "# Result:\n",
    "#   data - returns all the data in the collection as a list of JSON objects\n",
    "\n",
    "def load_from_DB (DBname, DBcollection):\n",
    "    # connect to database server and just let connection errors fail the program\n",
    "    client = pymongo.MongoClient('localhost', 27017)\n",
    "    # use the DBname and collection, which will create if not existing\n",
    "    db = client[DBname]\n",
    "    collection = db[DBcollection]           \n",
    "    # get all the data from the collection as a cursor\n",
    "    \n",
    "    docs_json = []\n",
    "    for doc in collection.find():\n",
    "        hashtags = [tag['text'] for tag in doc['entities']['hashtags']]\n",
    "        user = doc['user']['name']\n",
    "        created_at = doc['created_at']\n",
    "        text = doc['text']\n",
    "        docs_json.append([user, created_at, text, hashtags])\n",
    "\n",
    "    df = pd.DataFrame(docs_json)\n",
    "    df.columns = ['user','created_at','text','hashtags']    return df"
   ]
  },
  {
   "cell_type": "code",
   "execution_count": 72,
   "metadata": {},
   "outputs": [],
   "source": [
    "\n",
    "# load all the tweets\n",
    "tweet_results = load_from_DB('bball', 'bbcoll')"
   ]
  },
  {
   "cell_type": "code",
   "execution_count": 73,
   "metadata": {},
   "outputs": [
    {
     "name": "stdout",
     "output_type": "stream",
     "text": [
      "              user                      created_at  \\\n",
      "0             Will  Mon Mar 27 22:30:30 +0000 2017   \n",
      "1  Kahlen Donatell  Mon Mar 27 22:30:22 +0000 2017   \n",
      "2            Jesús  Mon Mar 27 22:30:21 +0000 2017   \n",
      "3            plug,  Mon Mar 27 22:30:14 +0000 2017   \n",
      "4   Joni Dickerson  Mon Mar 27 22:30:11 +0000 2017   \n",
      "\n",
      "                                                text             hashtags  \n",
      "0  RT @HowardWKYT: The final seconds of the Kentu...       [marchmadness]  \n",
      "1  RT @WhistleSports: When you perfectly time the...  [UNC, MarchMadness]  \n",
      "2  RT @HowardWKYT: The final seconds of the Kentu...       [marchmadness]  \n",
      "3  RT @BleacherReport: And then there were four.....       [MarchMadness]  \n",
      "4  RT @mycarolinastdnt: RT if you'll be cheering ...       [MarchMadness]  \n"
     ]
    }
   ],
   "source": [
    "print(tweet_results.head())"
   ]
  },
  {
   "cell_type": "code",
   "execution_count": null,
   "metadata": {},
   "outputs": [],
   "source": []
  }
 ],
 "metadata": {
  "kernelspec": {
   "display_name": "Python 3",
   "language": "python",
   "name": "python3"
  },
  "language_info": {
   "codemirror_mode": {
    "name": "ipython",
    "version": 3
   },
   "file_extension": ".py",
   "mimetype": "text/x-python",
   "name": "python",
   "nbconvert_exporter": "python",
   "pygments_lexer": "ipython3",
   "version": "3.7.3"
  }
 },
 "nbformat": 4,
 "nbformat_minor": 2
}
