{
 "cells": [
  {
   "cell_type": "markdown",
   "metadata": {},
   "source": [
    "import re \n",
    "import tweepy \n",
    "from tweepy import OAuthHandler \n",
    "from textblob import TextBlob"
   ]
  },
  {
   "cell_type": "code",
   "execution_count": 3,
   "metadata": {},
   "outputs": [],
   "source": [
    "# keys and tokens from the Twitter Dev Console \n",
    "# todo - add to file so not checked into github\n",
    "CONSUMER_KEY = 'oUkORoc3PPmAChcnxwfSKbRFL'\n",
    "CONSUMER_SECRET = 'PmASGyF92keg7uTx8j4sNvRtWxzvw8Xm88rpxN7AqECj7YBLDe'\n",
    "ACCESS_TOKEN = '65187050-L0WLjPJCAGuvcfQCYhqtJ95MtCPezJGWzhN9niDBa'\n",
    "ACCESS_TOKEN_SECRET = 'C8OsEpteeL0s9xXoUU5wiip4plExftfIT72qfV7tc3xMf'"
   ]
  },
  {
   "cell_type": "code",
   "execution_count": 4,
   "metadata": {},
   "outputs": [
    {
     "name": "stdout",
     "output_type": "stream",
     "text": [
      "Error: Authentication Failed\n"
     ]
    },
    {
     "ename": "NameError",
     "evalue": "name 'tweepy' is not defined",
     "output_type": "error",
     "traceback": [
      "\u001b[1;31m---------------------------------------------------------------------------\u001b[0m",
      "\u001b[1;31mAttributeError\u001b[0m                            Traceback (most recent call last)",
      "\u001b[1;32m<ipython-input-4-543db137f62a>\u001b[0m in \u001b[0;36mget_tweets\u001b[1;34m(self, query, count)\u001b[0m\n\u001b[0;32m     57\u001b[0m             \u001b[1;31m# call twitter api to fetch tweets\u001b[0m\u001b[1;33m\u001b[0m\u001b[1;33m\u001b[0m\u001b[1;33m\u001b[0m\u001b[0m\n\u001b[1;32m---> 58\u001b[1;33m             \u001b[0mfetched_tweets\u001b[0m \u001b[1;33m=\u001b[0m \u001b[0mself\u001b[0m\u001b[1;33m.\u001b[0m\u001b[0mapi\u001b[0m\u001b[1;33m.\u001b[0m\u001b[0msearch\u001b[0m\u001b[1;33m(\u001b[0m\u001b[0mq\u001b[0m \u001b[1;33m=\u001b[0m \u001b[0mquery\u001b[0m\u001b[1;33m,\u001b[0m \u001b[0mcount\u001b[0m \u001b[1;33m=\u001b[0m \u001b[0mcount\u001b[0m\u001b[1;33m)\u001b[0m\u001b[1;33m\u001b[0m\u001b[1;33m\u001b[0m\u001b[0m\n\u001b[0m\u001b[0;32m     59\u001b[0m \u001b[1;33m\u001b[0m\u001b[0m\n",
      "\u001b[1;31mAttributeError\u001b[0m: 'TwitterClient' object has no attribute 'api'",
      "\nDuring handling of the above exception, another exception occurred:\n",
      "\u001b[1;31mNameError\u001b[0m                                 Traceback (most recent call last)",
      "\u001b[1;32m<ipython-input-4-543db137f62a>\u001b[0m in \u001b[0;36m<module>\u001b[1;34m\u001b[0m\n\u001b[0;32m    110\u001b[0m \u001b[1;32mif\u001b[0m \u001b[0m__name__\u001b[0m \u001b[1;33m==\u001b[0m \u001b[1;34m\"__main__\"\u001b[0m\u001b[1;33m:\u001b[0m\u001b[1;33m\u001b[0m\u001b[1;33m\u001b[0m\u001b[0m\n\u001b[0;32m    111\u001b[0m     \u001b[1;31m# calling main function\u001b[0m\u001b[1;33m\u001b[0m\u001b[1;33m\u001b[0m\u001b[1;33m\u001b[0m\u001b[0m\n\u001b[1;32m--> 112\u001b[1;33m     \u001b[0mmain\u001b[0m\u001b[1;33m(\u001b[0m\u001b[1;34m'sad'\u001b[0m\u001b[1;33m)\u001b[0m \u001b[1;31m# we parse our query into our main function. Here a simple test to display our program works correctly\u001b[0m\u001b[1;33m\u001b[0m\u001b[1;33m\u001b[0m\u001b[0m\n\u001b[0m",
      "\u001b[1;32m<ipython-input-4-543db137f62a>\u001b[0m in \u001b[0;36mmain\u001b[1;34m(q)\u001b[0m\n\u001b[0;32m     88\u001b[0m     \u001b[0mapi\u001b[0m \u001b[1;33m=\u001b[0m \u001b[0mTwitterClient\u001b[0m\u001b[1;33m(\u001b[0m\u001b[1;33m)\u001b[0m\u001b[1;33m\u001b[0m\u001b[1;33m\u001b[0m\u001b[0m\n\u001b[0;32m     89\u001b[0m     \u001b[1;31m# calling function to get tweets mentioning a specific phrase\u001b[0m\u001b[1;33m\u001b[0m\u001b[1;33m\u001b[0m\u001b[1;33m\u001b[0m\u001b[0m\n\u001b[1;32m---> 90\u001b[1;33m     \u001b[0mtweets\u001b[0m \u001b[1;33m=\u001b[0m \u001b[0mapi\u001b[0m\u001b[1;33m.\u001b[0m\u001b[0mget_tweets\u001b[0m\u001b[1;33m(\u001b[0m\u001b[0mquery\u001b[0m \u001b[1;33m=\u001b[0m \u001b[0mq\u001b[0m\u001b[1;33m,\u001b[0m \u001b[0mcount\u001b[0m \u001b[1;33m=\u001b[0m \u001b[1;36m5000\u001b[0m\u001b[1;33m)\u001b[0m\u001b[1;33m\u001b[0m\u001b[1;33m\u001b[0m\u001b[0m\n\u001b[0m\u001b[0;32m     91\u001b[0m \u001b[1;33m\u001b[0m\u001b[0m\n\u001b[0;32m     92\u001b[0m     \u001b[1;31m# picking positive tweets from tweets\u001b[0m\u001b[1;33m\u001b[0m\u001b[1;33m\u001b[0m\u001b[1;33m\u001b[0m\u001b[0m\n",
      "\u001b[1;32m<ipython-input-4-543db137f62a>\u001b[0m in \u001b[0;36mget_tweets\u001b[1;34m(self, query, count)\u001b[0m\n\u001b[0;32m     79\u001b[0m             \u001b[1;32mreturn\u001b[0m \u001b[0mtweets\u001b[0m\u001b[1;33m\u001b[0m\u001b[1;33m\u001b[0m\u001b[0m\n\u001b[0;32m     80\u001b[0m \u001b[1;33m\u001b[0m\u001b[0m\n\u001b[1;32m---> 81\u001b[1;33m         \u001b[1;32mexcept\u001b[0m \u001b[0mtweepy\u001b[0m\u001b[1;33m.\u001b[0m\u001b[0mTweepError\u001b[0m \u001b[1;32mas\u001b[0m \u001b[0me\u001b[0m\u001b[1;33m:\u001b[0m\u001b[1;33m\u001b[0m\u001b[1;33m\u001b[0m\u001b[0m\n\u001b[0m\u001b[0;32m     82\u001b[0m             \u001b[1;31m# print error (if any)\u001b[0m\u001b[1;33m\u001b[0m\u001b[1;33m\u001b[0m\u001b[1;33m\u001b[0m\u001b[0m\n\u001b[0;32m     83\u001b[0m             \u001b[0mprint\u001b[0m\u001b[1;33m(\u001b[0m\u001b[1;34m\"Error : \"\u001b[0m \u001b[1;33m+\u001b[0m \u001b[0mstr\u001b[0m\u001b[1;33m(\u001b[0m\u001b[0me\u001b[0m\u001b[1;33m)\u001b[0m\u001b[1;33m)\u001b[0m\u001b[1;33m\u001b[0m\u001b[1;33m\u001b[0m\u001b[0m\n",
      "\u001b[1;31mNameError\u001b[0m: name 'tweepy' is not defined"
     ]
    }
   ],
   "source": [
    "# Next we create a generic Twitter class for our analysis:\n",
    "\n",
    "# First we create a TwitterClient class. \n",
    "# This class contains all the methods to interact with Twitter API and allows us to parse tweets.\n",
    "# We then use an initialization (__init__) function to handle the authentication of Twitter's API client.\n",
    "\n",
    "class TwitterClient(object): \n",
    "    ''' \n",
    "    Generic Twitter Class for sentiment analysis. \n",
    "    '''\n",
    "    def __init__(self): \n",
    "        ''' \n",
    "        initialization our method (which DB file didn't do in asynch ;))\n",
    "        '''\n",
    "        # keys and tokens from the Twitter Dev Console \n",
    "        consumer_key = CONSUMER_KEY\n",
    "        consumer_secret = CONSUMER_SECRET\n",
    "        access_token = ACCESS_TOKEN\n",
    "        access_token_secret =  ACCESS_TOKEN_SECRET\n",
    "  \n",
    "        # attempt authentication \n",
    "        try: \n",
    "            # create OAuthHandler object \n",
    "            self.auth = OAuthHandler(consumer_key, consumer_secret) \n",
    "            # set access token and secret \n",
    "            self.auth.set_access_token(access_token, access_token_secret) \n",
    "            # create tweepy API object to fetch tweets \n",
    "            self.api = tweepy.API(self.auth) \n",
    "        except: \n",
    "            print(\"Error: Authentication Failed\")\n",
    "  \n",
    "    def clean_tweet(self, tweet): \n",
    "        # This function cleans tweet text by removing hyperlinks and special characters\n",
    "        return ' '.join(re.sub(\"(@[A-Za-z0-9]+)|([^0-9A-Za-z \\t])|(\\w+:\\/\\/\\S+)\", \" \", tweet).split())\n",
    "  \n",
    "    def get_tweet_sentiment(self, tweet): \n",
    "        ''' \n",
    "        This function classifies sentiment of passed tweet \n",
    "        using textblob's predefined and built sentiment method\n",
    "        '''\n",
    "        # create TextBlob object of passed tweet text \n",
    "        analysis = TextBlob(self.clean_tweet(tweet)) \n",
    "        # set sentiment \n",
    "        if analysis.sentiment.polarity > 0: \n",
    "            return 'positive'\n",
    "        elif analysis.sentiment.polarity < 0:\n",
    "            return 'negative'\n",
    "  \n",
    "    def get_tweets(self, query, count = 10):\n",
    "        ''' \n",
    "        This function then fetches tweets and parses them, using lists and dictionaries to store them \n",
    "        '''\n",
    "        # empty list to store parsed tweets \n",
    "        tweets = []\n",
    "  \n",
    "        try: \n",
    "            # call twitter api to fetch tweets \n",
    "            fetched_tweets = self.api.search(q = query, count = count)\n",
    "  \n",
    "            # parsing tweets one by one \n",
    "            for tweet in fetched_tweets: \n",
    "                # empty dictionary to store required params of a tweet \n",
    "                parsed_tweet = {}\n",
    "  \n",
    "                # saving text of tweet \n",
    "                parsed_tweet['text'] = tweet.text \n",
    "                # saving sentiment of tweet \n",
    "                parsed_tweet['sentiment'] = self.get_tweet_sentiment(tweet.text) \n",
    "  \n",
    "                # appending parsed tweet to tweets list \n",
    "                if tweet.retweet_count > 0: \n",
    "                    # if tweet has retweets, ensure that it is appended only once \n",
    "                    if parsed_tweet not in tweets: \n",
    "                        tweets.append(parsed_tweet) \n",
    "                else: \n",
    "                    tweets.append(parsed_tweet) \n",
    "  \n",
    "            # return parsed tweets \n",
    "            return tweets \n",
    "  \n",
    "        except tweepy.TweepError as e: \n",
    "            # print error (if any) \n",
    "            print(\"Error : \" + str(e))\n",
    "\n",
    "# Then we define and call our main function to get back all our tweets:\n",
    "def main(q): \n",
    "    # creating object of TwitterClient Class \n",
    "    api = TwitterClient() \n",
    "    # calling function to get tweets mentioning a specific phrase\n",
    "    tweets = api.get_tweets(query = q, count = 5000)\n",
    "  \n",
    "    # picking positive tweets from tweets \n",
    "    ptweets = [tweet for tweet in tweets if tweet['sentiment'] == 'positive'] \n",
    "    # percentage of positive tweets\n",
    "    print(\"Positive tweets percentage: {} %\".format(100*len(ptweets)/len(tweets))) \n",
    "    # picking negative tweets from tweets \n",
    "    ntweets = [tweet for tweet in tweets if tweet['sentiment'] == 'negative'] \n",
    "    # percentage of negative tweets \n",
    "    print(\"Negative tweets percentage: {} %\".format(100*len(ntweets)/len(tweets))) \n",
    "  \n",
    "    # printing first 5 positive tweets \n",
    "    print(\"\\n\\nPositive tweets:\") \n",
    "    for tweet in ptweets[:5]: \n",
    "        print(tweet['text']) \n",
    "  \n",
    "    # printing first 5 negative tweets \n",
    "    print(\"\\n\\nNegative tweets:\") \n",
    "    for tweet in ntweets[:5]: \n",
    "        print(tweet['text']) \n",
    "if __name__ == \"__main__\": \n",
    "    # calling main function \n",
    "    main('sad') # we parse our query into our main function. Here a simple test to display our program works correctly"
   ]
  },
  {
   "cell_type": "markdown",
   "metadata": {},
   "source": [
    "As we would expect, we see much more negative sentiment tweets when we query 1,000 tweets from twitter under the search term \"sad\". We can verify this again by looking for \"happy\" tweets:"
   ]
  },
  {
   "cell_type": "code",
   "execution_count": null,
   "metadata": {},
   "outputs": [],
   "source": [
    "main('happy')"
   ]
  },
  {
   "cell_type": "markdown",
   "metadata": {},
   "source": [
    "Happy is overwhelmingly positive! But now, let's take a look at 5,000 tweets (so we'll go back, adjust our function, and run it again, based on the search term of \"Iran Nuclear Deal\". Why? We want to see how the twitterverse feels about this right now, as it will be a proxy for whether people are thinking or speaking about Iran positively or negatively:"
   ]
  },
  {
   "cell_type": "code",
   "execution_count": null,
   "metadata": {},
   "outputs": [],
   "source": [
    "main('iran nuclear deal')"
   ]
  },
  {
   "cell_type": "markdown",
   "metadata": {},
   "source": [
    "Interestingly, we can see that Iran is typically referred to positively. This can be deceiving however, as people could be positively speaking about withdrawl from the iran nuclear deal, and may have negative sentiment toward Iran, or toward the deal as a whole. This is one limitation of sentiment analysis, which we can see in action.\n",
    "\n",
    "Let's try this again. Lately, LaMelo Ball - the younger brother of Lonzo Ball, a professional NBA player and a top amateur basketball player himself - has seen his school's opponents canceling games against him and his team because he declared professional previously. That is, many schools don't believe he is a \"valid\" amateur athlete. Thus, let's see how the twitterverse feels about LaMelo Ball here:"
   ]
  },
  {
   "cell_type": "code",
   "execution_count": null,
   "metadata": {},
   "outputs": [],
   "source": [
    "main('LaMelo Ball')"
   ]
  },
  {
   "cell_type": "markdown",
   "metadata": {},
   "source": [
    "Again, we see some limitations of our textblob package. At least one tweet in the positive sentiment analysis looks negative, but both our tweets in negative tweets appear neutral to positive? One thing we can do is tweak our sentiment score filters. The scores are on a scale of -1 to +1, so let's adjust them in our function above to 0.5 (were previously 0) and -0.5, to get really positive and really negative scores only:"
   ]
  },
  {
   "cell_type": "code",
   "execution_count": null,
   "metadata": {},
   "outputs": [],
   "source": [
    "class TwitterClient(object): \n",
    "    def __init__(self): \n",
    "        consumer_key = CONSUMER_KEY\n",
    "        consumer_secret = CONSUMER_SECRET\n",
    "        access_token = ACCESS_TOKEN\n",
    "        access_token_secret =  ACCESS_TOKEN_SECRET\n",
    "        \n",
    "        try: \n",
    "            self.auth = OAuthHandler(consumer_key, consumer_secret) \n",
    "            self.auth.set_access_token(access_token, access_token_secret)\n",
    "            self.api = tweepy.API(self.auth) \n",
    "        except: \n",
    "            print(\"Error: Authentication Failed\")\n",
    "  \n",
    "    def clean_tweet(self, tweet): \n",
    "        return ' '.join(re.sub(\"(@[A-Za-z0-9]+)|([^0-9A-Za-z \\t])|(\\w+:\\/\\/\\S+)\", \" \", tweet).split())\n",
    "  \n",
    "    def get_tweet_sentiment(self, tweet): \n",
    "        analysis = TextBlob(self.clean_tweet(tweet)) \n",
    "        if analysis.sentiment.polarity > 0.5: # here we changed our positive score threshold\n",
    "            return 'positive'\n",
    "        elif analysis.sentiment.polarity < -0.5: # here we changed our negative score threshold\n",
    "            return 'negative'\n",
    "  \n",
    "    def get_tweets(self, query, count = 10):\n",
    "        tweets = []\n",
    "  \n",
    "        try: \n",
    "            fetched_tweets = self.api.search(q = query, count = count)\n",
    "  \n",
    "            for tweet in fetched_tweets: \n",
    "                parsed_tweet = {}\n",
    "  \n",
    "                parsed_tweet['text'] = tweet.text \n",
    "                parsed_tweet['sentiment'] = self.get_tweet_sentiment(tweet.text) \n",
    "  \n",
    "                if tweet.retweet_count > 0: \n",
    "                    if parsed_tweet not in tweets: \n",
    "                        tweets.append(parsed_tweet) \n",
    "                else: \n",
    "                    tweets.append(parsed_tweet) \n",
    "  \n",
    "            return tweets \n",
    "  \n",
    "        except tweepy.TweepError as e: \n",
    "            print(\"Error : \" + str(e))\n",
    "\n",
    "def main(q): \n",
    "    api = TwitterClient() \n",
    "    tweets = api.get_tweets(query = q, count = 5000)\n",
    "  \n",
    "    ptweets = [tweet for tweet in tweets if tweet['sentiment'] == 'positive'] \n",
    "    print(\"Positive tweets percentage: {} %\".format(100*len(ptweets)/len(tweets))) \n",
    "    ntweets = [tweet for tweet in tweets if tweet['sentiment'] == 'negative'] \n",
    "    print(\"Negative tweets percentage: {} %\".format(100*len(ntweets)/len(tweets))) \n",
    "  \n",
    "    print(\"\\n\\nPositive tweets:\") \n",
    "    for tweet in ptweets[:5]: \n",
    "        print(tweet['text']) \n",
    "  \n",
    "    print(\"\\n\\nNegative tweets:\") \n",
    "    for tweet in ntweets[:5]: \n",
    "        print(tweet['text']) \n",
    "        \n",
    "if __name__ == \"__main__\": \n",
    "    main('LaMelo Ball')"
   ]
  },
  {
   "cell_type": "markdown",
   "metadata": {},
   "source": [
    "No negative tweets about LaMelo? Maybe people really like the kid :).\n",
    "    \n",
    "Let's try with a more polarizing, and prominent figure: Donald Trump. How does the twitterverse feel about The Donald today?"
   ]
  },
  {
   "cell_type": "code",
   "execution_count": null,
   "metadata": {},
   "outputs": [],
   "source": [
    "main('Donald Trump')"
   ]
  },
  {
   "cell_type": "markdown",
   "metadata": {},
   "source": [
    "Here we see something interesting. With our main threshold set to 0.5 and -0.5 for the scores of sentiment, we see that Donal Trump is being tweeted about in a marginally negative context, when analysing the latest 5,000 tweets about him. If, however, we were to return our score thresholds to zero - what do people tend to think about Trump?"
   ]
  },
  {
   "cell_type": "code",
   "execution_count": null,
   "metadata": {},
   "outputs": [],
   "source": [
    "class TwitterClient(object): \n",
    "    def __init__(self): \n",
    "        consumer_key = CONSUMER_KEY\n",
    "        consumer_secret = CONSUMER_SECRET\n",
    "        access_token = ACCESS_TOKEN\n",
    "        access_token_secret =  ACCESS_TOKEN_SECRET\n",
    "        \n",
    "        try: \n",
    "            self.auth = OAuthHandler(consumer_key, consumer_secret) \n",
    "            self.auth.set_access_token(access_token, access_token_secret)\n",
    "            self.api = tweepy.API(self.auth) \n",
    "        except: \n",
    "            print(\"Error: Authentication Failed\")\n",
    "  \n",
    "    def clean_tweet(self, tweet): \n",
    "        return ' '.join(re.sub(\"(@[A-Za-z0-9]+)|([^0-9A-Za-z \\t])|(\\w+:\\/\\/\\S+)\", \" \", tweet).split())\n",
    "  \n",
    "    def get_tweet_sentiment(self, tweet): \n",
    "        analysis = TextBlob(self.clean_tweet(tweet)) \n",
    "        if analysis.sentiment.polarity > 0: # here we changed our positive score threshold\n",
    "            return 'positive'\n",
    "        elif analysis.sentiment.polarity < 0: # here we changed our negative score threshold\n",
    "            return 'negative'\n",
    "  \n",
    "    def get_tweets(self, query, count = 10):\n",
    "        tweets = []\n",
    "  \n",
    "        try: \n",
    "            fetched_tweets = self.api.search(q = query, count = count)\n",
    "  \n",
    "            for tweet in fetched_tweets: \n",
    "                parsed_tweet = {}\n",
    "  \n",
    "                parsed_tweet['text'] = tweet.text \n",
    "                parsed_tweet['sentiment'] = self.get_tweet_sentiment(tweet.text) \n",
    "  \n",
    "                if tweet.retweet_count > 0: \n",
    "                    if parsed_tweet not in tweets: \n",
    "                        tweets.append(parsed_tweet) \n",
    "                else: \n",
    "                    tweets.append(parsed_tweet) \n",
    "  \n",
    "            return tweets \n",
    "  \n",
    "        except tweepy.TweepError as e: \n",
    "            print(\"Error : \" + str(e))\n",
    "\n",
    "def main(q): \n",
    "    api = TwitterClient() \n",
    "    tweets = api.get_tweets(query = q, count = 5000)\n",
    "  \n",
    "    ptweets = [tweet for tweet in tweets if tweet['sentiment'] == 'positive'] \n",
    "    print(\"Positive tweets percentage: {} %\".format(100*len(ptweets)/len(tweets))) \n",
    "    ntweets = [tweet for tweet in tweets if tweet['sentiment'] == 'negative'] \n",
    "    print(\"Negative tweets percentage: {} %\".format(100*len(ntweets)/len(tweets))) \n",
    "  \n",
    "    print(\"\\n\\nPositive tweets:\") \n",
    "    for tweet in ptweets[:5]: \n",
    "        print(tweet['text']) \n",
    "  \n",
    "    print(\"\\n\\nNegative tweets:\") \n",
    "    for tweet in ntweets[:5]: \n",
    "        print(tweet['text']) \n",
    "        \n",
    "if __name__ == \"__main__\": \n",
    "    main('Donald Trump')"
   ]
  },
  {
   "cell_type": "markdown",
   "metadata": {},
   "source": [
    "It appears that the latest tweets about the POTUS are mostly positive. Finally, we look at one last objective measure: the stock market."
   ]
  },
  {
   "cell_type": "code",
   "execution_count": null,
   "metadata": {},
   "outputs": [],
   "source": [
    "main('stock market')"
   ]
  },
  {
   "cell_type": "markdown",
   "metadata": {},
   "source": [
    "Good news today, traders, the sentiment on The Street is upbeat!"
   ]
  },
  {
   "cell_type": "markdown",
   "metadata": {},
   "source": [
    "# Conclusion\n",
    "What can we learn from all of this? First and foremost, we can learn that SA (sentiment analysis) is tough. We as humans read things and interpret them based on our points of view. A computational method of analysis for that is inherently going to contain some biases, and so the question becomes - how can we overcome those biases to be more objective? Things like language, context, past history, sarcasm, etc. are all phenomena we consider as humans when we assess the \"sentiment\" of a statement. When a computer does that, it can lead to some interesting results like with LaMelo Ball, the Iran Deal, or even Donald Trump.\n",
    "\n",
    "We also see, though, that in the case of Donald Trump for instance - the textblob SA package does a decent job. Of the latest 5,000 tweets, only about 30% of them are positive when referencing Trump, to 20% negative. That means about half are \"neutral\". We could potentially dive deeper and look at the netural tweets to see if they are coming from news organizations or supposedly \"unbiased\" journalists, to disprove \"fake news\" and bias claims for instance. However, we can see here that this is a narrow margin, which holds with our view of Trump in the publich sphere. He can sometimes be positive, but narrowly, thanks to his base. That holds true here (sic).\n",
    "\n",
    "So in closing, we took in live tweets, bucketed them by their sentiment score, and then played around with different queries to test our program. Business, politicians, and even public service officers can do the same to aid them in the completion of their daily jobs!"
   ]
  },
  {
   "cell_type": "code",
   "execution_count": null,
   "metadata": {},
   "outputs": [],
   "source": []
  }
 ],
 "metadata": {
  "kernelspec": {
   "display_name": "Python 3",
   "language": "python",
   "name": "python3"
  },
  "language_info": {
   "codemirror_mode": {
    "name": "ipython",
    "version": 3
   },
   "file_extension": ".py",
   "mimetype": "text/x-python",
   "name": "python",
   "nbconvert_exporter": "python",
   "pygments_lexer": "ipython3",
   "version": "3.7.3"
  }
 },
 "nbformat": 4,
 "nbformat_minor": 2
}
