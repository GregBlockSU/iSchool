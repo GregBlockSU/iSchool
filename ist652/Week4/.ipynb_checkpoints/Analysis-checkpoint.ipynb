{
 "cells": [
  {
   "cell_type": "markdown",
   "metadata": {},
   "source": [
    "# Data Exploration and Analysis"
   ]
  },
  {
   "cell_type": "code",
   "execution_count": null,
   "metadata": {},
   "outputs": [],
   "source": [
    "import numpy as np\n",
    "import pandas as pd\n",
    "import matplotlib.pyplot as plt\n",
    "\n",
    "df = pd.read_csv(\"donors_data.csv\")\n",
    "df.head()"
   ]
  },
  {
   "cell_type": "markdown",
   "metadata": {},
   "source": [
    "# Column Renaming"
   ]
  },
  {
   "cell_type": "code",
   "execution_count": null,
   "metadata": {},
   "outputs": [],
   "source": [
    "df.columns = [\"Index\", \"ID Numer\", \"Region1\", \"Region2\", \"Region3\", \"Region4\", \"Is a Homeowner\", \"Number of Children\",\n",
    "              \"Household Income\", \"Gender\", \"Wealth Rating\", \"Average Home Value\", \"Median Family Income\",\n",
    "              \"Average Family Income\", \"Percentage Low Income\", \"Number of Promotions\", \"All Gifts\", \"Largest Gift\",\n",
    "              \"Most Recent Gift\", \"Num Months Last Donations\", \"Num Months betwn 1st and 2nd Gift\", \"Avg. Gift\",\n",
    "              \"Donor\", \"Donated Money\"]"
   ]
  },
  {
   "cell_type": "code",
   "execution_count": null,
   "metadata": {},
   "outputs": [],
   "source": [
    "df.head()"
   ]
  },
  {
   "cell_type": "markdown",
   "metadata": {},
   "source": [
    "# Analysis (Visualizing) "
   ]
  },
  {
   "cell_type": "markdown",
   "metadata": {},
   "source": [
    "## Average family income of donors"
   ]
  },
  {
   "cell_type": "code",
   "execution_count": null,
   "metadata": {},
   "outputs": [],
   "source": [
    "fig = plt.figure(figsize=(16, 8))\n",
    "df[df[\"Donor\"] == 1][\"Average Family Income\"].hist(alpha=0.5, label=\"Donor\")\n",
    "df[df[\"Donor\"] == 0][\"Average Family Income\"].hist(alpha=0.5, label=\"Non-Donor\")\n",
    "plt.legend()\n",
    "plt.title(\"Histogram of Average Family Income of Donors vs Non-Donors\")\n",
    "plt.tight_layout();"
   ]
  },
  {
   "cell_type": "code",
   "execution_count": null,
   "metadata": {},
   "outputs": [],
   "source": [
    "income_donor = df[df[\"Donor\"] == 1][\"Average Family Income\"].mean()\n",
    "income_non_donor = df[df[\"Donor\"] == 0][\"Average Family Income\"].mean()\n",
    "print(\"Mean Average Family Income for Donor: \\t  \", income_donor)\n",
    "print(\"Mean Average Family Income for Non-Donor: \", income_non_donor)"
   ]
  },
  {
   "cell_type": "markdown",
   "metadata": {},
   "source": [
    "## Question 1 (q1.csv)\n",
    "- Unit of Analysis: __Average Family Income__\n",
    "- Comparison: For each type donor, and non-donor, we have what is the mean amount of family income. \n",
    "- Analysis: Since the income of donors is higher than that of non-donors, it states that rich people are more likely to donate\n",
    "- Output: Row 1 is for donors, and 2 is for non donors. Each value indicates the mean average family income"
   ]
  },
  {
   "cell_type": "code",
   "execution_count": null,
   "metadata": {},
   "outputs": [],
   "source": [
    "# write to output file\n",
    "with open(\"q1.csv\", \"w\") as f:\n",
    "    f.write(\"Average income\\n\")\n",
    "    f.write(str(income_donor) + \"\\n\")\n",
    "    f.write(str(income_non_donor) + \"\\n\")"
   ]
  },
  {
   "cell_type": "markdown",
   "metadata": {},
   "source": [
    "## Total Zonal Donations"
   ]
  },
  {
   "cell_type": "code",
   "execution_count": null,
   "metadata": {},
   "outputs": [],
   "source": [
    "fig = plt.figure(figsize=(16, 8))\n",
    "amount_donated = [df[df[\"Region1\"] == 1][\"Donated Money\"].sum(),\n",
    "                    df[df[\"Region2\"] == 1][\"Donated Money\"].sum(),\n",
    "                    df[df[\"Region3\"] == 1][\"Donated Money\"].sum(),\n",
    "                    df[df[\"Region4\"] == 1][\"Donated Money\"].sum()]\n",
    "\n",
    "plt.plot([1, 2, 3, 4], amount_donated, label=\"Amount Donated in Sum\", kind='bar')\n",
    "plt.legend()\n",
    "plt.title(\"Plot of amount donated by Regions\")\n",
    "plt.xlabel(\"Region\")\n",
    "plt.ylabel(\"Amount\")\n",
    "plt.tight_layout();"
   ]
  },
  {
   "cell_type": "markdown",
   "metadata": {},
   "source": [
    "## Question 2 (q2.csv)\n",
    "- Unit of Analysis: __Amount Donated__\n",
    "- Comparison: For each type region, 1, 2, 3, and 4, we have what is the sum amount of money donated. \n",
    "- Analysis: We observe that region 2 donates least money and region 4 donates maximum. \n",
    "- Output: Rows are for regions, each row is one region and corresponding sum of amount donated. "
   ]
  },
  {
   "cell_type": "code",
   "execution_count": null,
   "metadata": {},
   "outputs": [],
   "source": [
    "with open(\"q2.csv\", \"w\") as f:\n",
    "    f.write(\"Region, Sum of Money Donated\\n\")\n",
    "    for zone, money in enumerate(amount_donated):\n",
    "        f.write(\"{}, {}\\n\".format(zone, money))"
   ]
  },
  {
   "cell_type": "code",
   "execution_count": null,
   "metadata": {},
   "outputs": [],
   "source": []
  }
 ],
 "metadata": {
  "kernelspec": {
   "display_name": "Python 3",
   "language": "python",
   "name": "python3"
  },
  "language_info": {
   "codemirror_mode": {
    "name": "ipython",
    "version": 3
   },
   "file_extension": ".py",
   "mimetype": "text/x-python",
   "name": "python",
   "nbconvert_exporter": "python",
   "pygments_lexer": "ipython3",
   "version": "3.7.0"
  }
 },
 "nbformat": 4,
 "nbformat_minor": 2
}
