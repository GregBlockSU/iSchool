{
 "cells": [
  {
   "cell_type": "markdown",
   "metadata": {},
   "source": [
    "# XML"
   ]
  },
  {
   "cell_type": "markdown",
   "metadata": {
    "collapsed": true
   },
   "source": [
    "#### Get RSS feed from BBC news using urllib request"
   ]
  },
  {
   "cell_type": "code",
   "execution_count": 2,
   "metadata": {},
   "outputs": [],
   "source": [
    "import requests\n",
    "import xml.etree.ElementTree as etree\n",
    "import io"
   ]
  },
  {
   "cell_type": "code",
   "execution_count": 3,
   "metadata": {},
   "outputs": [
    {
     "name": "stdout",
     "output_type": "stream",
     "text": [
      "<?xml version=\"1.0\"?>\n",
      "<rss xmlns:dc=\"http://purl.org/dc/elements/1.1/\" version=\"2.0\">\n",
      "  <channel>\n",
      "    <title>All Articles on Seeking Alpha</title>\n",
      "    <description>&#xA9; seekingalpha.com. Use of this feed is limited to personal, non-commercial use and is governed by Seeking Alpha's Terms of Use (https://seekingalpha.com/page/terms-of-use). Publishing this feed for public or commercial use and/or misrepresentation by a third party is prohibited.</description>\n",
      "    <author>\n",
      "      <name>SeekingAlph\n"
     ]
    }
   ],
   "source": [
    "url = 'https://seekingalpha.com/feed.xml'\n",
    "response = requests.get(url)\n",
    "\n",
    "# print the response as a string\n",
    "xml_string = response.text\n",
    "len(xml_string)\n",
    "print(xml_string[:500])"
   ]
  },
  {
   "cell_type": "markdown",
   "metadata": {},
   "source": [
    "## Element Tree"
   ]
  },
  {
   "cell_type": "code",
   "execution_count": 4,
   "metadata": {},
   "outputs": [
    {
     "name": "stdout",
     "output_type": "stream",
     "text": [
      "Root is rss, version {'version': '2.0'}\n"
     ]
    }
   ],
   "source": [
    "tree = etree.parse(io.StringIO(xml_string))\n",
    "root = tree.getroot()\n",
    "print(f'Root is {root.tag}, version {root.attrib}')"
   ]
  },
  {
   "cell_type": "code",
   "execution_count": 5,
   "metadata": {},
   "outputs": [
    {
     "name": "stdout",
     "output_type": "stream",
     "text": [
      "Reata Pharmaceuticals, Inc. (RETA) CEO Warren Huff on Q2 2019 Results - Earnings Call Transcript\n",
      "Quorum Health Corporation 2019 Q2 - Results - Earnings Call Slides\n",
      "ACM Research, Inc. 2019 Q2 - Results - Earnings Call Slides\n",
      "Conduent Incorporated (CNDT) CEO Cliff Skelton on Q2 2019 Results - Earnings Call Transcript\n",
      "Rayonier Advanced Materials Inc. 2019 Q2 - Results - Earnings Call Slides\n",
      "OTC Markets Group Inc. 2019 Q2 - Results - Earnings Call Slides\n",
      "Caladrius Biosciences, Inc. (CLBS) CEO David Mazzo on Q2 2019 Results - Earnings Call Transcript\n",
      "Schweitzer-Mauduit International, Inc. 2019 Q2 - Results - Earnings Call Slides\n",
      "Taseko Mines Limited (TGB) CEO Russ Hallbauer on Q2 2019 Results - Earnings Call Transcript\n",
      "Why Cushing Energy Income Fund's 90.6% Loss Was Easy To Predict\n",
      "PlayAGS, Inc. 2019 Q2 - Results - Earnings Call Slides\n",
      "Golub Capital BDC, Inc. (GBDC) CEO David Golub on Q3 2019 Results - Earnings Call Transcript\n",
      "Callaway Golf Company 2019 Q2 - Results - Earnings Call Slides\n",
      "EnerSys 2020 Q1 - Results - Earnings Call Slides\n",
      "Hostess Brands, Inc. 2019 Q2 - Results - Earnings Call Slides\n",
      "LendingClub: Hard To Comprehend\n",
      "Abraxas Petroleum Corporation (AXAS) CEO Bob Watson on Q2 2019 Results - Earnings Call Transcript\n",
      "Synacor, Inc. 2019 Q2 - Results - Earnings Call Slides\n",
      "Five Prime Therapeutics, Inc. 2019 Q2 - Results - Earnings Call Slides\n",
      "Eastman Kodak Company 2019 Q2 - Results - Earnings Call Slides\n",
      "Matson, Inc. 2019 Q2 - Results - Earnings Call Slides\n",
      "Conduent Incorporated 2019 Q2 - Results - Earnings Call Slides\n",
      "Glencore's Mutanda Mine Closure Could Cripple Or Kill Tesla\n",
      "TPI Composites, Inc. 2019 Q2 - Results - Earnings Call Slides\n",
      "And I Thought Ketchup Was A Major Food Group: Kraft Heinz Still Suffering\n",
      "NV5 Global, Inc. 2019 Q2 - Results - Earnings Call Slides\n",
      "Wirecard AG (WRCDF) CEO Markus Braun on Q2 2019 Results - Earnings Call Transcript\n",
      "Magyar Telekom Távközlési Nyilvánosan Müködö Részvénytársaság 2019 Q2 - Results - Earnings Call Slides\n",
      "Coca Cola Icecek Sanayi As ADR 2019 Q2 - Results - Earnings Call Slides\n",
      "Activision Blizzard, Inc. 2019 Q2 - Results - Earnings Call Slides\n"
     ]
    }
   ],
   "source": [
    "titles = tree.findall('.//item/title')\n",
    "for title in titles:\n",
    "    print(title.text)"
   ]
  },
  {
   "cell_type": "code",
   "execution_count": 35,
   "metadata": {},
   "outputs": [
    {
     "name": "stdout",
     "output_type": "stream",
     "text": [
      "Link for category TBT is https://seekingalpha.com/symbol/TBT\n",
      "Link for category TLT is https://seekingalpha.com/symbol/TLT\n",
      "Link for category TMV is https://seekingalpha.com/symbol/TMV\n",
      "Link for category IEF is https://seekingalpha.com/symbol/IEF\n",
      "Link for category SHY is https://seekingalpha.com/symbol/SHY\n",
      "Link for category TBF is https://seekingalpha.com/symbol/TBF\n",
      "Link for category EDV is https://seekingalpha.com/symbol/EDV\n",
      "Link for category TMF is https://seekingalpha.com/symbol/TMF\n",
      "Link for category PST is https://seekingalpha.com/symbol/PST\n",
      "Link for category TTT is https://seekingalpha.com/symbol/TTT\n",
      "Link for category ZROZ is https://seekingalpha.com/symbol/ZROZ\n",
      "Link for category VGLT is https://seekingalpha.com/symbol/VGLT\n",
      "Link for category TLH is https://seekingalpha.com/symbol/TLH\n",
      "Link for category IEI is https://seekingalpha.com/symbol/IEI\n",
      "Link for category BIL is https://seekingalpha.com/symbol/BIL\n",
      "Link for category TYO is https://seekingalpha.com/symbol/TYO\n",
      "Link for category UBT is https://seekingalpha.com/symbol/UBT\n",
      "Link for category UST is https://seekingalpha.com/symbol/UST\n",
      "Link for category DLBS is https://seekingalpha.com/symbol/DLBS\n",
      "Link for category PLW is https://seekingalpha.com/symbol/PLW\n",
      "Link for category DTYS is https://seekingalpha.com/symbol/DTYS\n",
      "Link for category VGSH is https://seekingalpha.com/symbol/VGSH\n",
      "Link for category SHV is https://seekingalpha.com/symbol/SHV\n",
      "Link for category VGIT is https://seekingalpha.com/symbol/VGIT\n",
      "Link for category GOVT is https://seekingalpha.com/symbol/GOVT\n",
      "Link for category SCHO is https://seekingalpha.com/symbol/SCHO\n",
      "Link for category TBX is https://seekingalpha.com/symbol/TBX\n",
      "Link for category SCHR is https://seekingalpha.com/symbol/SCHR\n",
      "Link for category ITE is https://seekingalpha.com/symbol/ITE\n",
      "Link for category GSY is https://seekingalpha.com/symbol/GSY\n",
      "Link for category TYD is https://seekingalpha.com/symbol/TYD\n",
      "Link for category DTYL is https://seekingalpha.com/symbol/DTYL\n",
      "Link for category EGF is https://seekingalpha.com/symbol/EGF\n",
      "Link for category VUSTX is https://seekingalpha.com/symbol/VUSTX\n",
      "Link for category TYBS is https://seekingalpha.com/symbol/TYBS\n",
      "Link for category DTUS is https://seekingalpha.com/symbol/DTUS\n",
      "Link for category TUZ is https://seekingalpha.com/symbol/TUZ\n",
      "Link for category DTUL is https://seekingalpha.com/symbol/DTUL\n",
      "Link for category DFVL is https://seekingalpha.com/symbol/DFVL\n",
      "Link for category TAPR is https://seekingalpha.com/symbol/TAPR\n",
      "Link for category DFVS is https://seekingalpha.com/symbol/DFVS\n",
      "Link for category TYNS is https://seekingalpha.com/symbol/TYNS\n",
      "Link for category RISE is https://seekingalpha.com/symbol/RISE\n",
      "Link for category FIBR is https://seekingalpha.com/symbol/FIBR\n",
      "Link for category GBIL is https://seekingalpha.com/symbol/GBIL\n",
      "Link for category HYDD is https://seekingalpha.com/symbol/HYDD\n",
      "Link for category UDN is https://seekingalpha.com/symbol/UDN\n",
      "Link for category USDU is https://seekingalpha.com/symbol/USDU\n",
      "Link for category UUP is https://seekingalpha.com/symbol/UUP\n",
      "Link for category RINF is https://seekingalpha.com/symbol/RINF\n",
      "Link for category EGDFF is https://seekingalpha.com/symbol/EGDFF\n",
      "Link for category ISVLF is https://seekingalpha.com/symbol/ISVLF\n",
      "Link for category SQ is https://seekingalpha.com/symbol/SQ\n",
      "Link for category USO is https://seekingalpha.com/symbol/USO\n",
      "Link for category EXC is https://seekingalpha.com/symbol/EXC\n",
      "Link for category DUK is https://seekingalpha.com/symbol/DUK\n",
      "Link for category NVTA is https://seekingalpha.com/symbol/NVTA\n",
      "Link for category FE is https://seekingalpha.com/symbol/FE\n",
      "Link for category AGR is https://seekingalpha.com/symbol/AGR\n",
      "Link for category CELP is https://seekingalpha.com/symbol/CELP\n",
      "Link for category AEP is https://seekingalpha.com/symbol/AEP\n",
      "Link for category FOCS is https://seekingalpha.com/symbol/FOCS\n",
      "Link for category ARCT is https://seekingalpha.com/symbol/ARCT\n",
      "Link for category BBAGF is https://seekingalpha.com/symbol/BBAGF\n",
      "Link for category GSK is https://seekingalpha.com/symbol/GSK\n",
      "Link for category MRK is https://seekingalpha.com/symbol/MRK\n",
      "Link for category TBIO is https://seekingalpha.com/symbol/TBIO\n",
      "Link for category MRNA is https://seekingalpha.com/symbol/MRNA\n",
      "Link for category MGY is https://seekingalpha.com/symbol/MGY\n",
      "Link for category SYY is https://seekingalpha.com/symbol/SYY\n",
      "Link for category LITE is https://seekingalpha.com/symbol/LITE\n",
      "Link for category AAPL is https://seekingalpha.com/symbol/AAPL\n",
      "Link for category TRUP is https://seekingalpha.com/symbol/TRUP\n",
      "Link for category WFCF is https://seekingalpha.com/symbol/WFCF\n",
      "Link for category CAAP is https://seekingalpha.com/symbol/CAAP\n",
      "Link for category ASR is https://seekingalpha.com/symbol/ASR\n",
      "Link for category DLAKF is https://seekingalpha.com/symbol/DLAKF\n",
      "Link for category DLAKY is https://seekingalpha.com/symbol/DLAKY\n",
      "Link for category OMAB is https://seekingalpha.com/symbol/OMAB\n",
      "Link for category PAC is https://seekingalpha.com/symbol/PAC\n",
      "Link for category FPRUF is https://seekingalpha.com/symbol/FPRUF\n",
      "Link for category FPRUY is https://seekingalpha.com/symbol/FPRUY\n",
      "Link for category OESX is https://seekingalpha.com/symbol/OESX\n",
      "Link for category PRU is https://seekingalpha.com/symbol/PRU\n",
      "Link for category MGY is https://seekingalpha.com/symbol/MGY\n",
      "Link for category STZ is https://seekingalpha.com/symbol/STZ\n",
      "Link for category CHRA is https://seekingalpha.com/symbol/CHRA\n",
      "Link for category TGEN is https://seekingalpha.com/symbol/TGEN\n",
      "Link for category CHAP is https://seekingalpha.com/symbol/CHAP\n",
      "Link for category SCON is https://seekingalpha.com/symbol/SCON\n",
      "Link for category GECC is https://seekingalpha.com/symbol/GECC\n",
      "Link for category VOD is https://seekingalpha.com/symbol/VOD\n"
     ]
    }
   ],
   "source": [
    "cats = tree.findall('.//category/[@type=\"symbol\"]')\n",
    "for cat in cats:\n",
    "    print(f'Link for category {cat.text} is {cat.attrib[\"link\"]}')"
   ]
  }
 ],
 "metadata": {
  "kernelspec": {
   "display_name": "Python 3",
   "language": "python",
   "name": "python3"
  },
  "language_info": {
   "codemirror_mode": {
    "name": "ipython",
    "version": 3
   },
   "file_extension": ".py",
   "mimetype": "text/x-python",
   "name": "python",
   "nbconvert_exporter": "python",
   "pygments_lexer": "ipython3",
   "version": "3.7.3"
  }
 },
 "nbformat": 4,
 "nbformat_minor": 1
}
