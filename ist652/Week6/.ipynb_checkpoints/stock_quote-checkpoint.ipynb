{
 "cells": [
  {
   "cell_type": "code",
   "execution_count": 5,
   "metadata": {},
   "outputs": [],
   "source": [
    "import requests\n",
    "import json\n",
    "import os\n",
    "import pandas as pd\n",
    "from pathlib import Path"
   ]
  },
  {
   "cell_type": "code",
   "execution_count": 6,
   "metadata": {},
   "outputs": [],
   "source": [
    "cur_path = os.getcwd()\n",
    "token_file_name = Path(cur_path).joinpath('iex.txt')\n",
    "\n",
    "IEX_TOKEN = contents = Path(token_file_name).read_text().strip()\n",
    "IEX_URL= 'https://cloud.iexapis.com/stable/stock/{}/quote?token='+IEX_TOKEN"
   ]
  },
  {
   "cell_type": "code",
   "execution_count": 7,
   "metadata": {
    "scrolled": true
   },
   "outputs": [],
   "source": [
    "def get_quote(stock_symbol):\n",
    "    quote_url = IEX_URL.format(stock_symbol)\n",
    "    #print(quote_url)\n",
    "    response = requests.get(quote_url)\n",
    "    quote = json.loads(response.text)\n",
    "    stock_symbol, stock_company, stock_high, stock_low, stock_open = quote[\"symbol\"], quote[\"companyName\"], quote[\"week52High\"], quote[\"week52Low\"], quote[\"latestPrice\"]\n",
    "    return stock_symbol, stock_company, stock_high, stock_low, stock_open\n",
    "\n",
    "stock_symbols = {'AAPL', 'NVDA', 'AMD', 'XLNX'}\n",
    "stock_quotes = []\n",
    "for stock_symbol in stock_symbols:\n",
    "    quote_url = IEX_URL.format(stock_symbol)\n",
    "    stock_symbol, stock_company, stock_high, stock_low, stock_open = get_quote(stock_symbol)        \n",
    "    stock_quotes.append([stock_symbol, stock_company, stock_high, stock_low, stock_open])\n"
   ]
  },
  {
   "cell_type": "code",
   "execution_count": 8,
   "metadata": {},
   "outputs": [
    {
     "name": "stdout",
     "output_type": "stream",
     "text": [
      "  Symbol                       Company    High     Low     Open\n",
      "0    AMD  Advanced Micro Devices, Inc.   35.55   16.03   31.725\n",
      "1   AAPL                   Apple, Inc.  233.47  142.00  212.580\n",
      "2   NVDA                  NVIDIA Corp.  292.76  124.46  171.810\n",
      "3   XLNX                  Xilinx, Inc.  141.60   68.76  104.990\n"
     ]
    }
   ],
   "source": [
    "stock_quote_df = pd.DataFrame(stock_quotes)\n",
    "stock_quote_df.columns = ['Symbol','Company', 'High', 'Low','Open']\n",
    "print(stock_quote_df)\n"
   ]
  },
  {
   "cell_type": "code",
   "execution_count": 23,
   "metadata": {},
   "outputs": [
    {
     "data": {
      "text/html": [
       "<div>\n",
       "<style scoped>\n",
       "    .dataframe tbody tr th:only-of-type {\n",
       "        vertical-align: middle;\n",
       "    }\n",
       "\n",
       "    .dataframe tbody tr th {\n",
       "        vertical-align: top;\n",
       "    }\n",
       "\n",
       "    .dataframe thead th {\n",
       "        text-align: right;\n",
       "    }\n",
       "</style>\n",
       "<table border=\"1\" class=\"dataframe\">\n",
       "  <thead>\n",
       "    <tr style=\"text-align: right;\">\n",
       "      <th></th>\n",
       "      <th>0</th>\n",
       "      <th>1</th>\n",
       "      <th>2</th>\n",
       "      <th>3</th>\n",
       "      <th>4</th>\n",
       "    </tr>\n",
       "  </thead>\n",
       "  <tbody>\n",
       "    <tr>\n",
       "      <th>0</th>\n",
       "      <td>AMD</td>\n",
       "      <td>Advanced Micro Devices, Inc.</td>\n",
       "      <td>35.55</td>\n",
       "      <td>16.03</td>\n",
       "      <td>31.795</td>\n",
       "    </tr>\n",
       "    <tr>\n",
       "      <th>1</th>\n",
       "      <td>AAPL</td>\n",
       "      <td>Apple, Inc.</td>\n",
       "      <td>233.47</td>\n",
       "      <td>142.00</td>\n",
       "      <td>212.585</td>\n",
       "    </tr>\n",
       "    <tr>\n",
       "      <th>2</th>\n",
       "      <td>NVDA</td>\n",
       "      <td>NVIDIA Corp.</td>\n",
       "      <td>292.76</td>\n",
       "      <td>124.46</td>\n",
       "      <td>171.750</td>\n",
       "    </tr>\n",
       "    <tr>\n",
       "      <th>3</th>\n",
       "      <td>XLNX</td>\n",
       "      <td>Xilinx, Inc.</td>\n",
       "      <td>141.60</td>\n",
       "      <td>68.76</td>\n",
       "      <td>104.760</td>\n",
       "    </tr>\n",
       "  </tbody>\n",
       "</table>\n",
       "</div>"
      ],
      "text/plain": [
       "      0                             1       2       3        4\n",
       "0   AMD  Advanced Micro Devices, Inc.   35.55   16.03   31.795\n",
       "1  AAPL                   Apple, Inc.  233.47  142.00  212.585\n",
       "2  NVDA                  NVIDIA Corp.  292.76  124.46  171.750\n",
       "3  XLNX                  Xilinx, Inc.  141.60   68.76  104.760"
      ]
     },
     "execution_count": 23,
     "metadata": {},
     "output_type": "execute_result"
    }
   ],
   "source": [
    "# this version uses list comprehension\n",
    "stock_quotes2 = [get_quote(stock_symbol) for stock_symbol in stock_symbols]\n",
    "stock_quote_df2 = pd.DataFrame(stock_quotes2)\n",
    "stock_quote_df2"
   ]
  },
  {
   "cell_type": "code",
   "execution_count": 24,
   "metadata": {},
   "outputs": [
    {
     "data": {
      "text/html": [
       "<div>\n",
       "<style scoped>\n",
       "    .dataframe tbody tr th:only-of-type {\n",
       "        vertical-align: middle;\n",
       "    }\n",
       "\n",
       "    .dataframe tbody tr th {\n",
       "        vertical-align: top;\n",
       "    }\n",
       "\n",
       "    .dataframe thead th {\n",
       "        text-align: right;\n",
       "    }\n",
       "</style>\n",
       "<table border=\"1\" class=\"dataframe\">\n",
       "  <thead>\n",
       "    <tr style=\"text-align: right;\">\n",
       "      <th></th>\n",
       "      <th>0</th>\n",
       "      <th>1</th>\n",
       "      <th>2</th>\n",
       "      <th>3</th>\n",
       "      <th>4</th>\n",
       "    </tr>\n",
       "  </thead>\n",
       "  <tbody>\n",
       "    <tr>\n",
       "      <th>0</th>\n",
       "      <td>AMD</td>\n",
       "      <td>Advanced Micro Devices, Inc.</td>\n",
       "      <td>35.55</td>\n",
       "      <td>16.03</td>\n",
       "      <td>31.765</td>\n",
       "    </tr>\n",
       "    <tr>\n",
       "      <th>1</th>\n",
       "      <td>AAPL</td>\n",
       "      <td>Apple, Inc.</td>\n",
       "      <td>233.47</td>\n",
       "      <td>142.00</td>\n",
       "      <td>212.565</td>\n",
       "    </tr>\n",
       "    <tr>\n",
       "      <th>2</th>\n",
       "      <td>NVDA</td>\n",
       "      <td>NVIDIA Corp.</td>\n",
       "      <td>292.76</td>\n",
       "      <td>124.46</td>\n",
       "      <td>171.775</td>\n",
       "    </tr>\n",
       "    <tr>\n",
       "      <th>3</th>\n",
       "      <td>XLNX</td>\n",
       "      <td>Xilinx, Inc.</td>\n",
       "      <td>141.60</td>\n",
       "      <td>68.76</td>\n",
       "      <td>104.750</td>\n",
       "    </tr>\n",
       "  </tbody>\n",
       "</table>\n",
       "</div>"
      ],
      "text/plain": [
       "      0                             1       2       3        4\n",
       "0   AMD  Advanced Micro Devices, Inc.   35.55   16.03   31.765\n",
       "1  AAPL                   Apple, Inc.  233.47  142.00  212.565\n",
       "2  NVDA                  NVIDIA Corp.  292.76  124.46  171.775\n",
       "3  XLNX                  Xilinx, Inc.  141.60   68.76  104.750"
      ]
     },
     "execution_count": 24,
     "metadata": {},
     "output_type": "execute_result"
    }
   ],
   "source": [
    "# this version uses lambda\n",
    "stock_quotes3 = map(lambda stock_symbol: get_quote(stock_symbol), stock_symbols)\n",
    "stock_quote_df3 = pd.DataFrame(stock_quotes3)\n",
    "stock_quote_df3\n"
   ]
  },
  {
   "cell_type": "code",
   "execution_count": null,
   "metadata": {},
   "outputs": [],
   "source": []
  }
 ],
 "metadata": {
  "kernelspec": {
   "display_name": "Python 3",
   "language": "python",
   "name": "python3"
  },
  "language_info": {
   "codemirror_mode": {
    "name": "ipython",
    "version": 3
   },
   "file_extension": ".py",
   "mimetype": "text/x-python",
   "name": "python",
   "nbconvert_exporter": "python",
   "pygments_lexer": "ipython3",
   "version": "3.7.3"
  }
 },
 "nbformat": 4,
 "nbformat_minor": 2
}
