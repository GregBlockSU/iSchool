{
 "cells": [
  {
   "cell_type": "code",
   "execution_count": 4,
   "metadata": {},
   "outputs": [],
   "source": [
    "import requests\n",
    "import json\n"
   ]
  },
  {
   "cell_type": "code",
   "execution_count": 24,
   "metadata": {},
   "outputs": [
    {
     "name": "stdout",
     "output_type": "stream",
     "text": [
      "\n",
      "Symbol AAPL, company Apple Inc. belongs to sector Technology and opened at 191.72\n",
      "\n",
      "Symbol NVDA, company NVIDIA Corporation belongs to sector Technology and opened at 193.49\n",
      "\n",
      "Symbol XLNX, company Xilinx Inc. belongs to sector Technology and opened at 83.67\n",
      "\n",
      "Symbol AMD, company Advanced Micro Devices Inc. belongs to sector Technology and opened at 19.36\n"
     ]
    }
   ],
   "source": [
    "stock_symbols = {'AAPL', 'NVDA', 'AMD', 'XLNX'}\n",
    "stock_quotes = []\n",
    "for stock_symbol in stock_symbols:\n",
    "    quote_url = 'https://api.iextrading.com/1.0/stock/' + stock_symbol + '/quote'\n",
    "    response = requests.get(quote_url)\n",
    "    quote = json.loads(response.text)\n",
    "    stock_quotes.append([quote[\"symbol\"], quote[\"companyName\"], quote[\"sector\"], quote[\"open\"]])\n",
    "\n",
    "for stock_symbol, stock_company, stock_sector, stock_open in stock_quotes:\n",
    "    print(f'\\nSymbol {stock_symbol}, company {stock_company} belongs to sector {stock_sector} and opened at {stock_open}')"
   ]
  },
  {
   "cell_type": "code",
   "execution_count": 15,
   "metadata": {},
   "outputs": [
    {
     "name": "stdout",
     "output_type": "stream",
     "text": [
      "\n",
      "Symbol AAPL, company Apple Inc. belongs to sector Technology and opened at 191.72\n"
     ]
    }
   ],
   "source": []
  },
  {
   "cell_type": "code",
   "execution_count": 26,
   "metadata": {},
   "outputs": [
    {
     "name": "stdout",
     "output_type": "stream",
     "text": [
      "{\n",
      "    \"avgTotalVolume\": 115631554,\n",
      "    \"calculationPrice\": \"tops\",\n",
      "    \"change\": 0.44,\n",
      "    \"changePercent\": 0.02312,\n",
      "    \"close\": 19.03,\n",
      "    \"closeTime\": 1542056400568,\n",
      "    \"companyName\": \"Advanced Micro Devices Inc.\",\n",
      "    \"delayedPrice\": 19.49,\n",
      "    \"delayedPriceTime\": 1542139279277,\n",
      "    \"extendedChange\": 0,\n",
      "    \"extendedChangePercent\": 0,\n",
      "    \"extendedPrice\": 19.47,\n",
      "    \"extendedPriceTime\": 1542140168647,\n",
      "    \"high\": 20.02,\n",
      "    \"iexAskPrice\": 19.45,\n",
      "    \"iexAskSize\": 200,\n",
      "    \"iexBidPrice\": 16.2,\n",
      "    \"iexBidSize\": 100,\n",
      "    \"iexLastUpdated\": 1542140168647,\n",
      "    \"iexMarketPercent\": 0.01053,\n",
      "    \"iexRealtimePrice\": 19.47,\n",
      "    \"iexRealtimeSize\": 100,\n",
      "    \"iexVolume\": 708839,\n",
      "    \"latestPrice\": 19.47,\n",
      "    \"latestSource\": \"IEX real time price\",\n",
      "    \"latestTime\": \"3:16:08 PM\",\n",
      "    \"latestUpdate\": 1542140168647,\n",
      "    \"latestVolume\": 67316144,\n",
      "    \"low\": 18.97,\n",
      "    \"marketCap\": 19458458496,\n",
      "    \"open\": 19.36,\n",
      "    \"openTime\": 1542119400780,\n",
      "    \"peRatio\": 54.08,\n",
      "    \"previousClose\": 19.03,\n",
      "    \"primaryExchange\": \"Nasdaq Global Select\",\n",
      "    \"sector\": \"Technology\",\n",
      "    \"symbol\": \"AMD\",\n",
      "    \"week52High\": 34.14,\n",
      "    \"week52Low\": 9.04,\n",
      "    \"ytdChange\": 0.7562711839708561\n",
      "}\n"
     ]
    }
   ],
   "source": [
    "res = json.dumps(quote, indent=4, sort_keys=True)\n",
    "print(res)"
   ]
  },
  {
   "cell_type": "code",
   "execution_count": null,
   "metadata": {},
   "outputs": [],
   "source": []
  }
 ],
 "metadata": {
  "kernelspec": {
   "display_name": "Python 3",
   "language": "python",
   "name": "python3"
  },
  "language_info": {
   "codemirror_mode": {
    "name": "ipython",
    "version": 3
   },
   "file_extension": ".py",
   "mimetype": "text/x-python",
   "name": "python",
   "nbconvert_exporter": "python",
   "pygments_lexer": "ipython3",
   "version": "3.7.0"
  }
 },
 "nbformat": 4,
 "nbformat_minor": 2
}
