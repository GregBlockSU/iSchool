{
 "cells": [
  {
   "cell_type": "code",
   "execution_count": 1,
   "metadata": {},
   "outputs": [],
   "source": [
    "import requests\n",
    "import json\n",
    "import os\n",
    "import pandas as pd\n",
    "from pathlib import Path"
   ]
  },
  {
   "cell_type": "code",
   "execution_count": 3,
   "metadata": {},
   "outputs": [],
   "source": [
    "cur_path = os.getcwd()\n",
    "token_file_name = Path(cur_path).joinpath('iex.txt')\n",
    "\n",
    "IEX_TOKEN = contents = Path(token_file_name).read_text().strip()\n",
    "IEX_URL= 'https://cloud.iexapis.com/stable/stock/{}/quote?token='+IEX_TOKEN"
   ]
  },
  {
   "cell_type": "code",
   "execution_count": 5,
   "metadata": {
    "scrolled": true
   },
   "outputs": [],
   "source": [
    "def get_quote(stock_symbol):\n",
    "    quote_url = IEX_URL.format(stock_symbol)\n",
    "    #print(quote_url)\n",
    "    response = requests.get(quote_url)\n",
    "    quote = json.loads(response.text)\n",
    "    stock_symbol, stock_company, stock_high, stock_low, stock_open = quote[\"symbol\"], quote[\"companyName\"], quote[\"week52High\"], quote[\"week52Low\"], quote[\"latestPrice\"]\n",
    "    return stock_symbol, stock_company, stock_high, stock_low, stock_open\n",
    "\n",
    "stock_symbols = {'AAPL', 'NVDA', 'AMD', 'XLNX'}\n",
    "stock_quotes = []\n",
    "for stock_symbol in stock_symbols:\n",
    "    quote_url = IEX_URL.format(stock_symbol)\n",
    "    stock_symbol, stock_company, stock_high, stock_low, stock_open = get_quote(stock_symbol)        \n",
    "    stock_quotes.append([stock_symbol, stock_company, stock_high, stock_low, stock_open])\n"
   ]
  },
  {
   "cell_type": "code",
   "execution_count": 6,
   "metadata": {},
   "outputs": [
    {
     "name": "stdout",
     "output_type": "stream",
     "text": [
      "  Symbol                       Company    High     Low    Open\n",
      "0   AAPL                   Apple, Inc.  233.47  142.00  203.43\n",
      "1    AMD  Advanced Micro Devices, Inc.   34.86   16.03   33.92\n",
      "2   XLNX                  Xilinx, Inc.  141.60   68.76  109.84\n",
      "3   NVDA                  NVIDIA Corp.  292.76  124.46  158.26\n"
     ]
    }
   ],
   "source": [
    "stock_quote_df = pd.DataFrame(stock_quotes)\n",
    "stock_quote_df.columns = ['Symbol','Company', 'High', 'Low','Open']\n",
    "print(stock_quote_df)\n"
   ]
  },
  {
   "cell_type": "code",
   "execution_count": null,
   "metadata": {},
   "outputs": [],
   "source": []
  }
 ],
 "metadata": {
  "kernelspec": {
   "display_name": "Python 3",
   "language": "python",
   "name": "python3"
  },
  "language_info": {
   "codemirror_mode": {
    "name": "ipython",
    "version": 3
   },
   "file_extension": ".py",
   "mimetype": "text/x-python",
   "name": "python",
   "nbconvert_exporter": "python",
   "pygments_lexer": "ipython3",
   "version": "3.7.3"
  }
 },
 "nbformat": 4,
 "nbformat_minor": 2
}
