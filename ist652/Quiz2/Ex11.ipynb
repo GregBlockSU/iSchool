{
 "cells": [
  {
   "cell_type": "code",
   "execution_count": 44,
   "metadata": {},
   "outputs": [
    {
     "name": "stdout",
     "output_type": "stream",
     "text": [
      "                01.01.89    01.01.90  01.01.91  01.01.92  01.01.93  01.01.94  \\\n",
      "Austria          7602431   7660345.0   7790957   7860800   7909575   7943652   \n",
      "Belgium          9927600   9947800.0   9987000  10068319  10100631  10130574   \n",
      "Denmark          5129800   5135400.0   5146500   5162100   5180614   5191000   \n",
      "Finland          4954359   4974383.0   4998478   5029300   5054982   5098754   \n",
      "France          56269800         NaN  56893000  57217500  57529577  57847000   \n",
      "Germany         61715000  62678000.0  79753000  80238000  81338000  81353000   \n",
      "Iceland           253500    255708.0    259577    262193    264922    266783   \n",
      "Ireland          3526600   3505500.0   3519000   3542000   3559985   3570700   \n",
      "Italy           57504700  57576400.0  57746200  57788200  57114161  57201800   \n",
      "Luxemburg         374900    379300.0    384400    389800    395200    400000   \n",
      "Netherland      14805240  14892574.0  15010445  15129200  15354000  15341553   \n",
      "Norway           4226901   4241473.0   4261930   4273634   4324577   4348410   \n",
      "Portugal        10304700         NaN   9858500   9846000   9987500   9776000   \n",
      "Spain           38851900  38924500.0  38993800  39055900  39790955  39177400   \n",
      "Sweden           8458890   8527040.0   8590630   8644100   8700000   8749000   \n",
      "Switzerland      6619973   6673850.0   6750693   6831900   6871500   7021200   \n",
      "United Kingdom  57236200  57410600.0  57649200  58888800  58191230  58380000   \n",
      "\n",
      "                01.01.95  \n",
      "Austria          8054800  \n",
      "Belgium         10143047  \n",
      "Denmark          5251027  \n",
      "Finland          5116800  \n",
      "France          58265400  \n",
      "Germany         81845000  \n",
      "Iceland           267806  \n",
      "Ireland          3591200  \n",
      "Italy           57268578  \n",
      "Luxemburg         412800  \n",
      "Netherland      15492800  \n",
      "Norway           4370000  \n",
      "Portugal         9920800  \n",
      "Spain           39241900  \n",
      "Sweden           8837000  \n",
      "Switzerland      7060400  \n",
      "United Kingdom  58684000  \n"
     ]
    }
   ],
   "source": [
    "# Import pandas, define data file, and read in data file, display data frame\n",
    "import pandas as pd\n",
    "source_file = 'eur.pop.rev.csv'\n",
    "pops = pd.read_csv(source_file, skiprows = 2, nrows = 17)\n",
    "print(pops)"
   ]
  },
  {
   "cell_type": "code",
   "execution_count": 45,
   "metadata": {},
   "outputs": [
    {
     "name": "stdout",
     "output_type": "stream",
     "text": [
      "                01.01.89    01.01.90  01.01.91  01.01.92  01.01.93  01.01.94  \\\n",
      "Austria          7602431   7660345.0   7790957   7860800   7909575   7943652   \n",
      "Belgium          9927600   9947800.0   9987000  10068319  10100631  10130574   \n",
      "Denmark          5129800   5135400.0   5146500   5162100   5180614   5191000   \n",
      "Finland          4954359   4974383.0   4998478   5029300   5054982   5098754   \n",
      "France          56269800         0.0  56893000  57217500  57529577  57847000   \n",
      "Germany         61715000  62678000.0  79753000  80238000  81338000  81353000   \n",
      "Iceland           253500    255708.0    259577    262193    264922    266783   \n",
      "Ireland          3526600   3505500.0   3519000   3542000   3559985   3570700   \n",
      "Italy           57504700  57576400.0  57746200  57788200  57114161  57201800   \n",
      "Luxemburg         374900    379300.0    384400    389800    395200    400000   \n",
      "Netherland      14805240  14892574.0  15010445  15129200  15354000  15341553   \n",
      "Norway           4226901   4241473.0   4261930   4273634   4324577   4348410   \n",
      "Portugal        10304700         0.0   9858500   9846000   9987500   9776000   \n",
      "Spain           38851900  38924500.0  38993800  39055900  39790955  39177400   \n",
      "Sweden           8458890   8527040.0   8590630   8644100   8700000   8749000   \n",
      "Switzerland      6619973   6673850.0   6750693   6831900   6871500   7021200   \n",
      "United Kingdom  57236200  57410600.0  57649200  58888800  58191230  58380000   \n",
      "\n",
      "                01.01.95  \n",
      "Austria          8054800  \n",
      "Belgium         10143047  \n",
      "Denmark          5251027  \n",
      "Finland          5116800  \n",
      "France          58265400  \n",
      "Germany         81845000  \n",
      "Iceland           267806  \n",
      "Ireland          3591200  \n",
      "Italy           57268578  \n",
      "Luxemburg         412800  \n",
      "Netherland      15492800  \n",
      "Norway           4370000  \n",
      "Portugal         9920800  \n",
      "Spain           39241900  \n",
      "Sweden           8837000  \n",
      "Switzerland      7060400  \n",
      "United Kingdom  58684000  \n"
     ]
    }
   ],
   "source": [
    "# replace NAs with 0\n",
    "pops = pops.fillna(value = 0)\n",
    "print(pops)"
   ]
  },
  {
   "cell_type": "code",
   "execution_count": 47,
   "metadata": {},
   "outputs": [
    {
     "name": "stdout",
     "output_type": "stream",
     "text": [
      "                    1989        1990      1991      1992      1993      1994  \\\n",
      "Austria          7602431   7660345.0   7790957   7860800   7909575   7943652   \n",
      "Belgium          9927600   9947800.0   9987000  10068319  10100631  10130574   \n",
      "Denmark          5129800   5135400.0   5146500   5162100   5180614   5191000   \n",
      "Finland          4954359   4974383.0   4998478   5029300   5054982   5098754   \n",
      "France          56269800         0.0  56893000  57217500  57529577  57847000   \n",
      "Germany         61715000  62678000.0  79753000  80238000  81338000  81353000   \n",
      "Iceland           253500    255708.0    259577    262193    264922    266783   \n",
      "Ireland          3526600   3505500.0   3519000   3542000   3559985   3570700   \n",
      "Italy           57504700  57576400.0  57746200  57788200  57114161  57201800   \n",
      "Luxemburg         374900    379300.0    384400    389800    395200    400000   \n",
      "Netherland      14805240  14892574.0  15010445  15129200  15354000  15341553   \n",
      "Norway           4226901   4241473.0   4261930   4273634   4324577   4348410   \n",
      "Portugal        10304700         0.0   9858500   9846000   9987500   9776000   \n",
      "Spain           38851900  38924500.0  38993800  39055900  39790955  39177400   \n",
      "Sweden           8458890   8527040.0   8590630   8644100   8700000   8749000   \n",
      "Switzerland      6619973   6673850.0   6750693   6831900   6871500   7021200   \n",
      "United Kingdom  57236200  57410600.0  57649200  58888800  58191230  58380000   \n",
      "\n",
      "                    1995  \n",
      "Austria          8054800  \n",
      "Belgium         10143047  \n",
      "Denmark          5251027  \n",
      "Finland          5116800  \n",
      "France          58265400  \n",
      "Germany         81845000  \n",
      "Iceland           267806  \n",
      "Ireland          3591200  \n",
      "Italy           57268578  \n",
      "Luxemburg         412800  \n",
      "Netherland      15492800  \n",
      "Norway           4370000  \n",
      "Portugal         9920800  \n",
      "Spain           39241900  \n",
      "Sweden           8837000  \n",
      "Switzerland      7060400  \n",
      "United Kingdom  58684000  \n"
     ]
    }
   ],
   "source": [
    "# change the column names so they are more meaningful\n",
    "pops.columns = ['1989','1990','1991','1992','1993','1994','1995']\n",
    "print(pops)"
   ]
  },
  {
   "cell_type": "code",
   "execution_count": 48,
   "metadata": {},
   "outputs": [
    {
     "name": "stdout",
     "output_type": "stream",
     "text": [
      "Austria\n",
      "Belgium\n",
      "Denmark\n",
      "Finland\n",
      "France\n",
      "Germany\n",
      "Ireland\n",
      "Italy\n",
      "Netherland\n",
      "Norway\n",
      "Portugal\n",
      "Spain\n",
      "Sweden\n",
      "Switzerland\n",
      "United Kingdom\n"
     ]
    }
   ],
   "source": [
    "# convert all the rows to numeric (except for the index)\n",
    "pops = df.apply(pd.to_numeric, errors='ignore')\n",
    "\n",
    "# filter the data frame by the countries whose 1995 populations exceeded 1 million\n",
    "one_mil = pops[pops['1995'] > 1000000]\n",
    "\n",
    "# now print each country\n",
    "for each in one_mil.index:\n",
    "    print(each)"
   ]
  },
  {
   "cell_type": "code",
   "execution_count": 49,
   "metadata": {},
   "outputs": [
    {
     "name": "stdout",
     "output_type": "stream",
     "text": [
      "The mean population for the United Kingdom is 58062861.0\n"
     ]
    }
   ],
   "source": [
    "# calculate the mean of all the countries\n",
    "pops['Mean'] = pops.mean(axis = 1)\n",
    "uk_mean = round(pops.at['United Kingdom', 'Mean'], 0)\n",
    "print(f'The mean population for the United Kingdom is {uk_mean}')\n"
   ]
  },
  {
   "cell_type": "code",
   "execution_count": null,
   "metadata": {},
   "outputs": [],
   "source": []
  }
 ],
 "metadata": {
  "kernelspec": {
   "display_name": "Python 3",
   "language": "python",
   "name": "python3"
  },
  "language_info": {
   "codemirror_mode": {
    "name": "ipython",
    "version": 3
   },
   "file_extension": ".py",
   "mimetype": "text/x-python",
   "name": "python",
   "nbconvert_exporter": "python",
   "pygments_lexer": "ipython3",
   "version": "3.7.0"
  }
 },
 "nbformat": 4,
 "nbformat_minor": 2
}
