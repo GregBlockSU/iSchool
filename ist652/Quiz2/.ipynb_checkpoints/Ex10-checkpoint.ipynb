{
 "cells": [
  {
   "cell_type": "code",
   "execution_count": 2,
   "metadata": {},
   "outputs": [
    {
     "name": "stdout",
     "output_type": "stream",
     "text": [
      "List the words with a frequency > 10\n",
      "the\n",
      "cats\n",
      "this\n",
      "class\n",
      "is\n",
      "List the words with a frequency > 20\n",
      "the\n",
      "class\n",
      "is\n",
      "List the words with a frequency > 50\n",
      "the\n",
      "is\n"
     ]
    }
   ],
   "source": [
    "def top_words(dist, threshold):\n",
    "    print(f'List the words with a frequency > {threshold}')\n",
    "    for x in filter(lambda x: dist[x] > threshold, dist):\n",
    "        print(x)\n",
    "\n",
    "word_freq = {'the':58, 'people':6, 'beautiful':8, 'cats':13, 'finally':9, 'this': 19, 'class': 21, 'is': 101, 'almost': 1, 'over':4}\n",
    "\n",
    "# threshold: 10\n",
    "top_words(word_freq, 10)\n",
    "\n",
    "# threshold: 20\n",
    "top_words(word_freq, 20)\n",
    "\n",
    "# threshold: 50\n",
    "top_words(word_freq, 50)"
   ]
  },
  {
   "cell_type": "code",
   "execution_count": null,
   "metadata": {},
   "outputs": [],
   "source": []
  }
 ],
 "metadata": {
  "kernelspec": {
   "display_name": "Python 3",
   "language": "python",
   "name": "python3"
  },
  "language_info": {
   "codemirror_mode": {
    "name": "ipython",
    "version": 3
   },
   "file_extension": ".py",
   "mimetype": "text/x-python",
   "name": "python",
   "nbconvert_exporter": "python",
   "pygments_lexer": "ipython3",
   "version": "3.7.0"
  }
 },
 "nbformat": 4,
 "nbformat_minor": 2
}
